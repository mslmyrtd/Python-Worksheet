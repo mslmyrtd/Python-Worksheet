{
 "cells": [
  {
   "cell_type": "markdown",
   "metadata": {
    "colab_type": "text",
    "id": "view-in-github"
   },
   "source": [
    "<a href=\"https://colab.research.google.com/github/mslmyrtd/Python-Worksheet/blob/main/Untitled.ipynb\" target=\"_parent\"><img src=\"https://colab.research.google.com/assets/colab-badge.svg\" alt=\"Open In Colab\"/></a>"
   ]
  },
  {
   "cell_type": "code",
   "execution_count": null,
   "metadata": {
    "id": "tpxutTCCgnO5",
    "outputId": "4228b422-20a8-4111-8e7f-65ab7f96d625"
   },
   "outputs": [
    {
     "name": "stdout",
     "output_type": "stream",
     "text": [
      "pp\n",
      "qq\n",
      "rr\n"
     ]
    }
   ],
   "source": [
    "for x in set('pqr'):\n",
    "    print(x*2)\n"
   ]
  },
  {
   "cell_type": "markdown",
   "metadata": {},
   "source": [
    "Create a function that takes two numbers and a mathematical operator + - / * and will perform a calculation with the given numbers."
   ]
  },
  {
   "cell_type": "code",
   "execution_count": 1,
   "metadata": {},
   "outputs": [
    {
     "name": "stdout",
     "output_type": "stream",
     "text": [
      "Can't divide zero\n"
     ]
    }
   ],
   "source": [
    "def calculator(a,c,b):\n",
    "  if c==\"+\":\n",
    "    print(a+b)\n",
    "      \n",
    "  elif c==\"-\":\n",
    "    print(a-b)\n",
    "      \n",
    "  elif c==\"*\":\n",
    "    print(a*b)\n",
    "  \n",
    "  try:\n",
    "    print(a/b)\n",
    "  except ZeroDivisionError:\n",
    "    print(\"Can't divide zero\")\n",
    "\n",
    "calculator(2,\"/\",0)"
   ]
  },
  {
   "cell_type": "markdown",
   "metadata": {},
   "source": [
    "Write a function that stutters a word as if someone is struggling to read it. The first two letters are repeated twice with an ellipsis ... and space after each, and then the word is pronounced with a question mark ?."
   ]
  },
  {
   "cell_type": "code",
   "execution_count": 3,
   "metadata": {},
   "outputs": [
    {
     "data": {
      "text/plain": [
       "'en... en... enthusiastic?'"
      ]
     },
     "execution_count": 3,
     "metadata": {},
     "output_type": "execute_result"
    }
   ],
   "source": [
    "def stutter(word):\n",
    "  \n",
    "  return word[0:2] + \"... \" + word[0:2] + \"... \" + word+\"?\"\n",
    "\n",
    "stutter(\"enthusiastic\")"
   ]
  },
  {
   "cell_type": "markdown",
   "metadata": {},
   "source": [
    "Find the Missing Number\n",
    "\n",
    "Create a function that takes a list of numbers between 1 and 10 (excluding one number) and returns the missing number.\n",
    "missing_num([1, 2, 3, 4, 6, 7, 8, 9, 10]) ➞ 5"
   ]
  },
  {
   "cell_type": "code",
   "execution_count": 4,
   "metadata": {},
   "outputs": [
    {
     "data": {
      "text/plain": [
       "7"
      ]
     },
     "execution_count": 4,
     "metadata": {},
     "output_type": "execute_result"
    }
   ],
   "source": [
    "def missing_num(lst):\n",
    "  k=[]\n",
    "  for i in range(1,11):\n",
    "    k.append(i)\n",
    "  for i in k:\n",
    "    if i not in lst:\n",
    "      return i\n",
    "\n",
    "missing_num([10, 5, 1, 2, 4, 6, 8, 3, 9])"
   ]
  },
  {
   "cell_type": "markdown",
   "metadata": {},
   "source": [
    "# Square Every Digit\n",
    "\n",
    "Create a function that squares every digit of a number.\n",
    "Examples\n",
    "square_digits(9119) ➞ 811181"
   ]
  },
  {
   "cell_type": "code",
   "execution_count": 5,
   "metadata": {},
   "outputs": [
    {
     "data": {
      "text/plain": [
       "14916"
      ]
     },
     "execution_count": 5,
     "metadata": {},
     "output_type": "execute_result"
    }
   ],
   "source": [
    "def square_digits(n):\n",
    "  n=str(n)\n",
    "  a=\"\"\n",
    "  for i in n:\n",
    "    a += str(int(i)**2)\n",
    "  return int(a)\n",
    "  \n",
    "\n",
    "square_digits(1234)\n"
   ]
  },
  {
   "cell_type": "code",
   "execution_count": 2,
   "metadata": {},
   "outputs": [
    {
     "data": {
      "text/plain": [
       "'Please enter a positive number'"
      ]
     },
     "execution_count": 2,
     "metadata": {},
     "output_type": "execute_result"
    }
   ],
   "source": [
    "def remainder(x, y):\n",
    "  if x>0 and y>0:\n",
    "    sonuc=x%y\n",
    "    return sonuc\n",
    "  elif x%y==0:\n",
    "    return 0\n",
    "  else:\n",
    "    return \"Please enter a positive number\"\n",
    "    \n",
    "  \n",
    "remainder(-3,4)"
   ]
  },
  {
   "cell_type": "code",
   "execution_count": null,
   "metadata": {
    "id": "kida4eUOgnO8",
    "outputId": "4ae6487c-2216-4049-f3e1-e164e041fba8"
   },
   "outputs": [
    {
     "name": "stdout",
     "output_type": "stream",
     "text": [
      "['Python', 'Software', 'Foundation']\n",
      "['Foundation', 'Python', 'Software']\n",
      "Foundation Python Software\n",
      "und\n"
     ]
    }
   ],
   "source": [
    "str = \"Python Software Foundation\"\n",
    "s = str.split()\n",
    "print(s)\n",
    "s = sorted(s)\n",
    "print(s)\n",
    "s = \" \".join(s)\n",
    "print(s)\n",
    "print(s[2:5])"
   ]
  },
  {
   "cell_type": "markdown",
   "metadata": {
    "id": "NYgpGa-NgnO9"
   },
   "source": [
    "Give two strings from user , s1, and s2 return a new string made of the first, middle, and last characters each input string\n"
   ]
  },
  {
   "cell_type": "code",
   "execution_count": null,
   "metadata": {
    "id": "GyFmo9HWgnO-"
   },
   "outputs": [],
   "source": [
    "s1= input(\"Harf sayısı tek olan kelime giriniz: \")\n",
    "s2= input(\"harf sayısı tek olan kelime giriniz:\")\n",
    "middle_ch_s1 = int((len(s1))/2)\n",
    "middle_ch_s2=int(len(s2)/2)\n",
    "print(s1[0]+s2[0]+s1[middle_ch_s1]+ s2[middle_ch_s2]+s1[-1]+s2[-1])"
   ]
  },
  {
   "cell_type": "markdown",
   "metadata": {
    "id": "wPCNDloDgnPA"
   },
   "source": [
    "mail = \"from Ahmet, mail to: abcxyz@gmail.com  15:1990:01\"\n",
    "Yukarıdaki mail değişkenine atanan değerden, sadece domain kısmını, \"gmail.com\" bölümünü çıktı verecek kodu yazınız. "
   ]
  },
  {
   "cell_type": "code",
   "execution_count": null,
   "metadata": {
    "id": "jbllw6ulgnPE"
   },
   "outputs": [],
   "source": [
    "mail = \"from Ahmet, mail to: abcxyz@gmail.com  15:1990:01\"\n",
    "start=mail.find(\"@\")\n",
    "end = mail.find(\"com\")\n",
    "print(mail[start+1:end+3])"
   ]
  },
  {
   "cell_type": "code",
   "execution_count": null,
   "metadata": {
    "id": "mNlwgo5TgnPG",
    "outputId": "f10b81a6-bcd8-4265-8728-0ba420b308dd"
   },
   "outputs": [
    {
     "name": "stdout",
     "output_type": "stream",
     "text": [
      "['john', 'peter']\n"
     ]
    }
   ],
   "source": [
    "d = {\"john\":40, \"peter\":45}\n",
    "print(list(d.keys()))"
   ]
  },
  {
   "cell_type": "code",
   "execution_count": null,
   "metadata": {
    "id": "5XPgEEdPgnPH",
    "outputId": "74a7ae42-f061-4622-e380-38c3b8d2ffc2"
   },
   "outputs": [
    {
     "name": "stdout",
     "output_type": "stream",
     "text": [
      "{'a': 1, 'b': [2, 3, 4]}\n"
     ]
    }
   ],
   "source": [
    "a={}\n",
    "a['a']=1\n",
    "a['b']=[2,3,4]\n",
    "print(a)\n"
   ]
  },
  {
   "cell_type": "code",
   "execution_count": null,
   "metadata": {
    "id": "cOPhKMuYgnPH",
    "outputId": "36fb681e-0bf0-4b36-a247-f71d1b0c5c88"
   },
   "outputs": [
    {
     "name": "stdout",
     "output_type": "stream",
     "text": [
      "{'san', 'a', 'c', 'b', 'p', 'q'}\n"
     ]
    }
   ],
   "source": [
    "z=set('abc')\n",
    "z.add('san')\n",
    "z.update(set(['p', 'q']))\n",
    "print(z)"
   ]
  },
  {
   "cell_type": "markdown",
   "metadata": {
    "id": "58_F9Pp6gnPI"
   },
   "source": [
    "Is the Word an Isogram?"
   ]
  },
  {
   "cell_type": "code",
   "execution_count": null,
   "metadata": {
    "id": "J6sxmoepgnPJ"
   },
   "outputs": [],
   "source": [
    "def is_isogram(txt):\n",
    "  return len(txt) == len(set(txt.lower()))\n",
    "  \n",
    "  for letter in txt:\n",
    "    if txt.count(letter)>1:\n",
    "      return False\n",
    "    else:\n",
    "      True\n"
   ]
  },
  {
   "cell_type": "markdown",
   "metadata": {
    "id": "XgPmfOQGgnPJ"
   },
   "source": [
    "In this little assignment you are given a string of space separated numbers, and have to return the highest and lowest number."
   ]
  },
  {
   "cell_type": "code",
   "execution_count": null,
   "metadata": {
    "id": "3rv5G1AzgnPK",
    "outputId": "55913210-755e-4215-ef52-bb0a5403ac42"
   },
   "outputs": [
    {
     "data": {
      "text/plain": [
       "(98, -45)"
      ]
     },
     "execution_count": 3,
     "metadata": {},
     "output_type": "execute_result"
    }
   ],
   "source": [
    "def highest_lowest_num(str1):\n",
    "  num_list = list(map(int, str1.split()))\n",
    "  return max(num_list), min(num_list)\n",
    "highest_lowest_num(\"8 45 98 -5 82 -45\")"
   ]
  },
  {
   "cell_type": "markdown",
   "metadata": {
    "id": "6qHgLshognPL"
   },
   "source": [
    "# ATM Makinesi"
   ]
  },
  {
   "cell_type": "code",
   "execution_count": null,
   "metadata": {
    "id": "MzRt4u_1gnPL",
    "outputId": "c02f322c-9040-4430-82c7-330993da44e7"
   },
   "outputs": [
    {
     "name": "stdout",
     "output_type": "stream",
     "text": [
      "****************\n",
      "ATM Makinesine Hoşgeldiniz.\n",
      "İşlemler:\n",
      "1. Bakiye Sorgulama\n",
      "\n",
      "2. Para Yatırma\n",
      "\n",
      "3. Para Çekme\n",
      "\n",
      "\n",
      "*****************\n",
      "Please enter your user name:  barış\n",
      "Enter your password: 12345\n",
      "Sisteme Giriş Yapılıyor...\n",
      "Hoşgeldiniz Sayın barış Bey\n",
      "İşlemi Seçiniz veya Sistemden Çıkmak İçin 'q' Basınız: 1\n",
      "Bakiyeniz 1000 tl dir.\n",
      "İşlemi Seçiniz veya Sistemden Çıkmak İçin 'q' Basınız: 2\n",
      "Yatıracağınız Miktarı Giriniz: 1000\n",
      "Hesabınıza 1000 TL Yatırdınız. \n",
      "Yeni Bakiyeniz 2000 tl dir.\n",
      "İşlemi Seçiniz veya Sistemden Çıkmak İçin 'q' Basınız: 3\n",
      "Çekeceğiniz Miktarı Giriniz: 1500\n",
      "Paranız Hazırlanıyor... \n",
      "Kalan Bakiyeniz 500 tl dir.\n"
     ]
    }
   ],
   "source": [
    "print(\"\"\"****************\n",
    "ATM Makinesine Hoşgeldiniz.\n",
    "İşlemler:\n",
    "1. Bakiye Sorgulama\n",
    "\n",
    "2. Para Yatırma\n",
    "\n",
    "3. Para Çekme\n",
    "\n",
    "\n",
    "*****************\"\"\")\n",
    "\n",
    "\n",
    "\n",
    "sys_kullanıcı_adı = \"barış\"\n",
    "sys_parola = \"12345\"\n",
    "giriş_hakkı = 3\n",
    "bakiye = 1000\n",
    "\n",
    "\n",
    "\n",
    "while True:\n",
    "  \n",
    "    \n",
    "    kullanıcı_adı = input(\"Please enter your user name:  \")\n",
    "    parola = input(\"Enter your password: \")\n",
    "    if kullanıcı_adı == sys_kullanıcı_adı and parola != sys_parola:\n",
    "        print(\"Parola Hatalı!\")\n",
    "        giriş_hakkı -=1\n",
    "    elif  kullanıcı_adı != sys_kullanıcı_adı and parola == sys_parola:\n",
    "        print(\"Kullanıcı Adı Hatalı!\")\n",
    "        giriş_hakkı -=1\n",
    "    elif  kullanıcı_adı != sys_kullanıcı_adı and parola != sys_parola:\n",
    "        print(\"Parola ve Kullanıcı Adı Hatalı\")\n",
    "        giriş_hakkı -=1\n",
    "    else:\n",
    "        print(\"Sisteme Giriş Yapılıyor...\\nHoşgeldiniz Sayın {} Bey\".format(sys_kullanıcı_adı))\n",
    "    \n",
    "        while True:\n",
    "            işlem = input(\"İşlemi Seçiniz veya Sistemden Çıkmak İçin 'q' Basınız: \")\n",
    "            \n",
    "            if (işlem == \"q\"):\n",
    "                print(\"Sistemden Çıkış Yapılıyor...\\nYine Bekleriz\")\n",
    "                print()\n",
    "                print()\n",
    "                print()\n",
    "                print(\"\"\"****************\n",
    "ATM Makinesine Hoşgeldiniz.\n",
    "İşlemler:\n",
    "1. Bakiye Sorgulama\n",
    "\n",
    "2. Para Yatırma\n",
    "\n",
    "3. Para Çekme\n",
    "\n",
    "\n",
    "*****************\"\"\")\n",
    "                break\n",
    "            if (işlem == \"1\") :\n",
    "                print(\"Bakiyeniz {} tl dir.\".format(bakiye))\n",
    "            elif (işlem == \"2\") :\n",
    "                miktar = int(input(\"Yatıracağınız Miktarı Giriniz: \"))\n",
    "                bakiye += miktar\n",
    "                print(\"Hesabınıza {} TL Yatırdınız. \\nYeni Bakiyeniz {} tl dir.\".format(miktar,bakiye))        \n",
    "            elif (işlem == \"3\") :\n",
    "                 miktar = int(input(\"Çekeceğiniz Miktarı Giriniz: \"))\n",
    "                 if (bakiye- miktar < 0):\n",
    "                    print(\"Bakiye Yetersiz!\")\n",
    "                    continue\n",
    "                 bakiye -= miktar\n",
    "                 print(\"Paranız Hazırlanıyor... \\nKalan Bakiyeniz {} tl dir.\".format(bakiye))           \n",
    "            else:\n",
    "                print(\"Geçersiz İşlem !\")\n",
    "    if giriş_hakkı==0:\n",
    "        print(\"Giriş Hakkınız Sona Ermiştir!\")\n",
    "        break"
   ]
  },
  {
   "cell_type": "markdown",
   "metadata": {
    "id": "il2BJgspgnPN"
   },
   "source": [
    "# Faktoriyel Bulma"
   ]
  },
  {
   "cell_type": "code",
   "execution_count": null,
   "metadata": {
    "id": "HCWCE1GzgnPO"
   },
   "outputs": [],
   "source": [
    "while True:\n",
    "    sayı = input(\"Bir Sayı Giriniz veya Çıkmak İçin 'q' ya Basınız:  \")\n",
    "\n",
    "    if sayı==\"q\":\n",
    "        print(\"Programdan Çıkılıyor... \")\n",
    "    else:\n",
    "        faktöriyel = 1\n",
    "        sayı= int(sayı)\n",
    "        for i in range(2,sayı+1):\n",
    "            faktöriyel *=i\n",
    "        print(faktöriyel)\n",
    "        break"
   ]
  },
  {
   "cell_type": "markdown",
   "metadata": {
    "id": "NhUiR8zOgnPO"
   },
   "source": [
    "# Fibonacci Numbers"
   ]
  },
  {
   "cell_type": "code",
   "execution_count": null,
   "metadata": {
    "id": "NPv5xKsagnPP",
    "outputId": "62879741-8ab0-4a5c-c16d-58121ce06a0a"
   },
   "outputs": [
    {
     "name": "stdout",
     "output_type": "stream",
     "text": [
      "[1, 1, 2, 3, 5, 8, 13, 21, 34, 55]\n"
     ]
    }
   ],
   "source": [
    "a=1\n",
    "b=1\n",
    "\n",
    "fibonacci= [a,b]\n",
    "\n",
    "for i in range(8):\n",
    "  a,b=b,a+b\n",
    "  fibonacci.append(b)\n",
    "print(fibonacci)"
   ]
  },
  {
   "cell_type": "code",
   "execution_count": null,
   "metadata": {
    "id": "btl_8YNhgnPR",
    "outputId": "7759b429-cb4d-4d9b-9baf-d9cb0e6ca989"
   },
   "outputs": [
    {
     "name": "stdout",
     "output_type": "stream",
     "text": [
      "Even numbers are : [0, 2, 4, 6, 8]\n"
     ]
    }
   ],
   "source": [
    "first_ten = [0, 1, 2, 3, 4, 5, 6, 7, 8, 9]\n",
    "even = filter(lambda x:x%2==0, first_ten)\n",
    "print(\"Even numbers are :\", list(even))"
   ]
  },
  {
   "cell_type": "code",
   "execution_count": null,
   "metadata": {
    "id": "KfUOQGiognPV",
    "outputId": "f1538f09-791b-4cc1-8632-57d9aa068261"
   },
   "outputs": [
    {
     "name": "stdout",
     "output_type": "stream",
     "text": [
      "Vowels are : ['a', 'e', 'i']\n"
     ]
    }
   ],
   "source": [
    "vowel_list = ['a', 'e', 'i', 'o', 'u']\n",
    "first_ten = ['a', 'b', 'c', 'd', 'e', 'f', 'g', 'h', 'i', 'j']\n",
    "vowels = filter(lambda x:True if x in vowel_list else False, first_ten)\n",
    "print(\"Vowels are :\", list(vowels))"
   ]
  },
  {
   "cell_type": "code",
   "execution_count": null,
   "metadata": {
    "id": "CJW5uIj5gnPX",
    "outputId": "bee6e455-f365-4694-c80a-26a2ff3bd5dd"
   },
   "outputs": [
    {
     "name": "stdout",
     "output_type": "stream",
     "text": [
      "[6, 7, 8, 9, 10]\n"
     ]
    }
   ],
   "source": [
    "number_list = [1, 2, 3, 4, 5, 6, 7, 8, 9, 10]\n",
    "\n",
    "result = filter(lambda x: True if x>=6 else False, number_list)\n",
    "print(list(result))\n"
   ]
  },
  {
   "cell_type": "code",
   "execution_count": null,
   "metadata": {
    "id": "n-RrIAWUgnPY",
    "outputId": "c0511ae0-c156-4e80-976c-b8cec25b7f86"
   },
   "outputs": [
    {
     "name": "stdout",
     "output_type": "stream",
     "text": [
      "4\n",
      "8\n",
      "16\n"
     ]
    }
   ],
   "source": [
    "def modular_function(n):\n",
    "    return lambda x: x ** n\n",
    "    \n",
    "power_of_2 = modular_function(2)  \n",
    "power_of_3 = modular_function(3)  \n",
    "power_of_4 = modular_function(4)  \n",
    "\n",
    "print(power_of_2(2))  \n",
    "print(power_of_3(2))  \n",
    "print(power_of_4(2))  "
   ]
  },
  {
   "cell_type": "code",
   "execution_count": null,
   "metadata": {
    "id": "hM1F8SMjgnPZ",
    "outputId": "2f6a063c-d24c-471d-a9c4-8224325d2c8f"
   },
   "outputs": [
    {
     "name": "stdout",
     "output_type": "stream",
     "text": [
      "sayı giriniz: 15\n",
      "15  Mükemmel Bir Sayı Değildir\n"
     ]
    }
   ],
   "source": [
    "sayı = int(input(\"sayı giriniz: \"))\n",
    "toplam=0\n",
    "for i in range(1,sayı):\n",
    "    if sayı%i==0:\n",
    "        toplam +=i\n",
    "        \n",
    "    \n",
    "if sayı==toplam:\n",
    "    print(sayı, \" Mükemmel Bir Sayıdır..\")\n",
    "else:\n",
    "    print(sayı, \" Mükemmel Bir Sayı Değildir\")"
   ]
  },
  {
   "cell_type": "code",
   "execution_count": null,
   "metadata": {
    "id": "SypSfZLOgnPa"
   },
   "outputs": [],
   "source": [
    "sayı = int(input(\"Sayı Giriniz: \"))\n",
    "a=len(list(str(sayı)))\n",
    "c = int(a)\n",
    "b = sayı\n",
    "toplam=0\n",
    "count=0\n",
    "i=0\n",
    "while count<a:\n",
    "  i= sayı % 10\n",
    "  sayı = sayı//10\n",
    "  toplam= toplam + i**a\n",
    "  count +=1\n",
    "  print(i)\n",
    "\n",
    "if toplam==b:\n",
    "  print(b, \"is Armstrong Number\")\n",
    "else:\n",
    "  print(b, \" is not Armstrong Number\")\n"
   ]
  },
  {
   "cell_type": "code",
   "execution_count": null,
   "metadata": {
    "id": "AyI1-AAUgnPb"
   },
   "outputs": [],
   "source": [
    "for i in range(1,11):\n",
    "  print(\"***********\")\n",
    "  for k in range(1,11):\n",
    "    print(i,\"*\", k,\"=\", i*k,)"
   ]
  },
  {
   "cell_type": "code",
   "execution_count": null,
   "metadata": {
    "id": "v4r3cxlbgnPb"
   },
   "outputs": [],
   "source": [
    "toplam = 0\n",
    "\n",
    "while True:\n",
    "  try:\n",
    "    sayı= input(\"Lütfen Bir Sayı Giriniz veya Çıkmak İçin 'q' ya Basın: \")\n",
    "    a=int(sayı)\n",
    "    toplam += a\n",
    "    \n",
    "  except ValueError:\n",
    "    if sayı==\"q\":\n",
    "      print(\"Girdiğniz Sayıların Toplamı: \",toplam)\n",
    "      print(\"Programdan Çıkıldı...\")\n",
    "      break"
   ]
  },
  {
   "cell_type": "code",
   "execution_count": null,
   "metadata": {
    "id": "oHq-jvrwgnPc"
   },
   "outputs": [],
   "source": [
    "liste=[]\n",
    "for i in range(1,101):\n",
    "  if i%3==0:\n",
    "    liste.append(i)\n",
    "print(liste)"
   ]
  },
  {
   "cell_type": "code",
   "execution_count": null,
   "metadata": {
    "id": "8UNc_zHCgnPc"
   },
   "outputs": [],
   "source": [
    "list = [x for x in range(1,101) if x%2==0]\n",
    "print(list)"
   ]
  },
  {
   "cell_type": "markdown",
   "metadata": {
    "id": "hmYe5kn9gnPd"
   },
   "source": [
    "# Largest Number"
   ]
  },
  {
   "cell_type": "code",
   "execution_count": null,
   "metadata": {
    "id": "Jy28H7lBgnPd",
    "outputId": "377a8912-de00-49ea-ee58-8ed9cf78ebad"
   },
   "outputs": [
    {
     "name": "stdout",
     "output_type": "stream",
     "text": [
      "How many elements you want to enter? 5\n",
      "Enter 5 positive numbers\n",
      "number: 5\n",
      "number: 6\n",
      "number: 7\n",
      "number: 88\n",
      "number: 78\n",
      "The largest number in list is 88\n"
     ]
    }
   ],
   "source": [
    "mylist=[]\n",
    "size= int(input(\"How many elements you want to enter? \"))\n",
    "print(\"Enter\", str(size), \"positive numbers\")\n",
    "\n",
    "for i in range(size):\n",
    "  number=int(input(\"number: \"))\n",
    "  mylist.append(number)\n",
    "\n",
    "largest=0\n",
    "for number in mylist:\n",
    "  if number > largest:\n",
    "    largest=number\n",
    "\n",
    "print(\"The largest number in list is\", largest)\n",
    "    \n"
   ]
  },
  {
   "cell_type": "code",
   "execution_count": null,
   "metadata": {
    "id": "xGYultAIgnPe"
   },
   "outputs": [],
   "source": [
    "def faktoriyel(sayı):\n",
    "    faktoriyel = 1\n",
    "    if sayı==0 or sayı==1:\n",
    "        print(\"Faktoriyel\", faktoriyel)\n",
    "    else:\n",
    "        while sayı>=1:\n",
    "            faktoriyel = faktoriyel*sayı\n",
    "            sayı -= 1\n",
    "            \n",
    "        print(\"Faktoriyel\", faktoriyel)"
   ]
  },
  {
   "cell_type": "code",
   "execution_count": null,
   "metadata": {
    "id": "n-7PzW_IgnPf",
    "outputId": "fb642eab-c9ce-428f-d2bc-defbb5849416"
   },
   "outputs": [
    {
     "name": "stdout",
     "output_type": "stream",
     "text": [
      "Faktoriyel 120\n"
     ]
    }
   ],
   "source": [
    "faktoriyel(5)"
   ]
  },
  {
   "cell_type": "markdown",
   "metadata": {
    "id": "EnG8bNpTgnPf"
   },
   "source": [
    "# Anagram"
   ]
  },
  {
   "cell_type": "code",
   "execution_count": null,
   "metadata": {
    "id": "aXtxn5IqgnPg"
   },
   "outputs": [],
   "source": [
    "strs = [\"eat\", \"tea\", \"tan\", \"ate\", \"nat\", \"bat\", \"cat\", \"tac\"]\n",
    "anag = {}\n",
    "\n",
    "for i in strs:\n",
    "    element = \"\".join(sorted(i))\n",
    "    \n",
    "    if element in anag:\n",
    "        anag[element].append(i)\n",
    "    else:\n",
    "        anag[element] = [i]\n",
    "print(list(anag.items()))\n",
    "\n",
    "    "
   ]
  },
  {
   "cell_type": "markdown",
   "metadata": {
    "id": "Jw9lX6aCgnPi"
   },
   "source": [
    "Define a function to take a word and return negative meaning.\n",
    "Given a word, return a new word where \"not \" has been added to the front. However, if the word already begins with \"not\", return the string unchanged."
   ]
  },
  {
   "cell_type": "code",
   "execution_count": null,
   "metadata": {
    "id": "H11kJqTQgnPk"
   },
   "outputs": [],
   "source": [
    "def not_string(word):\n",
    "  words=word.split()\n",
    "  if not word in words:\n",
    "    return word\n",
    "    \n",
    "  else:\n",
    "    return \"not \"+ word\n",
    "\n",
    "not_string(\"sugar\")"
   ]
  },
  {
   "cell_type": "markdown",
   "metadata": {
    "id": "HgYpahO7gnPl"
   },
   "source": [
    "#Asal Sayı"
   ]
  },
  {
   "cell_type": "code",
   "execution_count": null,
   "metadata": {
    "id": "Fnx0PZ_JgnPm",
    "outputId": "cf69e781-fa36-4386-efee-8dbaebaa838e"
   },
   "outputs": [
    {
     "name": "stdout",
     "output_type": "stream",
     "text": [
      "Sayı:17\n",
      "17 asal bir sayıdır.\n"
     ]
    }
   ],
   "source": [
    "def asal(sayı):\n",
    "  if sayı==1:\n",
    "    return False\n",
    "  elif sayı ==2:\n",
    "    return True\n",
    "  else:\n",
    "    for i in range(2,sayı):\n",
    "      if sayı%i ==0:\n",
    "        return False\n",
    "    return True\n",
    "while True:\n",
    "  sayı=input(\"Sayı:\")\n",
    "\n",
    "  if (sayı==\"q\"):\n",
    "    print(\"Programdan Çıkıldı..\")\n",
    "    break\n",
    "  else:\n",
    "    sayı= int(sayı)\n",
    "    if asal(sayı):\n",
    "      print(sayı, \"asal bir sayıdır.\")\n",
    "    else:\n",
    "      print(sayı,\"asal bir sayı değildir.\")\n"
   ]
  },
  {
   "cell_type": "markdown",
   "metadata": {
    "id": "BTy7TU7VgnPm"
   },
   "source": [
    "Bir Sayının Tam Bölenleri"
   ]
  },
  {
   "cell_type": "code",
   "execution_count": null,
   "metadata": {
    "id": "Pahon7G8gnPn"
   },
   "outputs": [],
   "source": [
    "def bolen(sayı):\n",
    "  tam_bolenler = []\n",
    "\n",
    "  for i in range (2,sayı):\n",
    "    if sayı%i==0:\n",
    "      tam_bolenler.append(i)\n",
    "  return tam_bolenler\n",
    "\n",
    "while True:\n",
    "  sayı = input(\"Sayı:\")\n",
    "\n",
    "  if sayı==\"q\":\n",
    "    print(\"Program Sonlandırılıyor...\")\n",
    "    break\n",
    "  else:\n",
    "    sayı= int(sayı)\n",
    "    print(\"Tam bölenler:\", bolen(sayı))"
   ]
  },
  {
   "cell_type": "markdown",
   "metadata": {
    "id": "xYuab3jqgssJ"
   },
   "source": [
    "Problem :\n",
    "Given a collection of distinct integers, return all possible permutations.\n",
    "Example:\n",
    "Input:\n",
    "[1,2,3]"
   ]
  },
  {
   "cell_type": "code",
   "execution_count": 1,
   "metadata": {
    "colab": {
     "base_uri": "https://localhost:8080/"
    },
    "id": "bEi-Ix75gwkW",
    "outputId": "4d63bc3c-1dea-44bc-b876-4fa1fe257f66"
   },
   "outputs": [
    {
     "data": {
      "text/plain": [
       "[[3, 2, 1], [2, 3, 1], [1, 3, 2], [2, 1, 3], [1, 2, 3], [3, 1, 2]]"
      ]
     },
     "execution_count": 1,
     "metadata": {},
     "output_type": "execute_result"
    }
   ],
   "source": [
    "import random\n",
    "a = [1,2,3]\n",
    "b = []\n",
    "while len(b) < 6:\n",
    "  random.shuffle(a)\n",
    "  if a not in b:\n",
    "    b.append(a)\n",
    "    a = [1,2,3]\n",
    "b"
   ]
  },
  {
   "cell_type": "markdown",
   "metadata": {},
   "source": [
    "Random ve Time Modülüyle Sayı Tahmin Oyunu"
   ]
  },
  {
   "cell_type": "code",
   "execution_count": 7,
   "metadata": {},
   "outputs": [
    {
     "name": "stdout",
     "output_type": "stream",
     "text": [
      "*************\n",
      "Sayı Tahmin Oyunu\n",
      "1 ile 40 arasında sayıyı tahmin edin.\n",
      "\n",
      "*************\n",
      "Tahmin Ettiğiniz Sayıyı Yazın: 20\n",
      "Bilgiler sorgulanıyor...\n",
      "Daha Düşük Bir Sayı Söyleyin...\n",
      "Tahmin Ettiğiniz Sayıyı Yazın: 10\n",
      "Bilgiler sorgulanıyor...\n",
      "Daha Düşük Bir Sayı Söyleyin...\n",
      "Tahmin Ettiğiniz Sayıyı Yazın: 5\n",
      "Bilgiler sorgulanıyor...\n",
      "Daha Düşük Bir Sayı Söyleyin...\n",
      "Tahmin Ettiğiniz Sayıyı Yazın: 2\n",
      "Bilgiler sorgulanıyor...\n",
      "Daha Düşük Bir Sayı Söyleyin...\n",
      "Tahmin Ettiğiniz Sayıyı Yazın: 1\n",
      "Bilgiler Sorgulanıyor..\n",
      "Tebrikler! Sayımız 1\n"
     ]
    }
   ],
   "source": [
    "import random\n",
    "import time\n",
    "print(\"\"\"*************\n",
    "Sayı Tahmin Oyunu\n",
    "1 ile 40 arasında sayıyı tahmin edin.\n",
    "\n",
    "*************\"\"\")\n",
    "rastgele_sayı=random.randint(1,40)\n",
    "tahmin_hakkı=7\n",
    "while True:\n",
    "    tahmin= int(input(\"Tahmin Ettiğiniz Sayıyı Yazın: \"))\n",
    "    if rastgele_sayı>tahmin:\n",
    "        print(\"Bilgiler sorgulanıyor...\")\n",
    "        time.sleep(1)\n",
    "        print(\"Daha Yüksek Bir Sayı Söyleyin...\")\n",
    "        tahmin_hakkı -=1\n",
    "    elif rastgele_sayı<tahmin:\n",
    "        print(\"Bilgiler sorgulanıyor...\")\n",
    "        time.sleep(1)\n",
    "        print(\"Daha Düşük Bir Sayı Söyleyin...\")\n",
    "        tahmin_hakkı -=1\n",
    "    else:\n",
    "        print(\"Bilgiler Sorgulanıyor..\")\n",
    "        time.sleep(1)\n",
    "        print(\"Tebrikler! Sayımız\", rastgele_sayı)\n",
    "        break\n",
    "        \n",
    "    if tahmin_hakkı==0:\n",
    "        print(\"Tahmin Hakkınız Sona Erdi..\")\n",
    "        print(\"Sayımız:\", rastgele_sayı)\n",
    "        break\n",
    "        "
   ]
  },
  {
   "cell_type": "markdown",
   "metadata": {},
   "source": [
    "Bir dize kabul eden ve rakam ve harf sayısını hesaplayan bir Python programı yazın. \n",
    "Örnek Veri : Python 3.2\n",
    "Beklenen Çıktı :\n",
    "Harfler 6\n",
    "Rakam 2"
   ]
  },
  {
   "cell_type": "code",
   "execution_count": null,
   "metadata": {},
   "outputs": [],
   "source": [
    "def count(x):\n",
    "    length = len(x)\n",
    "    digit = 0\n",
    "    letters = 0\n",
    "    \n",
    "    for i in x:\n",
    "        if i.isalpha():\n",
    "            letters += 1\n",
    "            \n",
    "        elif i.isnumeric():\n",
    "            digit += 1\n",
    "            \n",
    "    return letters, digit\n",
    "x=\"I always love Python 3.2\"\n",
    "print(\"harf sayısı, rakam sayısı=\", count(x))"
   ]
  },
  {
   "cell_type": "markdown",
   "metadata": {},
   "source": [
    "A number is said to be Harshad if it's exactly divisible by the sum of its digits. Create a function that determines whether a number is a Harshad or not.\n",
    "\n",
    "is_harshad(75) ➞ False\n",
    "#7 + 5 = 12\n",
    "#75 is not exactly divisible by 12\n",
    "\n",
    "is_harshad(171) ➞ True\n",
    "#1 + 7 + 1 = 9\n",
    "#9 exactly divides 171\n",
    "\n",
    "is_harshad(481) ➞ True\n",
    "\n",
    "is_harshad(89) ➞ False\n",
    "\n",
    "is_harshad(516) ➞ True\n",
    "\n",
    "is_harshad(200) ➞ True"
   ]
  },
  {
   "cell_type": "code",
   "execution_count": 1,
   "metadata": {},
   "outputs": [
    {
     "data": {
      "text/plain": [
       "True"
      ]
     },
     "execution_count": 1,
     "metadata": {},
     "output_type": "execute_result"
    }
   ],
   "source": [
    "def is_harshad(x):\n",
    "  toplam=0\n",
    "  a=str(x)\n",
    "  for i in a:\n",
    "    i=int(i)\n",
    "    toplam +=i\n",
    "  if x%toplam !=0:\n",
    "    return False\n",
    "  else:\n",
    "    return True\n",
    "\n",
    "is_harshad(200)"
   ]
  },
  {
   "cell_type": "code",
   "execution_count": 1,
   "metadata": {},
   "outputs": [
    {
     "name": "stderr",
     "output_type": "stream",
     "text": [
      "Matplotlib is building the font cache; this may take a moment.\n"
     ]
    },
    {
     "data": {
      "image/png": "[encoded data removed]",
      "text/plain": [
       "<Figure size 432x288 with 1 Axes>"
      ]
     },
     "metadata": {},
     "output_type": "display_data"
    }
   ],
   "source": [
    "import matplotlib.pyplot as p\n",
    "s=  [40, 30, 10, 10, 10]\n",
    "i= [\"Python\", \"Java\", \"C++\", \"C\", \"Javascript\"]\n",
    "p.pie(s, labels=i)\n",
    "p.show()"
   ]
  },
  {
   "cell_type": "code",
   "execution_count": 2,
   "metadata": {},
   "outputs": [
    {
     "name": "stdout",
     "output_type": "stream",
     "text": [
      "🤗\n",
      "😷\n",
      "😀\n",
      "😆\n",
      "😘\n"
     ]
    }
   ],
   "source": [
    "print(\"\\U0001F917\")\n",
    "print(\"\\U0001F637\")\n",
    "print(\"\\U0001F600\")\n",
    "print(\"\\U0001F606\")\n",
    "print(\"\\U0001F618\")"
   ]
  },
  {
   "cell_type": "code",
   "execution_count": 5,
   "metadata": {},
   "outputs": [
    {
     "name": "stdout",
     "output_type": "stream",
     "text": [
      "          *\n",
      "          **\n",
      "          ***\n",
      "          ****\n",
      "***************\n",
      "          ****\n",
      "          ***\n",
      "          **\n",
      "          *\n"
     ]
    }
   ],
   "source": [
    "def arrow(n):\n",
    "    for i in range(n):\n",
    "        if i == n-1:\n",
    "            print((2*n)*\"*\",end=\"\")\n",
    "            print((i+1)*\"*\")\n",
    "            \n",
    "        else:\n",
    "            print((2*n)*\" \", end=\"\")\n",
    "            print((i+1)*\"*\")\n",
    "            \n",
    "    for j in range(n-1,0,-1):\n",
    "        print((2*n)*\" \",end=\"\")\n",
    "        print(j*\"*\")\n",
    "arrow(5)"
   ]
  },
  {
   "cell_type": "code",
   "execution_count": null,
   "metadata": {},
   "outputs": [],
   "source": []
  }
 ],
 "metadata": {
  "colab": {
   "include_colab_link": true,
   "name": "Untitled.ipynb",
   "provenance": []
  },
  "kernelspec": {
   "display_name": "Python 3",
   "language": "python",
   "name": "python3"
  },
  "language_info": {
   "codemirror_mode": {
    "name": "ipython",
    "version": 3
   },
   "file_extension": ".py",
   "mimetype": "text/x-python",
   "name": "python",
   "nbconvert_exporter": "python",
   "pygments_lexer": "ipython3",
   "version": "3.8.5"
  }
 },
 "nbformat": 4,
 "nbformat_minor": 1
}
