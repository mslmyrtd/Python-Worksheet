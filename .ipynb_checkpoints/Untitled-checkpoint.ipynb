{
 "cells": [
  {
   "cell_type": "code",
   "execution_count": 2,
   "metadata": {},
   "outputs": [
    {
     "name": "stdout",
     "output_type": "stream",
     "text": [
      "pp\n",
      "qq\n",
      "rr\n"
     ]
    }
   ],
   "source": [
    "for x in set('pqr'):\n",
    "    print(x*2)\n"
   ]
  },
  {
   "cell_type": "code",
   "execution_count": 3,
   "metadata": {},
   "outputs": [
    {
     "name": "stdout",
     "output_type": "stream",
     "text": [
      "['john', 'peter']\n"
     ]
    }
   ],
   "source": [
    "d = {\"john\":40, \"peter\":45}\n",
    "print(list(d.keys()))"
   ]
  },
  {
   "cell_type": "code",
   "execution_count": 4,
   "metadata": {},
   "outputs": [
    {
     "name": "stdout",
     "output_type": "stream",
     "text": [
      "{'a': 1, 'b': [2, 3, 4]}\n"
     ]
    }
   ],
   "source": [
    "a={}\n",
    "a['a']=1\n",
    "a['b']=[2,3,4]\n",
    "print(a)\n"
   ]
  },
  {
   "cell_type": "code",
   "execution_count": 8,
   "metadata": {},
   "outputs": [
    {
     "name": "stdout",
     "output_type": "stream",
     "text": [
      "{'san', 'a', 'c', 'b', 'p', 'q'}\n"
     ]
    }
   ],
   "source": [
    "z=set('abc')\n",
    "z.add('san')\n",
    "z.update(set(['p', 'q']))\n",
    "print(z)"
   ]
  },
  {
   "cell_type": "code",
   "execution_count": 3,
   "metadata": {},
   "outputs": [
    {
     "ename": "SyntaxError",
     "evalue": "invalid syntax (<ipython-input-3-c84b5b3b5a50>, line 46)",
     "output_type": "error",
     "traceback": [
      "\u001b[1;36m  File \u001b[1;32m\"<ipython-input-3-c84b5b3b5a50>\"\u001b[1;36m, line \u001b[1;32m46\u001b[0m\n\u001b[1;33m    bakiye += miktar\u001b[0m\n\u001b[1;37m    ^\u001b[0m\n\u001b[1;31mSyntaxError\u001b[0m\u001b[1;31m:\u001b[0m invalid syntax\n"
     ]
    }
   ],
   "source": [
    "print(\"\"\"****************\n",
    "ATM Makinesine Hoşgeldiniz.\n",
    "İşlemler:\n",
    "1. Bakiye Sorgulama\n",
    "\n",
    "2. Para Yatırma\n",
    "\n",
    "3. Para Çekme\n",
    "\n",
    "Programdan Çıkmak İçin \"q\" Basınız\n",
    "\n",
    "*****************\"\"\")\n",
    "\n",
    "\n",
    "\n",
    "sys_kullanıcı_adı = \"mslm\"\n",
    "sys_parola = \"12345\"\n",
    "giriş_hakkı = 3\n",
    "\n",
    "\n",
    "\n",
    "while True:\n",
    "    kullanıcı_adı = input(\"Please enter your user name:  \")\n",
    "    parola = input(\"Enter your password: \")\n",
    "    if kullanıcı_adı == sys_kullanıcı_adı and parola != sys_parola:\n",
    "        print(\"Parola Hatalı!\")\n",
    "        giriş_hakkı -=1\n",
    "    elif  kullanıcı_adı != sys_kullanıcı_adı and parola == sys_parola:\n",
    "        print(\"Kullanıcı Adı Hatalı!\")\n",
    "        giriş_hakkı -=1\n",
    "    elif  kullanıcı_adı != sys_kullanıcı_adı and parola != sys_parola:\n",
    "        print(\"Parola ve Kullanıcı Adı Hatalı\")\n",
    "        giriş_hakkı -=1\n",
    "    else:\n",
    "        print(\"Sisteme Giriş Yapılıyor...\\nHoşgeldiniz Sayın {} Bey\".format(sys_kullanıcı_adı))\n",
    "        while True:\n",
    "            işlem = input(\"İşlemi Seçiniz: \")\n",
    "            bakiye = 1000\n",
    "            if işlem == \"q\":\n",
    "                print(\"Yine Bekleriz\")\n",
    "                break\n",
    "            elif işlem == \"1\" :\n",
    "                print(\"Bakiyeniz {} tl dir.\".format(bakiye))\n",
    "            elif işlem == \"2\" :\n",
    "                miktar = int(input(\"Yatıracağınız Miktarı Giriniz: \")\n",
    "                bakiye += miktar          \n",
    "            elif işlem == \"3\" :\n",
    "                 miktar = int(input(\"Çekeceğiniz Miktarı Giriniz: \")\n",
    "                 if bakiye-miktar <0:\n",
    "                    print(\"Bakiye Yetersiz!\")\n",
    "                    continue\n",
    "                 bakiye -= miktar           \n",
    "            else:\n",
    "                print(\"Geçersiz İşlem !\")\n",
    "    if giriş_hakkı==0:\n",
    "        print(\"Giriş Hakkınız Sona Ermiştir!\")\n",
    "        break"
   ]
  },
  {
   "cell_type": "code",
   "execution_count": null,
   "metadata": {},
   "outputs": [],
   "source": []
  },
  {
   "cell_type": "code",
   "execution_count": null,
   "metadata": {},
   "outputs": [],
   "source": []
  }
 ],
 "metadata": {
  "kernelspec": {
   "display_name": "Python 3",
   "language": "python",
   "name": "python3"
  },
  "language_info": {
   "codemirror_mode": {
    "name": "ipython",
    "version": 3
   },
   "file_extension": ".py",
   "mimetype": "text/x-python",
   "name": "python",
   "nbconvert_exporter": "python",
   "pygments_lexer": "ipython3",
   "version": "3.8.5"
  }
 },
 "nbformat": 4,
 "nbformat_minor": 4
}
