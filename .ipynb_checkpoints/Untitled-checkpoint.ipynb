{
 "cells": [
  {
   "cell_type": "code",
   "execution_count": 2,
   "metadata": {},
   "outputs": [
    {
     "name": "stdout",
     "output_type": "stream",
     "text": [
      "pp\n",
      "qq\n",
      "rr\n"
     ]
    }
   ],
   "source": [
    "for x in set('pqr'):\n",
    "    print(x*2)\n"
   ]
  },
  {
   "cell_type": "code",
   "execution_count": 3,
   "metadata": {},
   "outputs": [
    {
     "name": "stdout",
     "output_type": "stream",
     "text": [
      "['john', 'peter']\n"
     ]
    }
   ],
   "source": [
    "d = {\"john\":40, \"peter\":45}\n",
    "print(list(d.keys()))"
   ]
  },
  {
   "cell_type": "code",
   "execution_count": 4,
   "metadata": {},
   "outputs": [
    {
     "name": "stdout",
     "output_type": "stream",
     "text": [
      "{'a': 1, 'b': [2, 3, 4]}\n"
     ]
    }
   ],
   "source": [
    "a={}\n",
    "a['a']=1\n",
    "a['b']=[2,3,4]\n",
    "print(a)\n"
   ]
  },
  {
   "cell_type": "code",
   "execution_count": 8,
   "metadata": {},
   "outputs": [
    {
     "name": "stdout",
     "output_type": "stream",
     "text": [
      "{'san', 'a', 'c', 'b', 'p', 'q'}\n"
     ]
    }
   ],
   "source": [
    "z=set('abc')\n",
    "z.add('san')\n",
    "z.update(set(['p', 'q']))\n",
    "print(z)"
   ]
  },
  {
   "cell_type": "markdown",
   "metadata": {},
   "source": [
    "# ATM Makinesi"
   ]
  },
  {
   "cell_type": "code",
   "execution_count": null,
   "metadata": {},
   "outputs": [],
   "source": [
    "print(\"\"\"****************\n",
    "ATM Makinesine Hoşgeldiniz.\n",
    "İşlemler:\n",
    "1. Bakiye Sorgulama\n",
    "\n",
    "2. Para Yatırma\n",
    "\n",
    "3. Para Çekme\n",
    "\n",
    "\n",
    "*****************\"\"\")\n",
    "\n",
    "\n",
    "\n",
    "sys_kullanıcı_adı = \"mustafa\"\n",
    "sys_parola = \"12345\"\n",
    "giriş_hakkı = 3\n",
    "bakiye = 1000\n",
    "\n",
    "\n",
    "\n",
    "while True:\n",
    "  \n",
    "    \n",
    "    kullanıcı_adı = input(\"Please enter your user name:  \")\n",
    "    parola = input(\"Enter your password: \")\n",
    "    if kullanıcı_adı == sys_kullanıcı_adı and parola != sys_parola:\n",
    "        print(\"Parola Hatalı!\")\n",
    "        giriş_hakkı -=1\n",
    "    elif  kullanıcı_adı != sys_kullanıcı_adı and parola == sys_parola:\n",
    "        print(\"Kullanıcı Adı Hatalı!\")\n",
    "        giriş_hakkı -=1\n",
    "    elif  kullanıcı_adı != sys_kullanıcı_adı and parola != sys_parola:\n",
    "        print(\"Parola ve Kullanıcı Adı Hatalı\")\n",
    "        giriş_hakkı -=1\n",
    "    else:\n",
    "        print(\"Sisteme Giriş Yapılıyor...\\nHoşgeldiniz Sayın {} Bey\".format(sys_kullanıcı_adı))\n",
    "    \n",
    "        while True:\n",
    "            işlem = input(\"İşlemi Seçiniz veya Sistemden Çıkmak İçin 'q' Basınız: \")\n",
    "            \n",
    "            if (işlem == \"q\"):\n",
    "                print(\"Sistemden Çıkış Yapılıyor...\\nYine Bekleriz\")\n",
    "                print()\n",
    "                print()\n",
    "                print()\n",
    "                print(\"\"\"****************\n",
    "ATM Makinesine Hoşgeldiniz.\n",
    "İşlemler:\n",
    "1. Bakiye Sorgulama\n",
    "\n",
    "2. Para Yatırma\n",
    "\n",
    "3. Para Çekme\n",
    "\n",
    "\n",
    "*****************\"\"\")\n",
    "                break\n",
    "            if (işlem == \"1\") :\n",
    "                print(\"Bakiyeniz {} tl dir.\".format(bakiye))\n",
    "            elif (işlem == \"2\") :\n",
    "                miktar = int(input(\"Yatıracağınız Miktarı Giriniz: \"))\n",
    "                bakiye += miktar\n",
    "                print(\"Hesabınıza {} TL Yatırdınız. \\nYeni Bakiyeniz {} tl dir.\".format(miktar,bakiye))        \n",
    "            elif (işlem == \"3\") :\n",
    "                 miktar = int(input(\"Çekeceğiniz Miktarı Giriniz: \"))\n",
    "                 if (bakiye- miktar < 0):\n",
    "                    print(\"Bakiye Yetersiz!\")\n",
    "                    continue\n",
    "                 bakiye -= miktar\n",
    "                 print(\"Paranız Hazırlanıyor... \\nKalan Bakiyeniz {} tl dir.\".format(bakiye))           \n",
    "            else:\n",
    "                print(\"Geçersiz İşlem !\")\n",
    "    if giriş_hakkı==0:\n",
    "        print(\"Giriş Hakkınız Sona Ermiştir!\")\n",
    "        break"
   ]
  },
  {
   "cell_type": "markdown",
   "metadata": {},
   "source": [
    "# Faktoriyel Bulma"
   ]
  },
  {
   "cell_type": "code",
   "execution_count": null,
   "metadata": {},
   "outputs": [],
   "source": [
    "while True:\n",
    "    sayı = input(\"Bir Sayı Giriniz veya Çıkmak İçin 'q' ya Basınız:  \")\n",
    "\n",
    "    if sayı==\"q\":\n",
    "        print(\"Programdan Çıkılıyor... \")\n",
    "    else:\n",
    "        faktöriyel = 1\n",
    "        sayı= int(sayı)\n",
    "        for i in range(2,sayı+1):\n",
    "            faktöriyel *=i\n",
    "        print(faktöriyel)\n",
    "        break"
   ]
  },
  {
   "cell_type": "markdown",
   "metadata": {},
   "source": [
    "# Fibonacci Numbers"
   ]
  },
  {
   "cell_type": "code",
   "execution_count": 1,
   "metadata": {},
   "outputs": [
    {
     "name": "stdout",
     "output_type": "stream",
     "text": [
      "[1, 1, 2, 3, 5, 8, 13, 21, 34, 55]\n"
     ]
    }
   ],
   "source": [
    "a=1\n",
    "b=1\n",
    "\n",
    "fibonacci= [a,b]\n",
    "\n",
    "for i in range(8):\n",
    "  a,b=b,a+b\n",
    "  fibonacci.append(b)\n",
    "print(fibonacci)"
   ]
  },
  {
   "cell_type": "code",
   "execution_count": 4,
   "metadata": {},
   "outputs": [
    {
     "name": "stdout",
     "output_type": "stream",
     "text": [
      "Even numbers are : [0, 2, 4, 6, 8]\n"
     ]
    }
   ],
   "source": [
    "first_ten = [0, 1, 2, 3, 4, 5, 6, 7, 8, 9]\n",
    "even = filter(lambda x:x%2==0, first_ten)\n",
    "print(\"Even numbers are :\", list(even))"
   ]
  },
  {
   "cell_type": "code",
   "execution_count": 5,
   "metadata": {},
   "outputs": [
    {
     "name": "stdout",
     "output_type": "stream",
     "text": [
      "Vowels are : ['a', 'e', 'i']\n"
     ]
    }
   ],
   "source": [
    "vowel_list = ['a', 'e', 'i', 'o', 'u']\n",
    "first_ten = ['a', 'b', 'c', 'd', 'e', 'f', 'g', 'h', 'i', 'j']\n",
    "vowels = filter(lambda x:True if x in vowel_list else False, first_ten)\n",
    "print(\"Vowels are :\", list(vowels))"
   ]
  },
  {
   "cell_type": "code",
   "execution_count": 6,
   "metadata": {},
   "outputs": [
    {
     "name": "stdout",
     "output_type": "stream",
     "text": [
      "[6, 7, 8, 9, 10]\n"
     ]
    }
   ],
   "source": [
    "number_list = [1, 2, 3, 4, 5, 6, 7, 8, 9, 10]\n",
    "\n",
    "result = filter(lambda x: True if x>=6 else False, number_list)\n",
    "print(list(result))\n"
   ]
  },
  {
   "cell_type": "code",
   "execution_count": 7,
   "metadata": {},
   "outputs": [
    {
     "name": "stdout",
     "output_type": "stream",
     "text": [
      "4\n",
      "8\n",
      "16\n"
     ]
    }
   ],
   "source": [
    "def modular_function(n):\n",
    "    return lambda x: x ** n\n",
    "    \n",
    "power_of_2 = modular_function(2)  \n",
    "power_of_3 = modular_function(3)  \n",
    "power_of_4 = modular_function(4)  \n",
    "\n",
    "print(power_of_2(2))  \n",
    "print(power_of_3(2))  \n",
    "print(power_of_4(2))  "
   ]
  },
  {
   "cell_type": "code",
   "execution_count": 19,
   "metadata": {},
   "outputs": [
    {
     "name": "stdout",
     "output_type": "stream",
     "text": [
      "sayı giriniz: 15\n",
      "15  Mükemmel Bir Sayı Değildir\n"
     ]
    }
   ],
   "source": [
    "sayı = int(input(\"sayı giriniz: \"))\n",
    "toplam=0\n",
    "for i in range(1,sayı):\n",
    "    if sayı%i==0:\n",
    "        toplam +=i\n",
    "        \n",
    "    \n",
    "if sayı==toplam:\n",
    "    print(sayı, \" Mükemmel Bir Sayıdır..\")\n",
    "else:\n",
    "    print(sayı, \" Mükemmel Bir Sayı Değildir\")"
   ]
  },
  {
   "cell_type": "code",
   "execution_count": null,
   "metadata": {},
   "outputs": [],
   "source": [
    "sayı = int(input(\"Sayı Giriniz: \"))\n",
    "a=len(list(str(sayı)))\n",
    "c = int(a)\n",
    "b = sayı\n",
    "toplam=0\n",
    "count=0\n",
    "i=0\n",
    "while count<a:\n",
    "  i= sayı % 10\n",
    "  sayı = sayı//10\n",
    "  toplam= toplam + i**a\n",
    "  count +=1\n",
    "  print(i)\n",
    "\n",
    "if toplam==b:\n",
    "  print(b, \"is Armstrong Number\")\n",
    "else:\n",
    "  print(b, \" is not Armstrong Number\")\n"
   ]
  },
  {
   "cell_type": "code",
   "execution_count": null,
   "metadata": {},
   "outputs": [],
   "source": [
    "for i in range(1,11):\n",
    "  print(\"***********\")\n",
    "  for k in range(1,11):\n",
    "    print(i,\"*\", k,\"=\", i*k,)"
   ]
  },
  {
   "cell_type": "code",
   "execution_count": null,
   "metadata": {},
   "outputs": [],
   "source": [
    "toplam = 0\n",
    "\n",
    "while True:\n",
    "  try:\n",
    "    sayı= input(\"Lütfen Bir Sayı Giriniz veya Çıkmak İçin 'q' ya Basın: \")\n",
    "    a=int(sayı)\n",
    "    toplam += a\n",
    "    \n",
    "  except ValueError:\n",
    "    if sayı==\"q\":\n",
    "      print(\"Girdiğniz Sayıların Toplamı: \",toplam)\n",
    "      print(\"Programdan Çıkıldı...\")\n",
    "      break"
   ]
  },
  {
   "cell_type": "code",
   "execution_count": null,
   "metadata": {},
   "outputs": [],
   "source": [
    "liste=[]\n",
    "for i in range(1,101):\n",
    "  if i%3==0:\n",
    "    liste.append(i)\n",
    "print(liste)"
   ]
  },
  {
   "cell_type": "code",
   "execution_count": null,
   "metadata": {},
   "outputs": [],
   "source": [
    "list = [x for x in range(1,101) if x%2==0]\n",
    "print(list)"
   ]
  },
  {
   "cell_type": "code",
   "execution_count": null,
   "metadata": {},
   "outputs": [],
   "source": []
  }
 ],
 "metadata": {
  "kernelspec": {
   "display_name": "Python 3",
   "language": "python",
   "name": "python3"
  },
  "language_info": {
   "codemirror_mode": {
    "name": "ipython",
    "version": 3
   },
   "file_extension": ".py",
   "mimetype": "text/x-python",
   "name": "python",
   "nbconvert_exporter": "python",
   "pygments_lexer": "ipython3",
   "version": "3.8.5"
  }
 },
 "nbformat": 4,
 "nbformat_minor": 4
}
