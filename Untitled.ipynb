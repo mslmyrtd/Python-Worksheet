{
  "nbformat": 4,
  "nbformat_minor": 0,
  "metadata": {
    "kernelspec": {
      "display_name": "Python 3",
      "language": "python",
      "name": "python3"
    },
    "language_info": {
      "codemirror_mode": {
        "name": "ipython",
        "version": 3
      },
      "file_extension": ".py",
      "mimetype": "text/x-python",
      "name": "python",
      "nbconvert_exporter": "python",
      "pygments_lexer": "ipython3",
      "version": "3.8.5"
    },
    "colab": {
      "name": "Untitled.ipynb",
      "provenance": [],
      "include_colab_link": true
    }
  },
  "cells": [
    {
      "cell_type": "markdown",
      "metadata": {
        "id": "view-in-github",
        "colab_type": "text"
      },
      "source": [
        "<a href=\"https://colab.research.google.com/github/mslmyrtd/Python-Worksheet/blob/main/Untitled.ipynb\" target=\"_parent\"><img src=\"https://colab.research.google.com/assets/colab-badge.svg\" alt=\"Open In Colab\"/></a>"
      ]
    },
    {
      "cell_type": "code",
      "metadata": {
        "id": "tpxutTCCgnO5",
        "outputId": "4228b422-20a8-4111-8e7f-65ab7f96d625"
      },
      "source": [
        "for x in set('pqr'):\n",
        "    print(x*2)\n"
      ],
      "execution_count": null,
      "outputs": [
        {
          "name": "stdout",
          "output_type": "stream",
          "text": [
            "pp\n",
            "qq\n",
            "rr\n"
          ]
        }
      ]
    },
    {
      "cell_type": "code",
      "metadata": {
        "id": "kida4eUOgnO8",
        "outputId": "4ae6487c-2216-4049-f3e1-e164e041fba8"
      },
      "source": [
        "str = \"Python Software Foundation\"\n",
        "s = str.split()\n",
        "print(s)\n",
        "s = sorted(s)\n",
        "print(s)\n",
        "s = \" \".join(s)\n",
        "print(s)\n",
        "print(s[2:5])"
      ],
      "execution_count": null,
      "outputs": [
        {
          "name": "stdout",
          "output_type": "stream",
          "text": [
            "['Python', 'Software', 'Foundation']\n",
            "['Foundation', 'Python', 'Software']\n",
            "Foundation Python Software\n",
            "und\n"
          ]
        }
      ]
    },
    {
      "cell_type": "markdown",
      "metadata": {
        "id": "NYgpGa-NgnO9"
      },
      "source": [
        "Give two strings from user , s1, and s2 return a new string made of the first, middle, and last characters each input string\n"
      ]
    },
    {
      "cell_type": "code",
      "metadata": {
        "id": "GyFmo9HWgnO-"
      },
      "source": [
        "s1= input(\"Harf sayısı tek olan kelime giriniz: \")\n",
        "s2= input(\"harf sayısı tek olan kelime giriniz:\")\n",
        "middle_ch_s1 = int((len(s1))/2)\n",
        "middle_ch_s2=int(len(s2)/2)\n",
        "print(s1[0]+s2[0]+s1[middle_ch_s1]+ s2[middle_ch_s2]+s1[-1]+s2[-1])"
      ],
      "execution_count": null,
      "outputs": []
    },
    {
      "cell_type": "markdown",
      "metadata": {
        "id": "wPCNDloDgnPA"
      },
      "source": [
        "mail = \"from Ahmet, mail to: abcxyz@gmail.com  15:1990:01\"\n",
        "Yukarıdaki mail değişkenine atanan değerden, sadece domain kısmını, \"gmail.com\" bölümünü çıktı verecek kodu yazınız. "
      ]
    },
    {
      "cell_type": "code",
      "metadata": {
        "id": "jbllw6ulgnPE"
      },
      "source": [
        "mail = \"from Ahmet, mail to: abcxyz@gmail.com  15:1990:01\"\n",
        "start=mail.find(\"@\")\n",
        "end = mail.find(\"com\")\n",
        "print(mail[start+1:end+3])"
      ],
      "execution_count": null,
      "outputs": []
    },
    {
      "cell_type": "code",
      "metadata": {
        "id": "mNlwgo5TgnPG",
        "outputId": "f10b81a6-bcd8-4265-8728-0ba420b308dd"
      },
      "source": [
        "d = {\"john\":40, \"peter\":45}\n",
        "print(list(d.keys()))"
      ],
      "execution_count": null,
      "outputs": [
        {
          "name": "stdout",
          "output_type": "stream",
          "text": [
            "['john', 'peter']\n"
          ]
        }
      ]
    },
    {
      "cell_type": "code",
      "metadata": {
        "id": "5XPgEEdPgnPH",
        "outputId": "74a7ae42-f061-4622-e380-38c3b8d2ffc2"
      },
      "source": [
        "a={}\n",
        "a['a']=1\n",
        "a['b']=[2,3,4]\n",
        "print(a)\n"
      ],
      "execution_count": null,
      "outputs": [
        {
          "name": "stdout",
          "output_type": "stream",
          "text": [
            "{'a': 1, 'b': [2, 3, 4]}\n"
          ]
        }
      ]
    },
    {
      "cell_type": "code",
      "metadata": {
        "id": "cOPhKMuYgnPH",
        "outputId": "36fb681e-0bf0-4b36-a247-f71d1b0c5c88"
      },
      "source": [
        "z=set('abc')\n",
        "z.add('san')\n",
        "z.update(set(['p', 'q']))\n",
        "print(z)"
      ],
      "execution_count": null,
      "outputs": [
        {
          "name": "stdout",
          "output_type": "stream",
          "text": [
            "{'san', 'a', 'c', 'b', 'p', 'q'}\n"
          ]
        }
      ]
    },
    {
      "cell_type": "markdown",
      "metadata": {
        "id": "58_F9Pp6gnPI"
      },
      "source": [
        "Is the Word an Isogram?"
      ]
    },
    {
      "cell_type": "code",
      "metadata": {
        "id": "J6sxmoepgnPJ"
      },
      "source": [
        "def is_isogram(txt):\n",
        "  return len(txt) == len(set(txt.lower()))\n",
        "  \n",
        "  for letter in txt:\n",
        "    if txt.count(letter)>1:\n",
        "      return False\n",
        "    else:\n",
        "      True\n"
      ],
      "execution_count": null,
      "outputs": []
    },
    {
      "cell_type": "markdown",
      "metadata": {
        "id": "XgPmfOQGgnPJ"
      },
      "source": [
        "In this little assignment you are given a string of space separated numbers, and have to return the highest and lowest number."
      ]
    },
    {
      "cell_type": "code",
      "metadata": {
        "id": "3rv5G1AzgnPK",
        "outputId": "55913210-755e-4215-ef52-bb0a5403ac42"
      },
      "source": [
        "def highest_lowest_num(str1):\n",
        "  num_list = list(map(int, str1.split()))\n",
        "  return max(num_list), min(num_list)\n",
        "highest_lowest_num(\"8 45 98 -5 82 -45\")"
      ],
      "execution_count": null,
      "outputs": [
        {
          "data": {
            "text/plain": [
              "(98, -45)"
            ]
          },
          "execution_count": 3,
          "metadata": {},
          "output_type": "execute_result"
        }
      ]
    },
    {
      "cell_type": "markdown",
      "metadata": {
        "id": "6qHgLshognPL"
      },
      "source": [
        "# ATM Makinesi"
      ]
    },
    {
      "cell_type": "code",
      "metadata": {
        "id": "MzRt4u_1gnPL",
        "outputId": "c02f322c-9040-4430-82c7-330993da44e7"
      },
      "source": [
        "print(\"\"\"****************\n",
        "ATM Makinesine Hoşgeldiniz.\n",
        "İşlemler:\n",
        "1. Bakiye Sorgulama\n",
        "\n",
        "2. Para Yatırma\n",
        "\n",
        "3. Para Çekme\n",
        "\n",
        "\n",
        "*****************\"\"\")\n",
        "\n",
        "\n",
        "\n",
        "sys_kullanıcı_adı = \"barış\"\n",
        "sys_parola = \"12345\"\n",
        "giriş_hakkı = 3\n",
        "bakiye = 1000\n",
        "\n",
        "\n",
        "\n",
        "while True:\n",
        "  \n",
        "    \n",
        "    kullanıcı_adı = input(\"Please enter your user name:  \")\n",
        "    parola = input(\"Enter your password: \")\n",
        "    if kullanıcı_adı == sys_kullanıcı_adı and parola != sys_parola:\n",
        "        print(\"Parola Hatalı!\")\n",
        "        giriş_hakkı -=1\n",
        "    elif  kullanıcı_adı != sys_kullanıcı_adı and parola == sys_parola:\n",
        "        print(\"Kullanıcı Adı Hatalı!\")\n",
        "        giriş_hakkı -=1\n",
        "    elif  kullanıcı_adı != sys_kullanıcı_adı and parola != sys_parola:\n",
        "        print(\"Parola ve Kullanıcı Adı Hatalı\")\n",
        "        giriş_hakkı -=1\n",
        "    else:\n",
        "        print(\"Sisteme Giriş Yapılıyor...\\nHoşgeldiniz Sayın {} Bey\".format(sys_kullanıcı_adı))\n",
        "    \n",
        "        while True:\n",
        "            işlem = input(\"İşlemi Seçiniz veya Sistemden Çıkmak İçin 'q' Basınız: \")\n",
        "            \n",
        "            if (işlem == \"q\"):\n",
        "                print(\"Sistemden Çıkış Yapılıyor...\\nYine Bekleriz\")\n",
        "                print()\n",
        "                print()\n",
        "                print()\n",
        "                print(\"\"\"****************\n",
        "ATM Makinesine Hoşgeldiniz.\n",
        "İşlemler:\n",
        "1. Bakiye Sorgulama\n",
        "\n",
        "2. Para Yatırma\n",
        "\n",
        "3. Para Çekme\n",
        "\n",
        "\n",
        "*****************\"\"\")\n",
        "                break\n",
        "            if (işlem == \"1\") :\n",
        "                print(\"Bakiyeniz {} tl dir.\".format(bakiye))\n",
        "            elif (işlem == \"2\") :\n",
        "                miktar = int(input(\"Yatıracağınız Miktarı Giriniz: \"))\n",
        "                bakiye += miktar\n",
        "                print(\"Hesabınıza {} TL Yatırdınız. \\nYeni Bakiyeniz {} tl dir.\".format(miktar,bakiye))        \n",
        "            elif (işlem == \"3\") :\n",
        "                 miktar = int(input(\"Çekeceğiniz Miktarı Giriniz: \"))\n",
        "                 if (bakiye- miktar < 0):\n",
        "                    print(\"Bakiye Yetersiz!\")\n",
        "                    continue\n",
        "                 bakiye -= miktar\n",
        "                 print(\"Paranız Hazırlanıyor... \\nKalan Bakiyeniz {} tl dir.\".format(bakiye))           \n",
        "            else:\n",
        "                print(\"Geçersiz İşlem !\")\n",
        "    if giriş_hakkı==0:\n",
        "        print(\"Giriş Hakkınız Sona Ermiştir!\")\n",
        "        break"
      ],
      "execution_count": null,
      "outputs": [
        {
          "name": "stdout",
          "output_type": "stream",
          "text": [
            "****************\n",
            "ATM Makinesine Hoşgeldiniz.\n",
            "İşlemler:\n",
            "1. Bakiye Sorgulama\n",
            "\n",
            "2. Para Yatırma\n",
            "\n",
            "3. Para Çekme\n",
            "\n",
            "\n",
            "*****************\n",
            "Please enter your user name:  barış\n",
            "Enter your password: 12345\n",
            "Sisteme Giriş Yapılıyor...\n",
            "Hoşgeldiniz Sayın barış Bey\n",
            "İşlemi Seçiniz veya Sistemden Çıkmak İçin 'q' Basınız: 1\n",
            "Bakiyeniz 1000 tl dir.\n",
            "İşlemi Seçiniz veya Sistemden Çıkmak İçin 'q' Basınız: 2\n",
            "Yatıracağınız Miktarı Giriniz: 1000\n",
            "Hesabınıza 1000 TL Yatırdınız. \n",
            "Yeni Bakiyeniz 2000 tl dir.\n",
            "İşlemi Seçiniz veya Sistemden Çıkmak İçin 'q' Basınız: 3\n",
            "Çekeceğiniz Miktarı Giriniz: 1500\n",
            "Paranız Hazırlanıyor... \n",
            "Kalan Bakiyeniz 500 tl dir.\n"
          ]
        }
      ]
    },
    {
      "cell_type": "markdown",
      "metadata": {
        "id": "il2BJgspgnPN"
      },
      "source": [
        "# Faktoriyel Bulma"
      ]
    },
    {
      "cell_type": "code",
      "metadata": {
        "id": "HCWCE1GzgnPO"
      },
      "source": [
        "while True:\n",
        "    sayı = input(\"Bir Sayı Giriniz veya Çıkmak İçin 'q' ya Basınız:  \")\n",
        "\n",
        "    if sayı==\"q\":\n",
        "        print(\"Programdan Çıkılıyor... \")\n",
        "    else:\n",
        "        faktöriyel = 1\n",
        "        sayı= int(sayı)\n",
        "        for i in range(2,sayı+1):\n",
        "            faktöriyel *=i\n",
        "        print(faktöriyel)\n",
        "        break"
      ],
      "execution_count": null,
      "outputs": []
    },
    {
      "cell_type": "markdown",
      "metadata": {
        "id": "NhUiR8zOgnPO"
      },
      "source": [
        "# Fibonacci Numbers"
      ]
    },
    {
      "cell_type": "code",
      "metadata": {
        "id": "NPv5xKsagnPP",
        "outputId": "62879741-8ab0-4a5c-c16d-58121ce06a0a"
      },
      "source": [
        "a=1\n",
        "b=1\n",
        "\n",
        "fibonacci= [a,b]\n",
        "\n",
        "for i in range(8):\n",
        "  a,b=b,a+b\n",
        "  fibonacci.append(b)\n",
        "print(fibonacci)"
      ],
      "execution_count": null,
      "outputs": [
        {
          "name": "stdout",
          "output_type": "stream",
          "text": [
            "[1, 1, 2, 3, 5, 8, 13, 21, 34, 55]\n"
          ]
        }
      ]
    },
    {
      "cell_type": "code",
      "metadata": {
        "id": "btl_8YNhgnPR",
        "outputId": "7759b429-cb4d-4d9b-9baf-d9cb0e6ca989"
      },
      "source": [
        "first_ten = [0, 1, 2, 3, 4, 5, 6, 7, 8, 9]\n",
        "even = filter(lambda x:x%2==0, first_ten)\n",
        "print(\"Even numbers are :\", list(even))"
      ],
      "execution_count": null,
      "outputs": [
        {
          "name": "stdout",
          "output_type": "stream",
          "text": [
            "Even numbers are : [0, 2, 4, 6, 8]\n"
          ]
        }
      ]
    },
    {
      "cell_type": "code",
      "metadata": {
        "id": "KfUOQGiognPV",
        "outputId": "f1538f09-791b-4cc1-8632-57d9aa068261"
      },
      "source": [
        "vowel_list = ['a', 'e', 'i', 'o', 'u']\n",
        "first_ten = ['a', 'b', 'c', 'd', 'e', 'f', 'g', 'h', 'i', 'j']\n",
        "vowels = filter(lambda x:True if x in vowel_list else False, first_ten)\n",
        "print(\"Vowels are :\", list(vowels))"
      ],
      "execution_count": null,
      "outputs": [
        {
          "name": "stdout",
          "output_type": "stream",
          "text": [
            "Vowels are : ['a', 'e', 'i']\n"
          ]
        }
      ]
    },
    {
      "cell_type": "code",
      "metadata": {
        "id": "CJW5uIj5gnPX",
        "outputId": "bee6e455-f365-4694-c80a-26a2ff3bd5dd"
      },
      "source": [
        "number_list = [1, 2, 3, 4, 5, 6, 7, 8, 9, 10]\n",
        "\n",
        "result = filter(lambda x: True if x>=6 else False, number_list)\n",
        "print(list(result))\n"
      ],
      "execution_count": null,
      "outputs": [
        {
          "name": "stdout",
          "output_type": "stream",
          "text": [
            "[6, 7, 8, 9, 10]\n"
          ]
        }
      ]
    },
    {
      "cell_type": "code",
      "metadata": {
        "id": "n-RrIAWUgnPY",
        "outputId": "c0511ae0-c156-4e80-976c-b8cec25b7f86"
      },
      "source": [
        "def modular_function(n):\n",
        "    return lambda x: x ** n\n",
        "    \n",
        "power_of_2 = modular_function(2)  \n",
        "power_of_3 = modular_function(3)  \n",
        "power_of_4 = modular_function(4)  \n",
        "\n",
        "print(power_of_2(2))  \n",
        "print(power_of_3(2))  \n",
        "print(power_of_4(2))  "
      ],
      "execution_count": null,
      "outputs": [
        {
          "name": "stdout",
          "output_type": "stream",
          "text": [
            "4\n",
            "8\n",
            "16\n"
          ]
        }
      ]
    },
    {
      "cell_type": "code",
      "metadata": {
        "id": "hM1F8SMjgnPZ",
        "outputId": "2f6a063c-d24c-471d-a9c4-8224325d2c8f"
      },
      "source": [
        "sayı = int(input(\"sayı giriniz: \"))\n",
        "toplam=0\n",
        "for i in range(1,sayı):\n",
        "    if sayı%i==0:\n",
        "        toplam +=i\n",
        "        \n",
        "    \n",
        "if sayı==toplam:\n",
        "    print(sayı, \" Mükemmel Bir Sayıdır..\")\n",
        "else:\n",
        "    print(sayı, \" Mükemmel Bir Sayı Değildir\")"
      ],
      "execution_count": null,
      "outputs": [
        {
          "name": "stdout",
          "output_type": "stream",
          "text": [
            "sayı giriniz: 15\n",
            "15  Mükemmel Bir Sayı Değildir\n"
          ]
        }
      ]
    },
    {
      "cell_type": "code",
      "metadata": {
        "id": "SypSfZLOgnPa"
      },
      "source": [
        "sayı = int(input(\"Sayı Giriniz: \"))\n",
        "a=len(list(str(sayı)))\n",
        "c = int(a)\n",
        "b = sayı\n",
        "toplam=0\n",
        "count=0\n",
        "i=0\n",
        "while count<a:\n",
        "  i= sayı % 10\n",
        "  sayı = sayı//10\n",
        "  toplam= toplam + i**a\n",
        "  count +=1\n",
        "  print(i)\n",
        "\n",
        "if toplam==b:\n",
        "  print(b, \"is Armstrong Number\")\n",
        "else:\n",
        "  print(b, \" is not Armstrong Number\")\n"
      ],
      "execution_count": null,
      "outputs": []
    },
    {
      "cell_type": "code",
      "metadata": {
        "id": "AyI1-AAUgnPb"
      },
      "source": [
        "for i in range(1,11):\n",
        "  print(\"***********\")\n",
        "  for k in range(1,11):\n",
        "    print(i,\"*\", k,\"=\", i*k,)"
      ],
      "execution_count": null,
      "outputs": []
    },
    {
      "cell_type": "code",
      "metadata": {
        "id": "v4r3cxlbgnPb"
      },
      "source": [
        "toplam = 0\n",
        "\n",
        "while True:\n",
        "  try:\n",
        "    sayı= input(\"Lütfen Bir Sayı Giriniz veya Çıkmak İçin 'q' ya Basın: \")\n",
        "    a=int(sayı)\n",
        "    toplam += a\n",
        "    \n",
        "  except ValueError:\n",
        "    if sayı==\"q\":\n",
        "      print(\"Girdiğniz Sayıların Toplamı: \",toplam)\n",
        "      print(\"Programdan Çıkıldı...\")\n",
        "      break"
      ],
      "execution_count": null,
      "outputs": []
    },
    {
      "cell_type": "code",
      "metadata": {
        "id": "oHq-jvrwgnPc"
      },
      "source": [
        "liste=[]\n",
        "for i in range(1,101):\n",
        "  if i%3==0:\n",
        "    liste.append(i)\n",
        "print(liste)"
      ],
      "execution_count": null,
      "outputs": []
    },
    {
      "cell_type": "code",
      "metadata": {
        "id": "8UNc_zHCgnPc"
      },
      "source": [
        "list = [x for x in range(1,101) if x%2==0]\n",
        "print(list)"
      ],
      "execution_count": null,
      "outputs": []
    },
    {
      "cell_type": "markdown",
      "metadata": {
        "id": "hmYe5kn9gnPd"
      },
      "source": [
        "# Largest Number"
      ]
    },
    {
      "cell_type": "code",
      "metadata": {
        "id": "Jy28H7lBgnPd",
        "outputId": "377a8912-de00-49ea-ee58-8ed9cf78ebad"
      },
      "source": [
        "mylist=[]\n",
        "size= int(input(\"How many elements you want to enter? \"))\n",
        "print(\"Enter\", str(size), \"positive numbers\")\n",
        "\n",
        "for i in range(size):\n",
        "  number=int(input(\"number: \"))\n",
        "  mylist.append(number)\n",
        "\n",
        "largest=0\n",
        "for number in mylist:\n",
        "  if number > largest:\n",
        "    largest=number\n",
        "\n",
        "print(\"The largest number in list is\", largest)\n",
        "    \n"
      ],
      "execution_count": null,
      "outputs": [
        {
          "name": "stdout",
          "output_type": "stream",
          "text": [
            "How many elements you want to enter? 5\n",
            "Enter 5 positive numbers\n",
            "number: 5\n",
            "number: 6\n",
            "number: 7\n",
            "number: 88\n",
            "number: 78\n",
            "The largest number in list is 88\n"
          ]
        }
      ]
    },
    {
      "cell_type": "code",
      "metadata": {
        "id": "xGYultAIgnPe"
      },
      "source": [
        "def faktoriyel(sayı):\n",
        "    faktoriyel = 1\n",
        "    if sayı==0 or sayı==1:\n",
        "        print(\"Faktoriyel\", faktoriyel)\n",
        "    else:\n",
        "        while sayı>=1:\n",
        "            faktoriyel = faktoriyel*sayı\n",
        "            sayı -= 1\n",
        "            \n",
        "        print(\"Faktoriyel\", faktoriyel)"
      ],
      "execution_count": null,
      "outputs": []
    },
    {
      "cell_type": "code",
      "metadata": {
        "id": "n-7PzW_IgnPf",
        "outputId": "fb642eab-c9ce-428f-d2bc-defbb5849416"
      },
      "source": [
        "faktoriyel(5)"
      ],
      "execution_count": null,
      "outputs": [
        {
          "name": "stdout",
          "output_type": "stream",
          "text": [
            "Faktoriyel 120\n"
          ]
        }
      ]
    },
    {
      "cell_type": "markdown",
      "metadata": {
        "id": "EnG8bNpTgnPf"
      },
      "source": [
        "# Anagram"
      ]
    },
    {
      "cell_type": "code",
      "metadata": {
        "id": "aXtxn5IqgnPg"
      },
      "source": [
        "strs = [\"eat\", \"tea\", \"tan\", \"ate\", \"nat\", \"bat\", \"cat\", \"tac\"]\n",
        "anag = {}\n",
        "\n",
        "for i in strs:\n",
        "    element = \"\".join(sorted(i))\n",
        "    \n",
        "    if element in anag:\n",
        "        anag[element].append(i)\n",
        "    else:\n",
        "        anag[element] = [i]\n",
        "print(list(anag.items()))\n",
        "\n",
        "    "
      ],
      "execution_count": null,
      "outputs": []
    },
    {
      "cell_type": "markdown",
      "metadata": {
        "id": "Jw9lX6aCgnPi"
      },
      "source": [
        "Define a function to take a word and return negative meaning.\n",
        "Given a word, return a new word where \"not \" has been added to the front. However, if the word already begins with \"not\", return the string unchanged."
      ]
    },
    {
      "cell_type": "code",
      "metadata": {
        "id": "H11kJqTQgnPk"
      },
      "source": [
        "def not_string(word):\n",
        "  words=word.split()\n",
        "  if not word in words:\n",
        "    return word\n",
        "    \n",
        "  else:\n",
        "    return \"not \"+ word\n",
        "\n",
        "not_string(\"sugar\")"
      ],
      "execution_count": null,
      "outputs": []
    },
    {
      "cell_type": "markdown",
      "metadata": {
        "id": "HgYpahO7gnPl"
      },
      "source": [
        "#Asal Sayı"
      ]
    },
    {
      "cell_type": "code",
      "metadata": {
        "id": "Fnx0PZ_JgnPm",
        "outputId": "cf69e781-fa36-4386-efee-8dbaebaa838e"
      },
      "source": [
        "def asal(sayı):\n",
        "  if sayı==1:\n",
        "    return False\n",
        "  elif sayı ==2:\n",
        "    return True\n",
        "  else:\n",
        "    for i in range(2,sayı):\n",
        "      if sayı%i ==0:\n",
        "        return False\n",
        "    return True\n",
        "while True:\n",
        "  sayı=input(\"Sayı:\")\n",
        "\n",
        "  if (sayı==\"q\"):\n",
        "    print(\"Programdan Çıkıldı..\")\n",
        "    break\n",
        "  else:\n",
        "    sayı= int(sayı)\n",
        "    if asal(sayı):\n",
        "      print(sayı, \"asal bir sayıdır.\")\n",
        "    else:\n",
        "      print(sayı,\"asal bir sayı değildir.\")\n"
      ],
      "execution_count": null,
      "outputs": [
        {
          "name": "stdout",
          "output_type": "stream",
          "text": [
            "Sayı:17\n",
            "17 asal bir sayıdır.\n"
          ]
        }
      ]
    },
    {
      "cell_type": "markdown",
      "metadata": {
        "id": "BTy7TU7VgnPm"
      },
      "source": [
        "Bir Sayının Tam Bölenleri"
      ]
    },
    {
      "cell_type": "code",
      "metadata": {
        "id": "Pahon7G8gnPn"
      },
      "source": [
        "def bolen(sayı):\n",
        "  tam_bolenler = []\n",
        "\n",
        "  for i in range (2,sayı):\n",
        "    if sayı%i==0:\n",
        "      tam_bolenler.append(i)\n",
        "  return tam_bolenler\n",
        "\n",
        "while True:\n",
        "  sayı = input(\"Sayı:\")\n",
        "\n",
        "  if sayı==\"q\":\n",
        "    print(\"Program Sonlandırılıyor...\")\n",
        "    break\n",
        "  else:\n",
        "    sayı= int(sayı)\n",
        "    print(\"Tam bölenler:\", bolen(sayı))"
      ],
      "execution_count": null,
      "outputs": []
    },
    {
      "cell_type": "markdown",
      "metadata": {
        "id": "xYuab3jqgssJ"
      },
      "source": [
        "Problem :\n",
        "Given a collection of distinct integers, return all possible permutations.\n",
        "Example:\n",
        "Input:\n",
        "[1,2,3]"
      ]
    },
    {
      "cell_type": "code",
      "metadata": {
        "colab": {
          "base_uri": "https://localhost:8080/"
        },
        "id": "bEi-Ix75gwkW",
        "outputId": "4d63bc3c-1dea-44bc-b876-4fa1fe257f66"
      },
      "source": [
        "import random\n",
        "a = [1,2,3]\n",
        "b = []\n",
        "while len(b) < 6:\n",
        "  random.shuffle(a)\n",
        "  if a not in b:\n",
        "    b.append(a)\n",
        "    a = [1,2,3]\n",
        "b"
      ],
      "execution_count": 1,
      "outputs": [
        {
          "output_type": "execute_result",
          "data": {
            "text/plain": [
              "[[3, 2, 1], [2, 3, 1], [1, 3, 2], [2, 1, 3], [1, 2, 3], [3, 1, 2]]"
            ]
          },
          "metadata": {},
          "execution_count": 1
        }
      ]
    }
  ]
}