{
  "nbformat": 4,
  "nbformat_minor": 0,
  "metadata": {
    "kernelspec": {
      "display_name": "Python 3",
      "language": "python",
      "name": "python3"
    },
    "language_info": {
      "codemirror_mode": {
        "name": "ipython",
        "version": 3
      },
      "file_extension": ".py",
      "mimetype": "text/x-python",
      "name": "python",
      "nbconvert_exporter": "python",
      "pygments_lexer": "ipython3",
      "version": "3.8.5"
    },
    "colab": {
      "name": "Untitled.ipynb",
      "provenance": [],
      "collapsed_sections": [
        "kFGoknLJhC-Z",
        "FtsttLLLhC-b",
        "6m8_CxdkhC-h",
        "2WDqxwvNhC-i",
        "rTAjL2iUhC-i"
      ],
      "include_colab_link": true
    }
  },
  "cells": [
    {
      "cell_type": "markdown",
      "metadata": {
        "id": "view-in-github",
        "colab_type": "text"
      },
      "source": [
        "<a href=\"https://colab.research.google.com/github/mslmyrtd/Python-Worksheet/blob/main/Untitled.ipynb\" target=\"_parent\"><img src=\"https://colab.research.google.com/assets/colab-badge.svg\" alt=\"Open In Colab\"/></a>"
      ]
    },
    {
      "cell_type": "code",
      "metadata": {
        "id": "gSaX-dwEhC96",
        "outputId": "17ac0057-d9a6-4bbb-de48-dddcbcad5da5"
      },
      "source": [
        "for x in set('pqr'):\n",
        "    print(x*2)\n"
      ],
      "execution_count": null,
      "outputs": [
        {
          "output_type": "stream",
          "text": [
            "pp\n",
            "qq\n",
            "rr\n"
          ],
          "name": "stdout"
        }
      ]
    },
    {
      "cell_type": "code",
      "metadata": {
        "id": "S6o5mt7mhE2p"
      },
      "source": [
        ""
      ],
      "execution_count": null,
      "outputs": []
    },
    {
      "cell_type": "code",
      "metadata": {
        "id": "Fgd6dBVShC-O",
        "outputId": "95a63526-1304-40b2-93e1-1a616599b837"
      },
      "source": [
        "str = \"Python Software Foundation\"\n",
        "s = str.split()\n",
        "print(s)\n",
        "s = sorted(s)\n",
        "print(s)\n",
        "s = \" \".join(s)\n",
        "print(s)\n",
        "print(s[2:5])"
      ],
      "execution_count": null,
      "outputs": [
        {
          "output_type": "stream",
          "text": [
            "['Python', 'Software', 'Foundation']\n",
            "['Foundation', 'Python', 'Software']\n",
            "Foundation Python Software\n",
            "und\n"
          ],
          "name": "stdout"
        }
      ]
    },
    {
      "cell_type": "markdown",
      "metadata": {
        "id": "FPLqK-SshC-Q"
      },
      "source": [
        "Give two strings from user , s1, and s2 return a new string made of the first, middle, and last characters each input string\n"
      ]
    },
    {
      "cell_type": "code",
      "metadata": {
        "id": "ooOB30ZbhC-R"
      },
      "source": [
        "s1= input(\"Harf sayısı tek olan kelime giriniz: \")\n",
        "s2= input(\"harf sayısı tek olan kelime giriniz:\")\n",
        "middle_ch_s1 = int((len(s1))/2)\n",
        "middle_ch_s2=int(len(s2)/2)\n",
        "print(s1[0]+s2[0]+s1[middle_ch_s1]+ s2[middle_ch_s2]+s1[-1]+s2[-1])"
      ],
      "execution_count": null,
      "outputs": []
    },
    {
      "cell_type": "markdown",
      "metadata": {
        "id": "bH6uTspdhC-S"
      },
      "source": [
        "mail = \"from Ahmet, mail to: abcxyz@gmail.com  15:1990:01\"\n",
        "Yukarıdaki mail değişkenine atanan değerden, sadece domain kısmını, \"gmail.com\" bölümünü çıktı verecek kodu yazınız. "
      ]
    },
    {
      "cell_type": "code",
      "metadata": {
        "id": "TniCqxBGhC-S"
      },
      "source": [
        "mail = \"from Ahmet, mail to: abcxyz@gmail.com  15:1990:01\"\n",
        "start=mail.find(\"@\")\n",
        "end = mail.find(\"com\")\n",
        "print(mail[start+1:end+3])"
      ],
      "execution_count": null,
      "outputs": []
    },
    {
      "cell_type": "code",
      "metadata": {
        "id": "s5TED9sdhC-T",
        "outputId": "665f0d30-3c66-43f1-9788-9dc695b3b07c"
      },
      "source": [
        "d = {\"john\":40, \"peter\":45}\n",
        "print(list(d.keys()))"
      ],
      "execution_count": null,
      "outputs": [
        {
          "output_type": "stream",
          "text": [
            "['john', 'peter']\n"
          ],
          "name": "stdout"
        }
      ]
    },
    {
      "cell_type": "code",
      "metadata": {
        "id": "jhXcPxx6hC-T",
        "outputId": "fa838dae-4cad-4f51-92ef-cfdf9dd6574d"
      },
      "source": [
        "a={}\n",
        "a['a']=1\n",
        "a['b']=[2,3,4]\n",
        "print(a)\n"
      ],
      "execution_count": null,
      "outputs": [
        {
          "output_type": "stream",
          "text": [
            "{'a': 1, 'b': [2, 3, 4]}\n"
          ],
          "name": "stdout"
        }
      ]
    },
    {
      "cell_type": "code",
      "metadata": {
        "id": "LMKXMlknhC-U",
        "outputId": "56fef98c-28e4-463a-d84c-1fa244b6fba5"
      },
      "source": [
        "z=set('abc')\n",
        "z.add('san')\n",
        "z.update(set(['p', 'q']))\n",
        "print(z)"
      ],
      "execution_count": null,
      "outputs": [
        {
          "output_type": "stream",
          "text": [
            "{'san', 'a', 'c', 'b', 'p', 'q'}\n"
          ],
          "name": "stdout"
        }
      ]
    },
    {
      "cell_type": "markdown",
      "metadata": {
        "id": "yAAEA-5ZhC-U"
      },
      "source": [
        "Is the Word an Isogram?"
      ]
    },
    {
      "cell_type": "code",
      "metadata": {
        "id": "2_DUGGQXhC-V"
      },
      "source": [
        "def is_isogram(txt):\n",
        "  return len(txt) == len(set(txt.lower()))\n",
        "  \n",
        "  for letter in txt:\n",
        "    if txt.count(letter)>1:\n",
        "      return False\n",
        "    else:\n",
        "      True\n"
      ],
      "execution_count": null,
      "outputs": []
    },
    {
      "cell_type": "markdown",
      "metadata": {
        "id": "plz0eBoNhC-V"
      },
      "source": [
        "In this little assignment you are given a string of space separated numbers, and have to return the highest and lowest number."
      ]
    },
    {
      "cell_type": "code",
      "metadata": {
        "id": "TETf2u_IhC-Y",
        "outputId": "195803cc-6ca2-44b0-cf1c-21f13ac8f528"
      },
      "source": [
        "def highest_lowest_num(str1):\n",
        "  num_list = list(map(int, str1.split()))\n",
        "  return max(num_list), min(num_list)\n",
        "highest_lowest_num(\"8 45 98 -5 82 -45\")"
      ],
      "execution_count": null,
      "outputs": [
        {
          "output_type": "execute_result",
          "data": {
            "text/plain": [
              "(98, -45)"
            ]
          },
          "metadata": {
            "tags": []
          },
          "execution_count": 3
        }
      ]
    },
    {
      "cell_type": "markdown",
      "metadata": {
        "id": "30BLJjqQhC-Y"
      },
      "source": [
        "# ATM Makinesi"
      ]
    },
    {
      "cell_type": "code",
      "metadata": {
        "id": "vpDPgxcLhC-Y",
        "outputId": "9dae808d-2325-4d94-91e9-2bc196df2c06"
      },
      "source": [
        "print(\"\"\"****************\n",
        "ATM Makinesine Hoşgeldiniz.\n",
        "İşlemler:\n",
        "1. Bakiye Sorgulama\n",
        "\n",
        "2. Para Yatırma\n",
        "\n",
        "3. Para Çekme\n",
        "\n",
        "\n",
        "*****************\"\"\")\n",
        "\n",
        "\n",
        "\n",
        "sys_kullanıcı_adı = \"barış\"\n",
        "sys_parola = \"12345\"\n",
        "giriş_hakkı = 3\n",
        "bakiye = 1000\n",
        "\n",
        "\n",
        "\n",
        "while True:\n",
        "  \n",
        "    \n",
        "    kullanıcı_adı = input(\"Please enter your user name:  \")\n",
        "    parola = input(\"Enter your password: \")\n",
        "    if kullanıcı_adı == sys_kullanıcı_adı and parola != sys_parola:\n",
        "        print(\"Parola Hatalı!\")\n",
        "        giriş_hakkı -=1\n",
        "    elif  kullanıcı_adı != sys_kullanıcı_adı and parola == sys_parola:\n",
        "        print(\"Kullanıcı Adı Hatalı!\")\n",
        "        giriş_hakkı -=1\n",
        "    elif  kullanıcı_adı != sys_kullanıcı_adı and parola != sys_parola:\n",
        "        print(\"Parola ve Kullanıcı Adı Hatalı\")\n",
        "        giriş_hakkı -=1\n",
        "    else:\n",
        "        print(\"Sisteme Giriş Yapılıyor...\\nHoşgeldiniz Sayın {} Bey\".format(sys_kullanıcı_adı))\n",
        "    \n",
        "        while True:\n",
        "            işlem = input(\"İşlemi Seçiniz veya Sistemden Çıkmak İçin 'q' Basınız: \")\n",
        "            \n",
        "            if (işlem == \"q\"):\n",
        "                print(\"Sistemden Çıkış Yapılıyor...\\nYine Bekleriz\")\n",
        "                print()\n",
        "                print()\n",
        "                print()\n",
        "                print(\"\"\"****************\n",
        "ATM Makinesine Hoşgeldiniz.\n",
        "İşlemler:\n",
        "1. Bakiye Sorgulama\n",
        "\n",
        "2. Para Yatırma\n",
        "\n",
        "3. Para Çekme\n",
        "\n",
        "\n",
        "*****************\"\"\")\n",
        "                break\n",
        "            if (işlem == \"1\") :\n",
        "                print(\"Bakiyeniz {} tl dir.\".format(bakiye))\n",
        "            elif (işlem == \"2\") :\n",
        "                miktar = int(input(\"Yatıracağınız Miktarı Giriniz: \"))\n",
        "                bakiye += miktar\n",
        "                print(\"Hesabınıza {} TL Yatırdınız. \\nYeni Bakiyeniz {} tl dir.\".format(miktar,bakiye))        \n",
        "            elif (işlem == \"3\") :\n",
        "                 miktar = int(input(\"Çekeceğiniz Miktarı Giriniz: \"))\n",
        "                 if (bakiye- miktar < 0):\n",
        "                    print(\"Bakiye Yetersiz!\")\n",
        "                    continue\n",
        "                 bakiye -= miktar\n",
        "                 print(\"Paranız Hazırlanıyor... \\nKalan Bakiyeniz {} tl dir.\".format(bakiye))           \n",
        "            else:\n",
        "                print(\"Geçersiz İşlem !\")\n",
        "    if giriş_hakkı==0:\n",
        "        print(\"Giriş Hakkınız Sona Ermiştir!\")\n",
        "        break"
      ],
      "execution_count": null,
      "outputs": [
        {
          "output_type": "stream",
          "text": [
            "****************\n",
            "ATM Makinesine Hoşgeldiniz.\n",
            "İşlemler:\n",
            "1. Bakiye Sorgulama\n",
            "\n",
            "2. Para Yatırma\n",
            "\n",
            "3. Para Çekme\n",
            "\n",
            "\n",
            "*****************\n",
            "Please enter your user name:  barış\n",
            "Enter your password: 12345\n",
            "Sisteme Giriş Yapılıyor...\n",
            "Hoşgeldiniz Sayın barış Bey\n",
            "İşlemi Seçiniz veya Sistemden Çıkmak İçin 'q' Basınız: 1\n",
            "Bakiyeniz 1000 tl dir.\n",
            "İşlemi Seçiniz veya Sistemden Çıkmak İçin 'q' Basınız: 2\n",
            "Yatıracağınız Miktarı Giriniz: 1000\n",
            "Hesabınıza 1000 TL Yatırdınız. \n",
            "Yeni Bakiyeniz 2000 tl dir.\n",
            "İşlemi Seçiniz veya Sistemden Çıkmak İçin 'q' Basınız: 3\n",
            "Çekeceğiniz Miktarı Giriniz: 1500\n",
            "Paranız Hazırlanıyor... \n",
            "Kalan Bakiyeniz 500 tl dir.\n"
          ],
          "name": "stdout"
        }
      ]
    },
    {
      "cell_type": "markdown",
      "metadata": {
        "id": "kFGoknLJhC-Z"
      },
      "source": [
        "# Faktoriyel Bulma"
      ]
    },
    {
      "cell_type": "code",
      "metadata": {
        "id": "rE__xZp4hC-a"
      },
      "source": [
        "while True:\n",
        "    sayı = input(\"Bir Sayı Giriniz veya Çıkmak İçin 'q' ya Basınız:  \")\n",
        "\n",
        "    if sayı==\"q\":\n",
        "        print(\"Programdan Çıkılıyor... \")\n",
        "    else:\n",
        "        faktöriyel = 1\n",
        "        sayı= int(sayı)\n",
        "        for i in range(2,sayı+1):\n",
        "            faktöriyel *=i\n",
        "        print(faktöriyel)\n",
        "        break"
      ],
      "execution_count": null,
      "outputs": []
    },
    {
      "cell_type": "markdown",
      "metadata": {
        "id": "FtsttLLLhC-b"
      },
      "source": [
        "# Fibonacci Numbers"
      ]
    },
    {
      "cell_type": "code",
      "metadata": {
        "id": "Ng1orvuDhC-b",
        "outputId": "313f09a4-69e8-4988-8e51-fd9d22099d45"
      },
      "source": [
        "a=1\n",
        "b=1\n",
        "\n",
        "fibonacci= [a,b]\n",
        "\n",
        "for i in range(8):\n",
        "  a,b=b,a+b\n",
        "  fibonacci.append(b)\n",
        "print(fibonacci)"
      ],
      "execution_count": null,
      "outputs": [
        {
          "output_type": "stream",
          "text": [
            "[1, 1, 2, 3, 5, 8, 13, 21, 34, 55]\n"
          ],
          "name": "stdout"
        }
      ]
    },
    {
      "cell_type": "code",
      "metadata": {
        "id": "mFDVDukBhC-c",
        "outputId": "f669cfa1-7c7b-485b-a152-8a4361b27418"
      },
      "source": [
        "first_ten = [0, 1, 2, 3, 4, 5, 6, 7, 8, 9]\n",
        "even = filter(lambda x:x%2==0, first_ten)\n",
        "print(\"Even numbers are :\", list(even))"
      ],
      "execution_count": null,
      "outputs": [
        {
          "output_type": "stream",
          "text": [
            "Even numbers are : [0, 2, 4, 6, 8]\n"
          ],
          "name": "stdout"
        }
      ]
    },
    {
      "cell_type": "code",
      "metadata": {
        "id": "YX6Jz8kthC-d",
        "outputId": "df600fcb-f02b-4c26-8d94-ef2069c1ff33"
      },
      "source": [
        "vowel_list = ['a', 'e', 'i', 'o', 'u']\n",
        "first_ten = ['a', 'b', 'c', 'd', 'e', 'f', 'g', 'h', 'i', 'j']\n",
        "vowels = filter(lambda x:True if x in vowel_list else False, first_ten)\n",
        "print(\"Vowels are :\", list(vowels))"
      ],
      "execution_count": null,
      "outputs": [
        {
          "output_type": "stream",
          "text": [
            "Vowels are : ['a', 'e', 'i']\n"
          ],
          "name": "stdout"
        }
      ]
    },
    {
      "cell_type": "code",
      "metadata": {
        "id": "8vfpEbIHhC-d",
        "outputId": "f8fbfdf1-ceb6-4a66-b06d-dd5f04d4cb78"
      },
      "source": [
        "number_list = [1, 2, 3, 4, 5, 6, 7, 8, 9, 10]\n",
        "\n",
        "result = filter(lambda x: True if x>=6 else False, number_list)\n",
        "print(list(result))\n"
      ],
      "execution_count": null,
      "outputs": [
        {
          "output_type": "stream",
          "text": [
            "[6, 7, 8, 9, 10]\n"
          ],
          "name": "stdout"
        }
      ]
    },
    {
      "cell_type": "code",
      "metadata": {
        "id": "38S5Yz5PhC-e",
        "outputId": "b95afa67-3948-45ca-a7e1-1a94ea3144ea"
      },
      "source": [
        "def modular_function(n):\n",
        "    return lambda x: x ** n\n",
        "    \n",
        "power_of_2 = modular_function(2)  \n",
        "power_of_3 = modular_function(3)  \n",
        "power_of_4 = modular_function(4)  \n",
        "\n",
        "print(power_of_2(2))  \n",
        "print(power_of_3(2))  \n",
        "print(power_of_4(2))  "
      ],
      "execution_count": null,
      "outputs": [
        {
          "output_type": "stream",
          "text": [
            "4\n",
            "8\n",
            "16\n"
          ],
          "name": "stdout"
        }
      ]
    },
    {
      "cell_type": "code",
      "metadata": {
        "id": "yCbkiR0ThC-f",
        "outputId": "ac75373f-497a-4d51-eaeb-354e26241810"
      },
      "source": [
        "sayı = int(input(\"sayı giriniz: \"))\n",
        "toplam=0\n",
        "for i in range(1,sayı):\n",
        "    if sayı%i==0:\n",
        "        toplam +=i\n",
        "        \n",
        "    \n",
        "if sayı==toplam:\n",
        "    print(sayı, \" Mükemmel Bir Sayıdır..\")\n",
        "else:\n",
        "    print(sayı, \" Mükemmel Bir Sayı Değildir\")"
      ],
      "execution_count": null,
      "outputs": [
        {
          "output_type": "stream",
          "text": [
            "sayı giriniz: 15\n",
            "15  Mükemmel Bir Sayı Değildir\n"
          ],
          "name": "stdout"
        }
      ]
    },
    {
      "cell_type": "code",
      "metadata": {
        "id": "ROMqwnUVhC-g"
      },
      "source": [
        "sayı = int(input(\"Sayı Giriniz: \"))\n",
        "a=len(list(str(sayı)))\n",
        "c = int(a)\n",
        "b = sayı\n",
        "toplam=0\n",
        "count=0\n",
        "i=0\n",
        "while count<a:\n",
        "  i= sayı % 10\n",
        "  sayı = sayı//10\n",
        "  toplam= toplam + i**a\n",
        "  count +=1\n",
        "  print(i)\n",
        "\n",
        "if toplam==b:\n",
        "  print(b, \"is Armstrong Number\")\n",
        "else:\n",
        "  print(b, \" is not Armstrong Number\")\n"
      ],
      "execution_count": null,
      "outputs": []
    },
    {
      "cell_type": "code",
      "metadata": {
        "id": "8in1PKbmhC-g"
      },
      "source": [
        "for i in range(1,11):\n",
        "  print(\"***********\")\n",
        "  for k in range(1,11):\n",
        "    print(i,\"*\", k,\"=\", i*k,)"
      ],
      "execution_count": null,
      "outputs": []
    },
    {
      "cell_type": "code",
      "metadata": {
        "id": "FLbSmGxAhC-g"
      },
      "source": [
        "toplam = 0\n",
        "\n",
        "while True:\n",
        "  try:\n",
        "    sayı= input(\"Lütfen Bir Sayı Giriniz veya Çıkmak İçin 'q' ya Basın: \")\n",
        "    a=int(sayı)\n",
        "    toplam += a\n",
        "    \n",
        "  except ValueError:\n",
        "    if sayı==\"q\":\n",
        "      print(\"Girdiğniz Sayıların Toplamı: \",toplam)\n",
        "      print(\"Programdan Çıkıldı...\")\n",
        "      break"
      ],
      "execution_count": null,
      "outputs": []
    },
    {
      "cell_type": "code",
      "metadata": {
        "id": "A6euYhdPhC-h"
      },
      "source": [
        "liste=[]\n",
        "for i in range(1,101):\n",
        "  if i%3==0:\n",
        "    liste.append(i)\n",
        "print(liste)"
      ],
      "execution_count": null,
      "outputs": []
    },
    {
      "cell_type": "code",
      "metadata": {
        "id": "cLshgwskhC-h"
      },
      "source": [
        "list = [x for x in range(1,101) if x%2==0]\n",
        "print(list)"
      ],
      "execution_count": null,
      "outputs": []
    },
    {
      "cell_type": "markdown",
      "metadata": {
        "id": "6m8_CxdkhC-h"
      },
      "source": [
        "# Largest Number"
      ]
    },
    {
      "cell_type": "code",
      "metadata": {
        "id": "8op0nb8qhC-h",
        "outputId": "ae2593a5-53f8-4ada-bdfe-87ded645a42c"
      },
      "source": [
        "mylist=[]\n",
        "size= int(input(\"How many elements you want to enter? \"))\n",
        "print(\"Enter\", str(size), \"positive numbers\")\n",
        "\n",
        "for i in range(size):\n",
        "  number=int(input(\"number: \"))\n",
        "  mylist.append(number)\n",
        "\n",
        "largest=0\n",
        "for number in mylist:\n",
        "  if number > largest:\n",
        "    largest=number\n",
        "\n",
        "print(\"The largest number in list is\", largest)\n",
        "    \n"
      ],
      "execution_count": null,
      "outputs": [
        {
          "output_type": "stream",
          "text": [
            "How many elements you want to enter? 5\n",
            "Enter 5 positive numbers\n",
            "number: 5\n",
            "number: 6\n",
            "number: 7\n",
            "number: 88\n",
            "number: 78\n",
            "The largest number in list is 88\n"
          ],
          "name": "stdout"
        }
      ]
    },
    {
      "cell_type": "code",
      "metadata": {
        "id": "2Rc4A1RphC-h"
      },
      "source": [
        "def faktoriyel(sayı):\n",
        "    faktoriyel = 1\n",
        "    if sayı==0 or sayı==1:\n",
        "        print(\"Faktoriyel\", faktoriyel)\n",
        "    else:\n",
        "        while sayı>=1:\n",
        "            faktoriyel = faktoriyel*sayı\n",
        "            sayı -= 1\n",
        "            \n",
        "        print(\"Faktoriyel\", faktoriyel)"
      ],
      "execution_count": null,
      "outputs": []
    },
    {
      "cell_type": "code",
      "metadata": {
        "id": "JwARB1RmhC-i",
        "outputId": "8e55354b-3042-4fc2-d3eb-e75aa7a19112"
      },
      "source": [
        "faktoriyel(5)"
      ],
      "execution_count": null,
      "outputs": [
        {
          "output_type": "stream",
          "text": [
            "Faktoriyel 120\n"
          ],
          "name": "stdout"
        }
      ]
    },
    {
      "cell_type": "markdown",
      "metadata": {
        "id": "2WDqxwvNhC-i"
      },
      "source": [
        "# Anagram"
      ]
    },
    {
      "cell_type": "code",
      "metadata": {
        "id": "HlJnWxuohC-i"
      },
      "source": [
        "strs = [\"eat\", \"tea\", \"tan\", \"ate\", \"nat\", \"bat\", \"cat\", \"tac\"]\n",
        "anag = {}\n",
        "\n",
        "for i in strs:\n",
        "    element = \"\".join(sorted(i))\n",
        "    \n",
        "    if element in anag:\n",
        "        anag[element].append(i)\n",
        "    else:\n",
        "        anag[element] = [i]\n",
        "print(list(anag.items()))\n",
        "\n",
        "    "
      ],
      "execution_count": null,
      "outputs": []
    },
    {
      "cell_type": "markdown",
      "metadata": {
        "id": "Fn4Rd-ArhC-i"
      },
      "source": [
        "Define a function to take a word and return negative meaning.\n",
        "Given a word, return a new word where \"not \" has been added to the front. However, if the word already begins with \"not\", return the string unchanged."
      ]
    },
    {
      "cell_type": "code",
      "metadata": {
        "id": "u9Yma6T_hC-i"
      },
      "source": [
        "def not_string(word):\n",
        "  words=word.split()\n",
        "  if not word in words:\n",
        "    return word\n",
        "    \n",
        "  else:\n",
        "    return \"not \"+ word\n",
        "\n",
        "not_string(\"sugar\")"
      ],
      "execution_count": null,
      "outputs": []
    },
    {
      "cell_type": "markdown",
      "metadata": {
        "id": "rTAjL2iUhC-i"
      },
      "source": [
        "#Asal Sayı"
      ]
    },
    {
      "cell_type": "code",
      "metadata": {
        "id": "pQ0FbebQhC-j",
        "outputId": "bce48d64-4706-4108-a472-fa2030030c1e"
      },
      "source": [
        "def asal(sayı):\n",
        "  if sayı==1:\n",
        "    return False\n",
        "  elif sayı ==2:\n",
        "    return True\n",
        "  else:\n",
        "    for i in range(2,sayı):\n",
        "      if sayı%i ==0:\n",
        "        return False\n",
        "    return True\n",
        "while True:\n",
        "  sayı=input(\"Sayı:\")\n",
        "\n",
        "  if (sayı==\"q\"):\n",
        "    print(\"Programdan Çıkıldı..\")\n",
        "    break\n",
        "  else:\n",
        "    sayı= int(sayı)\n",
        "    if asal(sayı):\n",
        "      print(sayı, \"asal bir sayıdır.\")\n",
        "    else:\n",
        "      print(sayı,\"asal bir sayı değildir.\")\n"
      ],
      "execution_count": null,
      "outputs": [
        {
          "output_type": "stream",
          "text": [
            "Sayı:17\n",
            "17 asal bir sayıdır.\n"
          ],
          "name": "stdout"
        }
      ]
    },
    {
      "cell_type": "markdown",
      "metadata": {
        "id": "J7uYR2_bhC-j"
      },
      "source": [
        "Bir Sayının Tam Bölenleri"
      ]
    },
    {
      "cell_type": "code",
      "metadata": {
        "id": "B3KXsLSThC-j"
      },
      "source": [
        "def bolen(sayı):\n",
        "  tam_bolenler = []\n",
        "\n",
        "  for i in range (2,sayı):\n",
        "    if sayı%i==0:\n",
        "      tam_bolenler.append(i)\n",
        "  return tam_bolenler\n",
        "\n",
        "while True:\n",
        "  sayı = input(\"Sayı:\")\n",
        "\n",
        "  if sayı==\"q\":\n",
        "    print(\"Program Sonlandırılıyor...\")\n",
        "    break\n",
        "  else:\n",
        "    sayı= int(sayı)\n",
        "    print(\"Tam bölenler:\", bolen(sayı))"
      ],
      "execution_count": null,
      "outputs": []
    },
    {
      "cell_type": "markdown",
      "metadata": {
        "id": "KJQntvlqhC-j"
      },
      "source": [
        "# Show me my way, please!"
      ]
    },
    {
      "cell_type": "code",
      "metadata": {
        "id": "SkRRglEkhC-j"
      },
      "source": [
        "c = [\"right 20\", \"right 30\", \"left 50\", \"up 10\", \"down 20\"]"
      ],
      "execution_count": null,
      "outputs": []
    },
    {
      "cell_type": "code",
      "metadata": {
        "id": "YQhn13QehC-j"
      },
      "source": [
        "# [0, -10]"
      ],
      "execution_count": null,
      "outputs": []
    },
    {
      "cell_type": "code",
      "metadata": {
        "id": "d-ubxc71hC-k",
        "outputId": "90e3b534-641a-4c6e-ebbf-25c571120dbc"
      },
      "source": [
        "x=y=0\n",
        "for i in range(len(c)):\n",
        "    if c[i].startswith(\"r\")   : x = x + int(c[i].split()[1])\n",
        "    elif c[i].startswith(\"l\") : x = x - int(c[i].split()[1])\n",
        "    elif c[i].startswith(\"u\") : y = y + int(c[i].split()[1])\n",
        "    elif c[i].startswith(\"d\") : y = y - int(c[i].split()[1])\n",
        "        \n",
        "[x, y]"
      ],
      "execution_count": null,
      "outputs": [
        {
          "output_type": "execute_result",
          "data": {
            "text/plain": [
              "[0, -10]"
            ]
          },
          "metadata": {
            "tags": []
          },
          "execution_count": 3
        }
      ]
    },
    {
      "cell_type": "markdown",
      "metadata": {
        "id": "2ISkj7HmhC-k"
      },
      "source": [
        "Task : Print the Fizz Buzz numbers.\n",
        "\n",
        "Fizz Buzz is a famous code challenge used in interviews to test basic programming skills. It's time to write your own implementation.\n",
        "Print numbers from 1 to 100 inclusively following these instructions:\n",
        "1.if a number is multiple of 3, print \"Fizz\" instead of this number,\n",
        "2.if a number is multiple of 5, print \"Buzz\" instead of this number,\n",
        "3.for numbers that are multiples of both 3 and 5, print \"FizzBuzz\",\n",
        "print the rest of the numbers unchanged.\n",
        "Output each value on a separate line.\n"
      ]
    },
    {
      "cell_type": "code",
      "metadata": {
        "id": "NZJ0OOkMhC-k"
      },
      "source": [
        "for i in range(1,101):\n",
        "  if i % 3 ==0 and i%5 !=0 :\n",
        "    print(i, \"Fizz\")\n",
        "  elif i % 5==0 and i%3 !=0:\n",
        "    print(i, \"Buzz\")\n",
        "  elif i%3==0 and i%5==0:\n",
        "    print(i, \"FizzBuzz\")\n",
        "  else:\n",
        "    print(i)\n",
        "  "
      ],
      "execution_count": null,
      "outputs": []
    },
    {
      "cell_type": "markdown",
      "metadata": {
        "id": "F_ffjxIhhC-k"
      },
      "source": [
        "Problem Statement\n",
        "Write a function/functions that checks whether the sentence you get from the user is a palindrome. (Do not consider punctuation and special characters. Only consider \"alphanumeric\" characters.)"
      ]
    },
    {
      "cell_type": "code",
      "metadata": {
        "id": "biVZvND6hC-k"
      },
      "source": [
        "punctuations = '''!()-[]{};:'\"\\,<>./?@#$%^&*_~'''\n",
        "while True:\n",
        "  s= input(\"Please enter a word or sentence :\")\n",
        "  no_punct=\"\"\n",
        "  for i in s:\n",
        "    if i not in punctuations:\n",
        "      no_punct=no_punct + i\n",
        "    \n",
        "  if no_punct== no_punct[::-1]:\n",
        "    print(\"Yes\")\n",
        "  else:\n",
        "    print(\"No\")\n",
        "    break\n"
      ],
      "execution_count": null,
      "outputs": []
    },
    {
      "cell_type": "code",
      "metadata": {
        "colab": {
          "base_uri": "https://localhost:8080/",
          "height": 132
        },
        "id": "f_Ki4eDohIbs",
        "outputId": "22cc75cd-453b-4729-bf3d-87659d6db37a"
      },
      "source": [
        "Task: The department you work for has received a project that displays the solved sudoku puzzles in a digital environment. \n",
        "\n",
        "Write a Python code to print out the given sudoku puzzle matrix in the following format.\n",
        "Given format :"
      ],
      "execution_count": 1,
      "outputs": [
        {
          "output_type": "error",
          "ename": "SyntaxError",
          "evalue": "ignored",
          "traceback": [
            "\u001b[0;36m  File \u001b[0;32m\"<ipython-input-1-028f6aacf817>\"\u001b[0;36m, line \u001b[0;32m1\u001b[0m\n\u001b[0;31m    Task: The department you work for has received a project that displays the solved sudoku puzzles in a digital environment.\u001b[0m\n\u001b[0m                       ^\u001b[0m\n\u001b[0;31mSyntaxError\u001b[0m\u001b[0;31m:\u001b[0m invalid syntax\n"
          ]
        }
      ]
    },
    {
      "cell_type": "code",
      "metadata": {
        "id": "jCtciKqehPPd"
      },
      "source": [
        "sudoku = [\n",
        "    [0, 0, 0, 0, 6, 4, 0, 0, 0],\n",
        "    [7, 0, 0, 0, 0, 0, 3, 9, 0],\n",
        "    [8, 0, 0, 0, 0, 0, 0, 0, 0],\n",
        "    [0, 0, 0, 5, 0, 2, 0, 6, 0],\n",
        "    [0, 8, 0, 4, 0, 0, 0, 0, 0],\n",
        "    [3, 5, 0, 6, 0, 0, 0, 7, 0],\n",
        "    [0, 0, 2, 0, 0, 0, 1, 0, 3],\n",
        "    [0, 0, 1, 0, 5, 9, 0, 0, 0],\n",
        "    [0, 0, 0, 0, 0, 0, 7, 0, 0]\n",
        "]"
      ],
      "execution_count": null,
      "outputs": []
    },
    {
      "cell_type": "code",
      "metadata": {
        "id": "lha6pKFshSo9"
      },
      "source": [
        "i=0\n",
        "\n",
        "import string\n",
        "print(\"-\"*23)\n",
        "while i<len(sudoku):\n",
        "  a = sudoku[i]\n",
        "  b= str(a)\n",
        "  c=\"\"\n",
        "  \n",
        "  i +=1\n",
        "  for k in b:\n",
        "    if k not in string.punctuation:\n",
        "      c = c+k\n",
        "  \n",
        "\n",
        "  if  i==0 or i==4 or i==7 or i==10:\n",
        "    print(\"-\"*24)\n",
        "  print(c[0:5]+\" | \"+ c[5:11]+\" | \"+c[11:17])\n",
        "print(\"-\"*23)\n"
      ],
      "execution_count": null,
      "outputs": []
    },
    {
      "cell_type": "markdown",
      "metadata": {
        "id": "L7KyNlEahNnX"
      },
      "source": [
        ""
      ]
    }
  ]
}