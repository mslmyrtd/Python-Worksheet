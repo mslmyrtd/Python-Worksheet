{
  "nbformat": 4,
  "nbformat_minor": 0,
  "metadata": {
    "kernelspec": {
      "display_name": "Python 3",
      "language": "python",
      "name": "python3"
    },
    "language_info": {
      "codemirror_mode": {
        "name": "ipython",
        "version": 3
      },
      "file_extension": ".py",
      "mimetype": "text/x-python",
      "name": "python",
      "nbconvert_exporter": "python",
      "pygments_lexer": "ipython3",
      "version": "3.8.5"
    },
    "colab": {
      "name": "Untitled.ipynb",
      "provenance": [],
      "include_colab_link": true
    }
  },
  "cells": [
    {
      "cell_type": "markdown",
      "metadata": {
        "id": "view-in-github",
        "colab_type": "text"
      },
      "source": [
        "<a href=\"https://colab.research.google.com/github/mslmyrtd/Python-Worksheet/blob/main/Untitled.ipynb\" target=\"_parent\"><img src=\"https://colab.research.google.com/assets/colab-badge.svg\" alt=\"Open In Colab\"/></a>"
      ]
    },
    {
      "cell_type": "code",
      "metadata": {
        "id": "DOItUbfW-eDb",
        "outputId": "b3fdccfa-d44a-46e6-98f0-1d964c942af5"
      },
      "source": [
        "for x in set('pqr'):\n",
        "    print(x*2)\n"
      ],
      "execution_count": null,
      "outputs": [
        {
          "name": "stdout",
          "output_type": "stream",
          "text": [
            "pp\n",
            "qq\n",
            "rr\n"
          ]
        }
      ]
    },
    {
      "cell_type": "code",
      "metadata": {
        "id": "MABF3rkS-eD4",
        "outputId": "0aad0ec9-6fdb-49e2-9a37-ac6bb525f9c0"
      },
      "source": [
        "str = \"Python Software Foundation\"\n",
        "s = str.split()\n",
        "print(s)\n",
        "s = sorted(s)\n",
        "print(s)\n",
        "s = \" \".join(s)\n",
        "print(s)\n",
        "print(s[2:5])"
      ],
      "execution_count": null,
      "outputs": [
        {
          "name": "stdout",
          "output_type": "stream",
          "text": [
            "['Python', 'Software', 'Foundation']\n",
            "['Foundation', 'Python', 'Software']\n",
            "Foundation Python Software\n",
            "und\n"
          ]
        }
      ]
    },
    {
      "cell_type": "markdown",
      "metadata": {
        "id": "LNHz7hQU-eD-"
      },
      "source": [
        "Give two strings from user , s1, and s2 return a new string made of the first, middle, and last characters each input string\n"
      ]
    },
    {
      "cell_type": "code",
      "metadata": {
        "id": "vw5ao9Eg-eEB"
      },
      "source": [
        "s1= input(\"Harf sayısı tek olan kelime giriniz: \")\n",
        "s2= input(\"harf sayısı tek olan kelime giriniz:\")\n",
        "middle_ch_s1 = int((len(s1))/2)\n",
        "middle_ch_s2=int(len(s2)/2)\n",
        "print(s1[0]+s2[0]+s1[middle_ch_s1]+ s2[middle_ch_s2]+s1[-1]+s2[-1])"
      ],
      "execution_count": null,
      "outputs": []
    },
    {
      "cell_type": "markdown",
      "metadata": {
        "id": "le0SmGDq-eEE"
      },
      "source": [
        "mail = \"from Ahmet, mail to: abcxyz@gmail.com  15:1990:01\"\n",
        "Yukarıdaki mail değişkenine atanan değerden, sadece domain kısmını, \"gmail.com\" bölümünü çıktı verecek kodu yazınız. "
      ]
    },
    {
      "cell_type": "code",
      "metadata": {
        "id": "x_JQtVGK-eEG"
      },
      "source": [
        "mail = \"from Ahmet, mail to: abcxyz@gmail.com  15:1990:01\"\n",
        "start=mail.find(\"@\")\n",
        "end = mail.find(\"com\")\n",
        "print(mail[start+1:end+3])"
      ],
      "execution_count": null,
      "outputs": []
    },
    {
      "cell_type": "code",
      "metadata": {
        "id": "6ejotIAK-eEJ",
        "outputId": "03ff69c4-c65b-45be-9626-7ff8cfd3d1f6"
      },
      "source": [
        "d = {\"john\":40, \"peter\":45}\n",
        "print(list(d.keys()))"
      ],
      "execution_count": null,
      "outputs": [
        {
          "name": "stdout",
          "output_type": "stream",
          "text": [
            "['john', 'peter']\n"
          ]
        }
      ]
    },
    {
      "cell_type": "code",
      "metadata": {
        "id": "7Jl6pugM-eET",
        "outputId": "915c00b9-0fbd-4c7a-bbe3-625c543d4c5c"
      },
      "source": [
        "a={}\n",
        "a['a']=1\n",
        "a['b']=[2,3,4]\n",
        "print(a)\n"
      ],
      "execution_count": null,
      "outputs": [
        {
          "name": "stdout",
          "output_type": "stream",
          "text": [
            "{'a': 1, 'b': [2, 3, 4]}\n"
          ]
        }
      ]
    },
    {
      "cell_type": "code",
      "metadata": {
        "id": "A6c3hVzQ-eEZ",
        "outputId": "a2f7c535-7469-4ccd-e287-d75a28dc54fc"
      },
      "source": [
        "z=set('abc')\n",
        "z.add('san')\n",
        "z.update(set(['p', 'q']))\n",
        "print(z)"
      ],
      "execution_count": null,
      "outputs": [
        {
          "name": "stdout",
          "output_type": "stream",
          "text": [
            "{'san', 'a', 'c', 'b', 'p', 'q'}\n"
          ]
        }
      ]
    },
    {
      "cell_type": "markdown",
      "metadata": {
        "id": "-LgvDOOi-eEi"
      },
      "source": [
        "Is the Word an Isogram?"
      ]
    },
    {
      "cell_type": "code",
      "metadata": {
        "id": "-ZFh6RVT-eEk"
      },
      "source": [
        "def is_isogram(txt):\n",
        "  return len(txt) == len(set(txt.lower()))\n",
        "  \n",
        "  for letter in txt:\n",
        "    if txt.count(letter)>1:\n",
        "      return False\n",
        "    else:\n",
        "      True\n"
      ],
      "execution_count": null,
      "outputs": []
    },
    {
      "cell_type": "markdown",
      "metadata": {
        "id": "7rpHB4Yl-eEl"
      },
      "source": [
        "In this little assignment you are given a string of space separated numbers, and have to return the highest and lowest number."
      ]
    },
    {
      "cell_type": "code",
      "metadata": {
        "id": "tDfmfnX1-eEm",
        "outputId": "5344cb70-b233-429c-82bc-2cd2331178f7"
      },
      "source": [
        "def highest_lowest_num(str1):\n",
        "  num_list = list(map(int, str1.split()))\n",
        "  return max(num_list), min(num_list)\n",
        "highest_lowest_num(\"8 45 98 -5 82 -45\")"
      ],
      "execution_count": null,
      "outputs": [
        {
          "data": {
            "text/plain": [
              "(98, -45)"
            ]
          },
          "execution_count": 3,
          "metadata": {},
          "output_type": "execute_result"
        }
      ]
    },
    {
      "cell_type": "markdown",
      "metadata": {
        "id": "2CAMaLGQ-eEn"
      },
      "source": [
        "# ATM Makinesi"
      ]
    },
    {
      "cell_type": "code",
      "metadata": {
        "id": "513inMag-eEo",
        "outputId": "1e2fa611-89f3-4c00-8914-471e35a9ba76"
      },
      "source": [
        "print(\"\"\"****************\n",
        "ATM Makinesine Hoşgeldiniz.\n",
        "İşlemler:\n",
        "1. Bakiye Sorgulama\n",
        "\n",
        "2. Para Yatırma\n",
        "\n",
        "3. Para Çekme\n",
        "\n",
        "\n",
        "*****************\"\"\")\n",
        "\n",
        "\n",
        "\n",
        "sys_kullanıcı_adı = \"barış\"\n",
        "sys_parola = \"12345\"\n",
        "giriş_hakkı = 3\n",
        "bakiye = 1000\n",
        "\n",
        "\n",
        "\n",
        "while True:\n",
        "  \n",
        "    \n",
        "    kullanıcı_adı = input(\"Please enter your user name:  \")\n",
        "    parola = input(\"Enter your password: \")\n",
        "    if kullanıcı_adı == sys_kullanıcı_adı and parola != sys_parola:\n",
        "        print(\"Parola Hatalı!\")\n",
        "        giriş_hakkı -=1\n",
        "    elif  kullanıcı_adı != sys_kullanıcı_adı and parola == sys_parola:\n",
        "        print(\"Kullanıcı Adı Hatalı!\")\n",
        "        giriş_hakkı -=1\n",
        "    elif  kullanıcı_adı != sys_kullanıcı_adı and parola != sys_parola:\n",
        "        print(\"Parola ve Kullanıcı Adı Hatalı\")\n",
        "        giriş_hakkı -=1\n",
        "    else:\n",
        "        print(\"Sisteme Giriş Yapılıyor...\\nHoşgeldiniz Sayın {} Bey\".format(sys_kullanıcı_adı))\n",
        "    \n",
        "        while True:\n",
        "            işlem = input(\"İşlemi Seçiniz veya Sistemden Çıkmak İçin 'q' Basınız: \")\n",
        "            \n",
        "            if (işlem == \"q\"):\n",
        "                print(\"Sistemden Çıkış Yapılıyor...\\nYine Bekleriz\")\n",
        "                print()\n",
        "                print()\n",
        "                print()\n",
        "                print(\"\"\"****************\n",
        "ATM Makinesine Hoşgeldiniz.\n",
        "İşlemler:\n",
        "1. Bakiye Sorgulama\n",
        "\n",
        "2. Para Yatırma\n",
        "\n",
        "3. Para Çekme\n",
        "\n",
        "\n",
        "*****************\"\"\")\n",
        "                break\n",
        "            if (işlem == \"1\") :\n",
        "                print(\"Bakiyeniz {} tl dir.\".format(bakiye))\n",
        "            elif (işlem == \"2\") :\n",
        "                miktar = int(input(\"Yatıracağınız Miktarı Giriniz: \"))\n",
        "                bakiye += miktar\n",
        "                print(\"Hesabınıza {} TL Yatırdınız. \\nYeni Bakiyeniz {} tl dir.\".format(miktar,bakiye))        \n",
        "            elif (işlem == \"3\") :\n",
        "                 miktar = int(input(\"Çekeceğiniz Miktarı Giriniz: \"))\n",
        "                 if (bakiye- miktar < 0):\n",
        "                    print(\"Bakiye Yetersiz!\")\n",
        "                    continue\n",
        "                 bakiye -= miktar\n",
        "                 print(\"Paranız Hazırlanıyor... \\nKalan Bakiyeniz {} tl dir.\".format(bakiye))           \n",
        "            else:\n",
        "                print(\"Geçersiz İşlem !\")\n",
        "    if giriş_hakkı==0:\n",
        "        print(\"Giriş Hakkınız Sona Ermiştir!\")\n",
        "        break"
      ],
      "execution_count": null,
      "outputs": [
        {
          "name": "stdout",
          "output_type": "stream",
          "text": [
            "****************\n",
            "ATM Makinesine Hoşgeldiniz.\n",
            "İşlemler:\n",
            "1. Bakiye Sorgulama\n",
            "\n",
            "2. Para Yatırma\n",
            "\n",
            "3. Para Çekme\n",
            "\n",
            "\n",
            "*****************\n",
            "Please enter your user name:  barış\n",
            "Enter your password: 12345\n",
            "Sisteme Giriş Yapılıyor...\n",
            "Hoşgeldiniz Sayın barış Bey\n",
            "İşlemi Seçiniz veya Sistemden Çıkmak İçin 'q' Basınız: 1\n",
            "Bakiyeniz 1000 tl dir.\n",
            "İşlemi Seçiniz veya Sistemden Çıkmak İçin 'q' Basınız: 2\n",
            "Yatıracağınız Miktarı Giriniz: 1000\n",
            "Hesabınıza 1000 TL Yatırdınız. \n",
            "Yeni Bakiyeniz 2000 tl dir.\n",
            "İşlemi Seçiniz veya Sistemden Çıkmak İçin 'q' Basınız: 3\n",
            "Çekeceğiniz Miktarı Giriniz: 1500\n",
            "Paranız Hazırlanıyor... \n",
            "Kalan Bakiyeniz 500 tl dir.\n"
          ]
        }
      ]
    },
    {
      "cell_type": "markdown",
      "metadata": {
        "id": "KsOtdlOf-eEr"
      },
      "source": [
        "# Faktoriyel Bulma"
      ]
    },
    {
      "cell_type": "code",
      "metadata": {
        "id": "e9Qd5eg4-eEt"
      },
      "source": [
        "while True:\n",
        "    sayı = input(\"Bir Sayı Giriniz veya Çıkmak İçin 'q' ya Basınız:  \")\n",
        "\n",
        "    if sayı==\"q\":\n",
        "        print(\"Programdan Çıkılıyor... \")\n",
        "    else:\n",
        "        faktöriyel = 1\n",
        "        sayı= int(sayı)\n",
        "        for i in range(2,sayı+1):\n",
        "            faktöriyel *=i\n",
        "        print(faktöriyel)\n",
        "        break"
      ],
      "execution_count": null,
      "outputs": []
    },
    {
      "cell_type": "markdown",
      "metadata": {
        "id": "t-RSj89Z-eEu"
      },
      "source": [
        "# Fibonacci Numbers"
      ]
    },
    {
      "cell_type": "code",
      "metadata": {
        "id": "tteajm_9-eEu",
        "outputId": "b76bdf82-cd26-463c-e5c4-6c5bec1da0c3"
      },
      "source": [
        "a=1\n",
        "b=1\n",
        "\n",
        "fibonacci= [a,b]\n",
        "\n",
        "for i in range(8):\n",
        "  a,b=b,a+b\n",
        "  fibonacci.append(b)\n",
        "print(fibonacci)"
      ],
      "execution_count": null,
      "outputs": [
        {
          "name": "stdout",
          "output_type": "stream",
          "text": [
            "[1, 1, 2, 3, 5, 8, 13, 21, 34, 55]\n"
          ]
        }
      ]
    },
    {
      "cell_type": "code",
      "metadata": {
        "id": "vZ2PQybH-eEv",
        "outputId": "26675380-25e5-47c8-aa32-f9c1fd579608"
      },
      "source": [
        "first_ten = [0, 1, 2, 3, 4, 5, 6, 7, 8, 9]\n",
        "even = filter(lambda x:x%2==0, first_ten)\n",
        "print(\"Even numbers are :\", list(even))"
      ],
      "execution_count": null,
      "outputs": [
        {
          "name": "stdout",
          "output_type": "stream",
          "text": [
            "Even numbers are : [0, 2, 4, 6, 8]\n"
          ]
        }
      ]
    },
    {
      "cell_type": "code",
      "metadata": {
        "id": "4wb33BBk-eEw",
        "outputId": "ce398829-9e40-45d8-d514-64ed25bbe727"
      },
      "source": [
        "vowel_list = ['a', 'e', 'i', 'o', 'u']\n",
        "first_ten = ['a', 'b', 'c', 'd', 'e', 'f', 'g', 'h', 'i', 'j']\n",
        "vowels = filter(lambda x:True if x in vowel_list else False, first_ten)\n",
        "print(\"Vowels are :\", list(vowels))"
      ],
      "execution_count": null,
      "outputs": [
        {
          "name": "stdout",
          "output_type": "stream",
          "text": [
            "Vowels are : ['a', 'e', 'i']\n"
          ]
        }
      ]
    },
    {
      "cell_type": "code",
      "metadata": {
        "id": "Jo5B9CZi-eEx",
        "outputId": "3a304724-60ae-4dd5-b518-2bade4bbc0c9"
      },
      "source": [
        "number_list = [1, 2, 3, 4, 5, 6, 7, 8, 9, 10]\n",
        "\n",
        "result = filter(lambda x: True if x>=6 else False, number_list)\n",
        "print(list(result))\n"
      ],
      "execution_count": null,
      "outputs": [
        {
          "name": "stdout",
          "output_type": "stream",
          "text": [
            "[6, 7, 8, 9, 10]\n"
          ]
        }
      ]
    },
    {
      "cell_type": "code",
      "metadata": {
        "id": "ntp-Cls6-eEy",
        "outputId": "1accf433-460b-42e3-86cc-206782c1c384"
      },
      "source": [
        "def modular_function(n):\n",
        "    return lambda x: x ** n\n",
        "    \n",
        "power_of_2 = modular_function(2)  \n",
        "power_of_3 = modular_function(3)  \n",
        "power_of_4 = modular_function(4)  \n",
        "\n",
        "print(power_of_2(2))  \n",
        "print(power_of_3(2))  \n",
        "print(power_of_4(2))  "
      ],
      "execution_count": null,
      "outputs": [
        {
          "name": "stdout",
          "output_type": "stream",
          "text": [
            "4\n",
            "8\n",
            "16\n"
          ]
        }
      ]
    },
    {
      "cell_type": "code",
      "metadata": {
        "id": "_g19hf4g-eEz",
        "outputId": "f7d626fb-56d0-4f27-a7a2-63b45e2f233f"
      },
      "source": [
        "sayı = int(input(\"sayı giriniz: \"))\n",
        "toplam=0\n",
        "for i in range(1,sayı):\n",
        "    if sayı%i==0:\n",
        "        toplam +=i\n",
        "        \n",
        "    \n",
        "if sayı==toplam:\n",
        "    print(sayı, \" Mükemmel Bir Sayıdır..\")\n",
        "else:\n",
        "    print(sayı, \" Mükemmel Bir Sayı Değildir\")"
      ],
      "execution_count": null,
      "outputs": [
        {
          "name": "stdout",
          "output_type": "stream",
          "text": [
            "sayı giriniz: 15\n",
            "15  Mükemmel Bir Sayı Değildir\n"
          ]
        }
      ]
    },
    {
      "cell_type": "code",
      "metadata": {
        "id": "aNNBfM86-eE1"
      },
      "source": [
        "sayı = int(input(\"Sayı Giriniz: \"))\n",
        "a=len(list(str(sayı)))\n",
        "c = int(a)\n",
        "b = sayı\n",
        "toplam=0\n",
        "count=0\n",
        "i=0\n",
        "while count<a:\n",
        "  i= sayı % 10\n",
        "  sayı = sayı//10\n",
        "  toplam= toplam + i**a\n",
        "  count +=1\n",
        "  print(i)\n",
        "\n",
        "if toplam==b:\n",
        "  print(b, \"is Armstrong Number\")\n",
        "else:\n",
        "  print(b, \" is not Armstrong Number\")\n"
      ],
      "execution_count": null,
      "outputs": []
    },
    {
      "cell_type": "code",
      "metadata": {
        "id": "bRGO8YTO-eE1"
      },
      "source": [
        "for i in range(1,11):\n",
        "  print(\"***********\")\n",
        "  for k in range(1,11):\n",
        "    print(i,\"*\", k,\"=\", i*k,)"
      ],
      "execution_count": null,
      "outputs": []
    },
    {
      "cell_type": "code",
      "metadata": {
        "id": "g2x-vgjN-eE2"
      },
      "source": [
        "toplam = 0\n",
        "\n",
        "while True:\n",
        "  try:\n",
        "    sayı= input(\"Lütfen Bir Sayı Giriniz veya Çıkmak İçin 'q' ya Basın: \")\n",
        "    a=int(sayı)\n",
        "    toplam += a\n",
        "    \n",
        "  except ValueError:\n",
        "    if sayı==\"q\":\n",
        "      print(\"Girdiğniz Sayıların Toplamı: \",toplam)\n",
        "      print(\"Programdan Çıkıldı...\")\n",
        "      break"
      ],
      "execution_count": null,
      "outputs": []
    },
    {
      "cell_type": "code",
      "metadata": {
        "id": "Xqzpk4w0-eE3"
      },
      "source": [
        "liste=[]\n",
        "for i in range(1,101):\n",
        "  if i%3==0:\n",
        "    liste.append(i)\n",
        "print(liste)"
      ],
      "execution_count": null,
      "outputs": []
    },
    {
      "cell_type": "code",
      "metadata": {
        "id": "elXgyuRk-eE3"
      },
      "source": [
        "list = [x for x in range(1,101) if x%2==0]\n",
        "print(list)"
      ],
      "execution_count": null,
      "outputs": []
    },
    {
      "cell_type": "markdown",
      "metadata": {
        "id": "hmk8E0xL-eE4"
      },
      "source": [
        "# Largest Number"
      ]
    },
    {
      "cell_type": "code",
      "metadata": {
        "id": "2s812x9D-eE5",
        "outputId": "e7e75ffe-6397-4704-c97c-bd3192095dd5"
      },
      "source": [
        "mylist=[]\n",
        "size= int(input(\"How many elements you want to enter? \"))\n",
        "print(\"Enter\", str(size), \"positive numbers\")\n",
        "\n",
        "for i in range(size):\n",
        "  number=int(input(\"number: \"))\n",
        "  mylist.append(number)\n",
        "\n",
        "largest=0\n",
        "for number in mylist:\n",
        "  if number > largest:\n",
        "    largest=number\n",
        "\n",
        "print(\"The largest number in list is\", largest)\n",
        "    \n"
      ],
      "execution_count": null,
      "outputs": [
        {
          "name": "stdout",
          "output_type": "stream",
          "text": [
            "How many elements you want to enter? 5\n",
            "Enter 5 positive numbers\n",
            "number: 5\n",
            "number: 6\n",
            "number: 7\n",
            "number: 88\n",
            "number: 78\n",
            "The largest number in list is 88\n"
          ]
        }
      ]
    },
    {
      "cell_type": "code",
      "metadata": {
        "id": "s4JU1K2Y-eE5"
      },
      "source": [
        "def faktoriyel(sayı):\n",
        "    faktoriyel = 1\n",
        "    if sayı==0 or sayı==1:\n",
        "        print(\"Faktoriyel\", faktoriyel)\n",
        "    else:\n",
        "        while sayı>=1:\n",
        "            faktoriyel = faktoriyel*sayı\n",
        "            sayı -= 1\n",
        "            \n",
        "        print(\"Faktoriyel\", faktoriyel)"
      ],
      "execution_count": null,
      "outputs": []
    },
    {
      "cell_type": "code",
      "metadata": {
        "id": "W0IEN81Q-eE6",
        "outputId": "ef4cd796-4a14-4357-d3c4-0e3b0aee8af9"
      },
      "source": [
        "faktoriyel(5)"
      ],
      "execution_count": null,
      "outputs": [
        {
          "name": "stdout",
          "output_type": "stream",
          "text": [
            "Faktoriyel 120\n"
          ]
        }
      ]
    },
    {
      "cell_type": "markdown",
      "metadata": {
        "id": "VQMAUy4m-eE7"
      },
      "source": [
        "# Anagram"
      ]
    },
    {
      "cell_type": "code",
      "metadata": {
        "id": "vYHfa5Sp-eE7"
      },
      "source": [
        "strs = [\"eat\", \"tea\", \"tan\", \"ate\", \"nat\", \"bat\", \"cat\", \"tac\"]\n",
        "anag = {}\n",
        "\n",
        "for i in strs:\n",
        "    element = \"\".join(sorted(i))\n",
        "    \n",
        "    if element in anag:\n",
        "        anag[element].append(i)\n",
        "    else:\n",
        "        anag[element] = [i]\n",
        "print(list(anag.items()))\n",
        "\n",
        "    "
      ],
      "execution_count": null,
      "outputs": []
    },
    {
      "cell_type": "markdown",
      "metadata": {
        "id": "We09jyez-eE7"
      },
      "source": [
        "Define a function to take a word and return negative meaning.\n",
        "Given a word, return a new word where \"not \" has been added to the front. However, if the word already begins with \"not\", return the string unchanged."
      ]
    },
    {
      "cell_type": "code",
      "metadata": {
        "id": "YdnJkiVR-eE8"
      },
      "source": [
        "def not_string(word):\n",
        "  words=word.split()\n",
        "  if not word in words:\n",
        "    return word\n",
        "    \n",
        "  else:\n",
        "    return \"not \"+ word\n",
        "\n",
        "not_string(\"sugar\")"
      ],
      "execution_count": null,
      "outputs": []
    },
    {
      "cell_type": "markdown",
      "metadata": {
        "id": "3HNC08l--eE8"
      },
      "source": [
        "#Asal Sayı"
      ]
    },
    {
      "cell_type": "code",
      "metadata": {
        "id": "n1Ltiytc-eE9",
        "outputId": "b262f1c0-f423-49ae-d95a-05a7ba14a0cd"
      },
      "source": [
        "def asal(sayı):\n",
        "  if sayı==1:\n",
        "    return False\n",
        "  elif sayı ==2:\n",
        "    return True\n",
        "  else:\n",
        "    for i in range(2,sayı):\n",
        "      if sayı%i ==0:\n",
        "        return False\n",
        "    return True\n",
        "while True:\n",
        "  sayı=input(\"Sayı:\")\n",
        "\n",
        "  if (sayı==\"q\"):\n",
        "    print(\"Programdan Çıkıldı..\")\n",
        "    break\n",
        "  else:\n",
        "    sayı= int(sayı)\n",
        "    if asal(sayı):\n",
        "      print(sayı, \"asal bir sayıdır.\")\n",
        "    else:\n",
        "      print(sayı,\"asal bir sayı değildir.\")\n"
      ],
      "execution_count": null,
      "outputs": [
        {
          "name": "stdout",
          "output_type": "stream",
          "text": [
            "Sayı:17\n",
            "17 asal bir sayıdır.\n"
          ]
        }
      ]
    },
    {
      "cell_type": "markdown",
      "metadata": {
        "id": "GWrYYUbW-eE_"
      },
      "source": [
        "Bir Sayının Tam Bölenleri"
      ]
    },
    {
      "cell_type": "code",
      "metadata": {
        "id": "pGp-BfqY-eE_"
      },
      "source": [
        "def bolen(sayı):\n",
        "  tam_bolenler = []\n",
        "\n",
        "  for i in range (2,sayı):\n",
        "    if sayı%i==0:\n",
        "      tam_bolenler.append(i)\n",
        "  return tam_bolenler\n",
        "\n",
        "while True:\n",
        "  sayı = input(\"Sayı:\")\n",
        "\n",
        "  if sayı==\"q\":\n",
        "    print(\"Program Sonlandırılıyor...\")\n",
        "    break\n",
        "  else:\n",
        "    sayı= int(sayı)\n",
        "    print(\"Tam bölenler:\", bolen(sayı))"
      ],
      "execution_count": null,
      "outputs": []
    },
    {
      "cell_type": "markdown",
      "metadata": {
        "id": "N-9_EBwK-oKi"
      },
      "source": [
        "EKOK"
      ]
    },
    {
      "cell_type": "code",
      "metadata": {
        "id": "uTomBahO-mec"
      },
      "source": [
        "numb1=int(input(\"Please enter first number: \"))\n",
        "numb2=int(input(\"Please enter second number: \"))\n",
        "def ekok(numb1,numb2):\n",
        "  c=list()\n",
        "  a= max(numb1,numb2)\n",
        "  ekok=1\n",
        "  for i in range(1,(numb1*numb2)):\n",
        "    if i%numb1==0 and i%numb2==0:\n",
        "      c.append(i)\n",
        "print(str(numb1) + \" ve \"+ str(numb2) +\" nin ortak katı : \"  +str(c[0]))"
      ],
      "execution_count": null,
      "outputs": []
    }
  ]
}