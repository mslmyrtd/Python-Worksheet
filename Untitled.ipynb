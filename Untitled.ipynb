{
  "nbformat": 4,
  "nbformat_minor": 0,
  "metadata": {
    "kernelspec": {
      "display_name": "Python 3",
      "language": "python",
      "name": "python3"
    },
    "language_info": {
      "codemirror_mode": {
        "name": "ipython",
        "version": 3
      },
      "file_extension": ".py",
      "mimetype": "text/x-python",
      "name": "python",
      "nbconvert_exporter": "python",
      "pygments_lexer": "ipython3",
      "version": "3.8.5"
    },
    "colab": {
      "name": "Untitled.ipynb",
      "provenance": [],
      "include_colab_link": true
    }
  },
  "cells": [
    {
      "cell_type": "markdown",
      "metadata": {
        "id": "view-in-github",
        "colab_type": "text"
      },
      "source": [
        "<a href=\"https://colab.research.google.com/github/mslmyrtd/Python-Worksheet/blob/main/Untitled.ipynb\" target=\"_parent\"><img src=\"https://colab.research.google.com/assets/colab-badge.svg\" alt=\"Open In Colab\"/></a>"
      ]
    },
    {
      "cell_type": "code",
      "metadata": {
        "id": "kuizifb9B_IQ",
        "outputId": "8198e55d-c4a9-4087-dd9c-c8eee348f3bd"
      },
      "source": [
        "for x in set('pqr'):\n",
        "    print(x*2)\n"
      ],
      "execution_count": null,
      "outputs": [
        {
          "name": "stdout",
          "output_type": "stream",
          "text": [
            "pp\n",
            "qq\n",
            "rr\n"
          ]
        }
      ]
    },
    {
      "cell_type": "code",
      "metadata": {
        "id": "DrUX8ChIB_Ib",
        "outputId": "d2cf32cf-1924-40c2-eee2-351a658e261a"
      },
      "source": [
        "str = \"Python Software Foundation\"\n",
        "s = str.split()\n",
        "print(s)\n",
        "s = sorted(s)\n",
        "print(s)\n",
        "s = \" \".join(s)\n",
        "print(s)\n",
        "print(s[2:5])"
      ],
      "execution_count": null,
      "outputs": [
        {
          "name": "stdout",
          "output_type": "stream",
          "text": [
            "['Python', 'Software', 'Foundation']\n",
            "['Foundation', 'Python', 'Software']\n",
            "Foundation Python Software\n",
            "und\n"
          ]
        }
      ]
    },
    {
      "cell_type": "markdown",
      "metadata": {
        "id": "R3rNggAuB_If"
      },
      "source": [
        "Give two strings from user , s1, and s2 return a new string made of the first, middle, and last characters each input string\n"
      ]
    },
    {
      "cell_type": "code",
      "metadata": {
        "id": "w_jpdPsNB_Ih"
      },
      "source": [
        "s1= input(\"Harf sayısı tek olan kelime giriniz: \")\n",
        "s2= input(\"harf sayısı tek olan kelime giriniz:\")\n",
        "middle_ch_s1 = int((len(s1))/2)\n",
        "middle_ch_s2=int(len(s2)/2)\n",
        "print(s1[0]+s2[0]+s1[middle_ch_s1]+ s2[middle_ch_s2]+s1[-1]+s2[-1])"
      ],
      "execution_count": null,
      "outputs": []
    },
    {
      "cell_type": "markdown",
      "metadata": {
        "id": "fjcgBpSeB_Ik"
      },
      "source": [
        "mail = \"from Ahmet, mail to: abcxyz@gmail.com  15:1990:01\"\n",
        "Yukarıdaki mail değişkenine atanan değerden, sadece domain kısmını, \"gmail.com\" bölümünü çıktı verecek kodu yazınız. "
      ]
    },
    {
      "cell_type": "code",
      "metadata": {
        "id": "rHrceuxTB_Il"
      },
      "source": [
        "mail = \"from Ahmet, mail to: abcxyz@gmail.com  15:1990:01\"\n",
        "start=mail.find(\"@\")\n",
        "end = mail.find(\"com\")\n",
        "print(mail[start+1:end+3])"
      ],
      "execution_count": null,
      "outputs": []
    },
    {
      "cell_type": "code",
      "metadata": {
        "id": "1MiCDavnB_In",
        "outputId": "d99fbbc4-a796-4ad0-ad3c-0dead381f2f2"
      },
      "source": [
        "d = {\"john\":40, \"peter\":45}\n",
        "print(list(d.keys()))"
      ],
      "execution_count": null,
      "outputs": [
        {
          "name": "stdout",
          "output_type": "stream",
          "text": [
            "['john', 'peter']\n"
          ]
        }
      ]
    },
    {
      "cell_type": "code",
      "metadata": {
        "id": "9EFyIStiB_Iq",
        "outputId": "1bd412f8-b5f8-40cd-fcf5-ce9716ac58ff"
      },
      "source": [
        "a={}\n",
        "a['a']=1\n",
        "a['b']=[2,3,4]\n",
        "print(a)\n"
      ],
      "execution_count": null,
      "outputs": [
        {
          "name": "stdout",
          "output_type": "stream",
          "text": [
            "{'a': 1, 'b': [2, 3, 4]}\n"
          ]
        }
      ]
    },
    {
      "cell_type": "code",
      "metadata": {
        "id": "H89MQRKDB_Is",
        "outputId": "aafde91d-dfbb-4cf0-ac50-6e7c86a871de"
      },
      "source": [
        "z=set('abc')\n",
        "z.add('san')\n",
        "z.update(set(['p', 'q']))\n",
        "print(z)"
      ],
      "execution_count": null,
      "outputs": [
        {
          "name": "stdout",
          "output_type": "stream",
          "text": [
            "{'san', 'a', 'c', 'b', 'p', 'q'}\n"
          ]
        }
      ]
    },
    {
      "cell_type": "markdown",
      "metadata": {
        "id": "ZH8zUT-eB_Iv"
      },
      "source": [
        "Is the Word an Isogram?"
      ]
    },
    {
      "cell_type": "code",
      "metadata": {
        "id": "icSroDenB_Iw"
      },
      "source": [
        "def is_isogram(txt):\n",
        "  return len(txt) == len(set(txt.lower()))\n",
        "  \n",
        "  for letter in txt:\n",
        "    if txt.count(letter)>1:\n",
        "      return False\n",
        "    else:\n",
        "      True\n"
      ],
      "execution_count": null,
      "outputs": []
    },
    {
      "cell_type": "markdown",
      "metadata": {
        "id": "omYYB9yFB_Iw"
      },
      "source": [
        "In this little assignment you are given a string of space separated numbers, and have to return the highest and lowest number."
      ]
    },
    {
      "cell_type": "code",
      "metadata": {
        "id": "ndAtVjh3B_Ix",
        "outputId": "62ec6714-964c-431c-ca56-b4e0b98e765b"
      },
      "source": [
        "def highest_lowest_num(str1):\n",
        "  num_list = list(map(int, str1.split()))\n",
        "  return max(num_list), min(num_list)\n",
        "highest_lowest_num(\"8 45 98 -5 82 -45\")"
      ],
      "execution_count": null,
      "outputs": [
        {
          "data": {
            "text/plain": [
              "(98, -45)"
            ]
          },
          "execution_count": 3,
          "metadata": {},
          "output_type": "execute_result"
        }
      ]
    },
    {
      "cell_type": "markdown",
      "metadata": {
        "id": "Tc3hjgITB_Ix"
      },
      "source": [
        "# ATM Makinesi"
      ]
    },
    {
      "cell_type": "code",
      "metadata": {
        "id": "h99veZ89B_Iy",
        "outputId": "058541a7-088f-498b-91d4-bbc4c1ee1bbf"
      },
      "source": [
        "print(\"\"\"****************\n",
        "ATM Makinesine Hoşgeldiniz.\n",
        "İşlemler:\n",
        "1. Bakiye Sorgulama\n",
        "\n",
        "2. Para Yatırma\n",
        "\n",
        "3. Para Çekme\n",
        "\n",
        "\n",
        "*****************\"\"\")\n",
        "\n",
        "\n",
        "\n",
        "sys_kullanıcı_adı = \"barış\"\n",
        "sys_parola = \"12345\"\n",
        "giriş_hakkı = 3\n",
        "bakiye = 1000\n",
        "\n",
        "\n",
        "\n",
        "while True:\n",
        "  \n",
        "    \n",
        "    kullanıcı_adı = input(\"Please enter your user name:  \")\n",
        "    parola = input(\"Enter your password: \")\n",
        "    if kullanıcı_adı == sys_kullanıcı_adı and parola != sys_parola:\n",
        "        print(\"Parola Hatalı!\")\n",
        "        giriş_hakkı -=1\n",
        "    elif  kullanıcı_adı != sys_kullanıcı_adı and parola == sys_parola:\n",
        "        print(\"Kullanıcı Adı Hatalı!\")\n",
        "        giriş_hakkı -=1\n",
        "    elif  kullanıcı_adı != sys_kullanıcı_adı and parola != sys_parola:\n",
        "        print(\"Parola ve Kullanıcı Adı Hatalı\")\n",
        "        giriş_hakkı -=1\n",
        "    else:\n",
        "        print(\"Sisteme Giriş Yapılıyor...\\nHoşgeldiniz Sayın {} Bey\".format(sys_kullanıcı_adı))\n",
        "    \n",
        "        while True:\n",
        "            işlem = input(\"İşlemi Seçiniz veya Sistemden Çıkmak İçin 'q' Basınız: \")\n",
        "            \n",
        "            if (işlem == \"q\"):\n",
        "                print(\"Sistemden Çıkış Yapılıyor...\\nYine Bekleriz\")\n",
        "                print()\n",
        "                print()\n",
        "                print()\n",
        "                print(\"\"\"****************\n",
        "ATM Makinesine Hoşgeldiniz.\n",
        "İşlemler:\n",
        "1. Bakiye Sorgulama\n",
        "\n",
        "2. Para Yatırma\n",
        "\n",
        "3. Para Çekme\n",
        "\n",
        "\n",
        "*****************\"\"\")\n",
        "                break\n",
        "            if (işlem == \"1\") :\n",
        "                print(\"Bakiyeniz {} tl dir.\".format(bakiye))\n",
        "            elif (işlem == \"2\") :\n",
        "                miktar = int(input(\"Yatıracağınız Miktarı Giriniz: \"))\n",
        "                bakiye += miktar\n",
        "                print(\"Hesabınıza {} TL Yatırdınız. \\nYeni Bakiyeniz {} tl dir.\".format(miktar,bakiye))        \n",
        "            elif (işlem == \"3\") :\n",
        "                 miktar = int(input(\"Çekeceğiniz Miktarı Giriniz: \"))\n",
        "                 if (bakiye- miktar < 0):\n",
        "                    print(\"Bakiye Yetersiz!\")\n",
        "                    continue\n",
        "                 bakiye -= miktar\n",
        "                 print(\"Paranız Hazırlanıyor... \\nKalan Bakiyeniz {} tl dir.\".format(bakiye))           \n",
        "            else:\n",
        "                print(\"Geçersiz İşlem !\")\n",
        "    if giriş_hakkı==0:\n",
        "        print(\"Giriş Hakkınız Sona Ermiştir!\")\n",
        "        break"
      ],
      "execution_count": null,
      "outputs": [
        {
          "name": "stdout",
          "output_type": "stream",
          "text": [
            "****************\n",
            "ATM Makinesine Hoşgeldiniz.\n",
            "İşlemler:\n",
            "1. Bakiye Sorgulama\n",
            "\n",
            "2. Para Yatırma\n",
            "\n",
            "3. Para Çekme\n",
            "\n",
            "\n",
            "*****************\n",
            "Please enter your user name:  barış\n",
            "Enter your password: 12345\n",
            "Sisteme Giriş Yapılıyor...\n",
            "Hoşgeldiniz Sayın barış Bey\n",
            "İşlemi Seçiniz veya Sistemden Çıkmak İçin 'q' Basınız: 1\n",
            "Bakiyeniz 1000 tl dir.\n",
            "İşlemi Seçiniz veya Sistemden Çıkmak İçin 'q' Basınız: 2\n",
            "Yatıracağınız Miktarı Giriniz: 1000\n",
            "Hesabınıza 1000 TL Yatırdınız. \n",
            "Yeni Bakiyeniz 2000 tl dir.\n",
            "İşlemi Seçiniz veya Sistemden Çıkmak İçin 'q' Basınız: 3\n",
            "Çekeceğiniz Miktarı Giriniz: 1500\n",
            "Paranız Hazırlanıyor... \n",
            "Kalan Bakiyeniz 500 tl dir.\n"
          ]
        }
      ]
    },
    {
      "cell_type": "markdown",
      "metadata": {
        "id": "aPzYpZwrB_Iz"
      },
      "source": [
        "# Faktoriyel Bulma"
      ]
    },
    {
      "cell_type": "code",
      "metadata": {
        "id": "4RhCf3S7B_Iz"
      },
      "source": [
        "while True:\n",
        "    sayı = input(\"Bir Sayı Giriniz veya Çıkmak İçin 'q' ya Basınız:  \")\n",
        "\n",
        "    if sayı==\"q\":\n",
        "        print(\"Programdan Çıkılıyor... \")\n",
        "    else:\n",
        "        faktöriyel = 1\n",
        "        sayı= int(sayı)\n",
        "        for i in range(2,sayı+1):\n",
        "            faktöriyel *=i\n",
        "        print(faktöriyel)\n",
        "        break"
      ],
      "execution_count": null,
      "outputs": []
    },
    {
      "cell_type": "markdown",
      "metadata": {
        "id": "MtgLGVETB_Iz"
      },
      "source": [
        "# Fibonacci Numbers"
      ]
    },
    {
      "cell_type": "code",
      "metadata": {
        "id": "aHVBaG2KB_I0",
        "outputId": "c423ae10-f622-4577-dda6-d81042014546"
      },
      "source": [
        "a=1\n",
        "b=1\n",
        "\n",
        "fibonacci= [a,b]\n",
        "\n",
        "for i in range(8):\n",
        "  a,b=b,a+b\n",
        "  fibonacci.append(b)\n",
        "print(fibonacci)"
      ],
      "execution_count": null,
      "outputs": [
        {
          "name": "stdout",
          "output_type": "stream",
          "text": [
            "[1, 1, 2, 3, 5, 8, 13, 21, 34, 55]\n"
          ]
        }
      ]
    },
    {
      "cell_type": "code",
      "metadata": {
        "id": "JeBKbSiFB_I0",
        "outputId": "be7147a2-268b-409e-f908-3125980e73d8"
      },
      "source": [
        "first_ten = [0, 1, 2, 3, 4, 5, 6, 7, 8, 9]\n",
        "even = filter(lambda x:x%2==0, first_ten)\n",
        "print(\"Even numbers are :\", list(even))"
      ],
      "execution_count": null,
      "outputs": [
        {
          "name": "stdout",
          "output_type": "stream",
          "text": [
            "Even numbers are : [0, 2, 4, 6, 8]\n"
          ]
        }
      ]
    },
    {
      "cell_type": "code",
      "metadata": {
        "id": "1nFPu3KZB_I1",
        "outputId": "6cc7a0d5-8588-4f89-c274-ac5985ed923e"
      },
      "source": [
        "vowel_list = ['a', 'e', 'i', 'o', 'u']\n",
        "first_ten = ['a', 'b', 'c', 'd', 'e', 'f', 'g', 'h', 'i', 'j']\n",
        "vowels = filter(lambda x:True if x in vowel_list else False, first_ten)\n",
        "print(\"Vowels are :\", list(vowels))"
      ],
      "execution_count": null,
      "outputs": [
        {
          "name": "stdout",
          "output_type": "stream",
          "text": [
            "Vowels are : ['a', 'e', 'i']\n"
          ]
        }
      ]
    },
    {
      "cell_type": "code",
      "metadata": {
        "id": "xG6LbhjgB_I1",
        "outputId": "82b554c0-e334-4ef2-af14-841bcd4409b4"
      },
      "source": [
        "number_list = [1, 2, 3, 4, 5, 6, 7, 8, 9, 10]\n",
        "\n",
        "result = filter(lambda x: True if x>=6 else False, number_list)\n",
        "print(list(result))\n"
      ],
      "execution_count": null,
      "outputs": [
        {
          "name": "stdout",
          "output_type": "stream",
          "text": [
            "[6, 7, 8, 9, 10]\n"
          ]
        }
      ]
    },
    {
      "cell_type": "code",
      "metadata": {
        "id": "Mxx8lccjB_I2",
        "outputId": "617643e8-1d95-418b-8205-0d4c2831cc31"
      },
      "source": [
        "def modular_function(n):\n",
        "    return lambda x: x ** n\n",
        "    \n",
        "power_of_2 = modular_function(2)  \n",
        "power_of_3 = modular_function(3)  \n",
        "power_of_4 = modular_function(4)  \n",
        "\n",
        "print(power_of_2(2))  \n",
        "print(power_of_3(2))  \n",
        "print(power_of_4(2))  "
      ],
      "execution_count": null,
      "outputs": [
        {
          "name": "stdout",
          "output_type": "stream",
          "text": [
            "4\n",
            "8\n",
            "16\n"
          ]
        }
      ]
    },
    {
      "cell_type": "code",
      "metadata": {
        "id": "q0Vk4_EhB_I3",
        "outputId": "db3f8a52-9471-441f-e74c-8a4431c3017b"
      },
      "source": [
        "sayı = int(input(\"sayı giriniz: \"))\n",
        "toplam=0\n",
        "for i in range(1,sayı):\n",
        "    if sayı%i==0:\n",
        "        toplam +=i\n",
        "        \n",
        "    \n",
        "if sayı==toplam:\n",
        "    print(sayı, \" Mükemmel Bir Sayıdır..\")\n",
        "else:\n",
        "    print(sayı, \" Mükemmel Bir Sayı Değildir\")"
      ],
      "execution_count": null,
      "outputs": [
        {
          "name": "stdout",
          "output_type": "stream",
          "text": [
            "sayı giriniz: 15\n",
            "15  Mükemmel Bir Sayı Değildir\n"
          ]
        }
      ]
    },
    {
      "cell_type": "code",
      "metadata": {
        "id": "QGwvlYhAB_I3"
      },
      "source": [
        "sayı = int(input(\"Sayı Giriniz: \"))\n",
        "a=len(list(str(sayı)))\n",
        "c = int(a)\n",
        "b = sayı\n",
        "toplam=0\n",
        "count=0\n",
        "i=0\n",
        "while count<a:\n",
        "  i= sayı % 10\n",
        "  sayı = sayı//10\n",
        "  toplam= toplam + i**a\n",
        "  count +=1\n",
        "  print(i)\n",
        "\n",
        "if toplam==b:\n",
        "  print(b, \"is Armstrong Number\")\n",
        "else:\n",
        "  print(b, \" is not Armstrong Number\")\n"
      ],
      "execution_count": null,
      "outputs": []
    },
    {
      "cell_type": "code",
      "metadata": {
        "id": "zb7clAVVB_I3"
      },
      "source": [
        "for i in range(1,11):\n",
        "  print(\"***********\")\n",
        "  for k in range(1,11):\n",
        "    print(i,\"*\", k,\"=\", i*k,)"
      ],
      "execution_count": null,
      "outputs": []
    },
    {
      "cell_type": "code",
      "metadata": {
        "id": "nEO7foG6B_I4"
      },
      "source": [
        "toplam = 0\n",
        "\n",
        "while True:\n",
        "  try:\n",
        "    sayı= input(\"Lütfen Bir Sayı Giriniz veya Çıkmak İçin 'q' ya Basın: \")\n",
        "    a=int(sayı)\n",
        "    toplam += a\n",
        "    \n",
        "  except ValueError:\n",
        "    if sayı==\"q\":\n",
        "      print(\"Girdiğniz Sayıların Toplamı: \",toplam)\n",
        "      print(\"Programdan Çıkıldı...\")\n",
        "      break"
      ],
      "execution_count": null,
      "outputs": []
    },
    {
      "cell_type": "code",
      "metadata": {
        "id": "tlRnl5MWB_I4"
      },
      "source": [
        "liste=[]\n",
        "for i in range(1,101):\n",
        "  if i%3==0:\n",
        "    liste.append(i)\n",
        "print(liste)"
      ],
      "execution_count": null,
      "outputs": []
    },
    {
      "cell_type": "code",
      "metadata": {
        "id": "ag2Dfd1jB_I4"
      },
      "source": [
        "list = [x for x in range(1,101) if x%2==0]\n",
        "print(list)"
      ],
      "execution_count": null,
      "outputs": []
    },
    {
      "cell_type": "markdown",
      "metadata": {
        "id": "RU3EybQZB_I4"
      },
      "source": [
        "# Largest Number"
      ]
    },
    {
      "cell_type": "code",
      "metadata": {
        "id": "xUyvoc1tB_I4",
        "outputId": "809e29e2-8fc6-44df-9879-caf1622db0ce"
      },
      "source": [
        "mylist=[]\n",
        "size= int(input(\"How many elements you want to enter? \"))\n",
        "print(\"Enter\", str(size), \"positive numbers\")\n",
        "\n",
        "for i in range(size):\n",
        "  number=int(input(\"number: \"))\n",
        "  mylist.append(number)\n",
        "\n",
        "largest=0\n",
        "for number in mylist:\n",
        "  if number > largest:\n",
        "    largest=number\n",
        "\n",
        "print(\"The largest number in list is\", largest)\n",
        "    \n"
      ],
      "execution_count": null,
      "outputs": [
        {
          "name": "stdout",
          "output_type": "stream",
          "text": [
            "How many elements you want to enter? 5\n",
            "Enter 5 positive numbers\n",
            "number: 5\n",
            "number: 6\n",
            "number: 7\n",
            "number: 88\n",
            "number: 78\n",
            "The largest number in list is 88\n"
          ]
        }
      ]
    },
    {
      "cell_type": "code",
      "metadata": {
        "id": "NvqpL8JAB_I5"
      },
      "source": [
        "def faktoriyel(sayı):\n",
        "    faktoriyel = 1\n",
        "    if sayı==0 or sayı==1:\n",
        "        print(\"Faktoriyel\", faktoriyel)\n",
        "    else:\n",
        "        while sayı>=1:\n",
        "            faktoriyel = faktoriyel*sayı\n",
        "            sayı -= 1\n",
        "            \n",
        "        print(\"Faktoriyel\", faktoriyel)"
      ],
      "execution_count": null,
      "outputs": []
    },
    {
      "cell_type": "code",
      "metadata": {
        "id": "85BlTqYJB_I5",
        "outputId": "0a46b69b-bfa8-4f03-a528-e62374aab740"
      },
      "source": [
        "faktoriyel(5)"
      ],
      "execution_count": null,
      "outputs": [
        {
          "name": "stdout",
          "output_type": "stream",
          "text": [
            "Faktoriyel 120\n"
          ]
        }
      ]
    },
    {
      "cell_type": "markdown",
      "metadata": {
        "id": "rhUOLLZmB_I6"
      },
      "source": [
        "# Anagram"
      ]
    },
    {
      "cell_type": "code",
      "metadata": {
        "id": "rRa3zV_xB_I6"
      },
      "source": [
        "strs = [\"eat\", \"tea\", \"tan\", \"ate\", \"nat\", \"bat\", \"cat\", \"tac\"]\n",
        "anag = {}\n",
        "\n",
        "for i in strs:\n",
        "    element = \"\".join(sorted(i))\n",
        "    \n",
        "    if element in anag:\n",
        "        anag[element].append(i)\n",
        "    else:\n",
        "        anag[element] = [i]\n",
        "print(list(anag.items()))\n",
        "\n",
        "    "
      ],
      "execution_count": null,
      "outputs": []
    },
    {
      "cell_type": "markdown",
      "metadata": {
        "id": "CoAbuwl9B_I6"
      },
      "source": [
        "Define a function to take a word and return negative meaning.\n",
        "Given a word, return a new word where \"not \" has been added to the front. However, if the word already begins with \"not\", return the string unchanged."
      ]
    },
    {
      "cell_type": "code",
      "metadata": {
        "id": "KiFby5AMB_I6"
      },
      "source": [
        "def not_string(word):\n",
        "  words=word.split()\n",
        "  if not word in words:\n",
        "    return word\n",
        "    \n",
        "  else:\n",
        "    return \"not \"+ word\n",
        "\n",
        "not_string(\"sugar\")"
      ],
      "execution_count": null,
      "outputs": []
    },
    {
      "cell_type": "markdown",
      "metadata": {
        "id": "7gUxRe_eB_I6"
      },
      "source": [
        "#Asal Sayı"
      ]
    },
    {
      "cell_type": "code",
      "metadata": {
        "id": "Cvwf5DrYB_I6",
        "outputId": "588a938b-fe29-4bdc-9274-3e0323353d64"
      },
      "source": [
        "def asal(sayı):\n",
        "  if sayı==1:\n",
        "    return False\n",
        "  elif sayı ==2:\n",
        "    return True\n",
        "  else:\n",
        "    for i in range(2,sayı):\n",
        "      if sayı%i ==0:\n",
        "        return False\n",
        "    return True\n",
        "while True:\n",
        "  sayı=input(\"Sayı:\")\n",
        "\n",
        "  if (sayı==\"q\"):\n",
        "    print(\"Programdan Çıkıldı..\")\n",
        "    break\n",
        "  else:\n",
        "    sayı= int(sayı)\n",
        "    if asal(sayı):\n",
        "      print(sayı, \"asal bir sayıdır.\")\n",
        "    else:\n",
        "      print(sayı,\"asal bir sayı değildir.\")\n"
      ],
      "execution_count": null,
      "outputs": [
        {
          "name": "stdout",
          "output_type": "stream",
          "text": [
            "Sayı:17\n",
            "17 asal bir sayıdır.\n"
          ]
        }
      ]
    },
    {
      "cell_type": "markdown",
      "metadata": {
        "id": "a_rv0ZjtB_I7"
      },
      "source": [
        "Bir Sayının Tam Bölenleri"
      ]
    },
    {
      "cell_type": "code",
      "metadata": {
        "id": "DDOWl7oMB_I7"
      },
      "source": [
        "def bolen(sayı):\n",
        "  tam_bolenler = []\n",
        "\n",
        "  for i in range (2,sayı):\n",
        "    if sayı%i==0:\n",
        "      tam_bolenler.append(i)\n",
        "  return tam_bolenler\n",
        "\n",
        "while True:\n",
        "  sayı = input(\"Sayı:\")\n",
        "\n",
        "  if sayı==\"q\":\n",
        "    print(\"Program Sonlandırılıyor...\")\n",
        "    break\n",
        "  else:\n",
        "    sayı= int(sayı)\n",
        "    print(\"Tam bölenler:\", bolen(sayı))"
      ],
      "execution_count": null,
      "outputs": []
    },
    {
      "cell_type": "markdown",
      "metadata": {
        "id": "troupm2OCELY"
      },
      "source": [
        "Kullanıcıdan 2 basamaklı bir sayı alın ve bu sayının okunuşunu bulan bir fonksiyon yazın.\n",
        "\n",
        "Örnek: 97 ---------> Doksan Yedi"
      ]
    },
    {
      "cell_type": "code",
      "metadata": {
        "colab": {
          "base_uri": "https://localhost:8080/"
        },
        "id": "MA650wQNCIZp",
        "outputId": "238058bc-3c33-455c-b3fd-3e09ba8289e6"
      },
      "source": [
        "birler =  [\"\",\"Bir\",\"İki\",\"Üç\",\"Dört\",\"Beş\",\"Altı\",\"Yedi\",\"Sekiz\",\"Dokuz\"]\n",
        "onlar = [\"\",\"On\",\"Yirmi\",\"Otuz\",\"Kırk\",\"Elli\",\"Altmış\",\"Yetmiş\",\"Seksen\",\"Doksan\"]\n",
        "\n",
        "def okunus(sayı):\n",
        "  birinci = sayı%10\n",
        "  ikinci = sayı//10\n",
        "  return onlar[ikinci] +\" \"+ birler[birinci]\n",
        "\n",
        "sayı=int(input(\"Sayı Giriniz: \"))\n",
        "print(okunus(sayı))"
      ],
      "execution_count": 1,
      "outputs": [
        {
          "output_type": "stream",
          "text": [
            "Sayı Giriniz: 45\n",
            "Kırk Beş\n"
          ],
          "name": "stdout"
        }
      ]
    },
    {
      "cell_type": "markdown",
      "metadata": {
        "id": "maInH4D9F-ON"
      },
      "source": [
        "1'den 100'e kadar olan sayılardan pisagor üçgeni oluşturanları ekrana yazdıran bir fonksiyon yazın.(a <= 100,b <= 100"
      ]
    },
    {
      "cell_type": "code",
      "metadata": {
        "id": "No2kPJkdC_br"
      },
      "source": [
        "def pisagor_bulma():\n",
        "  pisagor_listesi=list()\n",
        "  for i in range(1,101):\n",
        "    for j in range(1,101):\n",
        "      c=(i**2 +j**2)**0.5\n",
        "\n",
        "      if c==int(c):\n",
        "        pisagor_listesi.append((i,j,int(c)))\n",
        "\n",
        "  return pisagor_listesi\n",
        "\n",
        "for i in pisagor_bulma():\n",
        "  print(i)"
      ],
      "execution_count": null,
      "outputs": []
    }
  ]
}