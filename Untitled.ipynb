{
  "nbformat": 4,
  "nbformat_minor": 0,
  "metadata": {
    "kernelspec": {
      "display_name": "Python 3",
      "language": "python",
      "name": "python3"
    },
    "language_info": {
      "codemirror_mode": {
        "name": "ipython",
        "version": 3
      },
      "file_extension": ".py",
      "mimetype": "text/x-python",
      "name": "python",
      "nbconvert_exporter": "python",
      "pygments_lexer": "ipython3",
      "version": "3.8.5"
    },
    "colab": {
      "name": "Untitled.ipynb",
      "provenance": [],
      "include_colab_link": true
    }
  },
  "cells": [
    {
      "cell_type": "markdown",
      "metadata": {
        "id": "view-in-github",
        "colab_type": "text"
      },
      "source": [
        "<a href=\"https://colab.research.google.com/github/mslmyrtd/Python-Worksheet/blob/main/Untitled.ipynb\" target=\"_parent\"><img src=\"https://colab.research.google.com/assets/colab-badge.svg\" alt=\"Open In Colab\"/></a>"
      ]
    },
    {
      "cell_type": "code",
      "metadata": {
        "id": "jiHpyRwgWOib",
        "outputId": "13ae74cb-3af6-4fea-f0de-d114bdce08e3"
      },
      "source": [
        "for x in set('pqr'):\n",
        "    print(x*2)\n"
      ],
      "execution_count": null,
      "outputs": [
        {
          "name": "stdout",
          "output_type": "stream",
          "text": [
            "pp\n",
            "qq\n",
            "rr\n"
          ]
        }
      ]
    },
    {
      "cell_type": "code",
      "metadata": {
        "id": "PQNET28XWOig",
        "outputId": "b4a236a2-86b6-4883-cfec-345f02135e9b"
      },
      "source": [
        "str = \"Python Software Foundation\"\n",
        "s = str.split()\n",
        "print(s)\n",
        "s = sorted(s)\n",
        "print(s)\n",
        "s = \" \".join(s)\n",
        "print(s)\n",
        "print(s[2:5])"
      ],
      "execution_count": null,
      "outputs": [
        {
          "name": "stdout",
          "output_type": "stream",
          "text": [
            "['Python', 'Software', 'Foundation']\n",
            "['Foundation', 'Python', 'Software']\n",
            "Foundation Python Software\n",
            "und\n"
          ]
        }
      ]
    },
    {
      "cell_type": "markdown",
      "metadata": {
        "id": "ty0g1OB_WOij"
      },
      "source": [
        "Give two strings from user , s1, and s2 return a new string made of the first, middle, and last characters each input string\n"
      ]
    },
    {
      "cell_type": "code",
      "metadata": {
        "id": "OlERa31NWOik"
      },
      "source": [
        "s1= input(\"Harf sayısı tek olan kelime giriniz: \")\n",
        "s2= input(\"harf sayısı tek olan kelime giriniz:\")\n",
        "middle_ch_s1 = int((len(s1))/2)\n",
        "middle_ch_s2=int(len(s2)/2)\n",
        "print(s1[0]+s2[0]+s1[middle_ch_s1]+ s2[middle_ch_s2]+s1[-1]+s2[-1])"
      ],
      "execution_count": null,
      "outputs": []
    },
    {
      "cell_type": "markdown",
      "metadata": {
        "id": "UKxe8K4LWOil"
      },
      "source": [
        "mail = \"from Ahmet, mail to: abcxyz@gmail.com  15:1990:01\"\n",
        "Yukarıdaki mail değişkenine atanan değerden, sadece domain kısmını, \"gmail.com\" bölümünü çıktı verecek kodu yazınız. "
      ]
    },
    {
      "cell_type": "code",
      "metadata": {
        "id": "1P7TL5iXWOil"
      },
      "source": [
        "mail = \"from Ahmet, mail to: abcxyz@gmail.com  15:1990:01\"\n",
        "start=mail.find(\"@\")\n",
        "end = mail.find(\"com\")\n",
        "print(mail[start+1:end+3])"
      ],
      "execution_count": null,
      "outputs": []
    },
    {
      "cell_type": "code",
      "metadata": {
        "id": "7bFdZabEWOim",
        "outputId": "bf12e4f6-4569-4bd1-bdfe-6dbb5a53825a"
      },
      "source": [
        "d = {\"john\":40, \"peter\":45}\n",
        "print(list(d.keys()))"
      ],
      "execution_count": null,
      "outputs": [
        {
          "name": "stdout",
          "output_type": "stream",
          "text": [
            "['john', 'peter']\n"
          ]
        }
      ]
    },
    {
      "cell_type": "code",
      "metadata": {
        "id": "lE-cW1tLWOim",
        "outputId": "1eb69cd6-c678-4dd3-b8d5-a99367bc1edd"
      },
      "source": [
        "a={}\n",
        "a['a']=1\n",
        "a['b']=[2,3,4]\n",
        "print(a)\n"
      ],
      "execution_count": null,
      "outputs": [
        {
          "name": "stdout",
          "output_type": "stream",
          "text": [
            "{'a': 1, 'b': [2, 3, 4]}\n"
          ]
        }
      ]
    },
    {
      "cell_type": "code",
      "metadata": {
        "id": "5YVQtX1OWOin",
        "outputId": "f96b0349-eaed-4588-ff17-b1101090d5fe"
      },
      "source": [
        "z=set('abc')\n",
        "z.add('san')\n",
        "z.update(set(['p', 'q']))\n",
        "print(z)"
      ],
      "execution_count": null,
      "outputs": [
        {
          "name": "stdout",
          "output_type": "stream",
          "text": [
            "{'san', 'a', 'c', 'b', 'p', 'q'}\n"
          ]
        }
      ]
    },
    {
      "cell_type": "markdown",
      "metadata": {
        "id": "nPs2fYZPWOin"
      },
      "source": [
        "Is the Word an Isogram?"
      ]
    },
    {
      "cell_type": "code",
      "metadata": {
        "id": "X1Zwzo_FWOio"
      },
      "source": [
        "def is_isogram(txt):\n",
        "  return len(txt) == len(set(txt.lower()))\n",
        "  \n",
        "  for letter in txt:\n",
        "    if txt.count(letter)>1:\n",
        "      return False\n",
        "    else:\n",
        "      True\n"
      ],
      "execution_count": null,
      "outputs": []
    },
    {
      "cell_type": "markdown",
      "metadata": {
        "id": "8KAiLSWMWOio"
      },
      "source": [
        "In this little assignment you are given a string of space separated numbers, and have to return the highest and lowest number."
      ]
    },
    {
      "cell_type": "code",
      "metadata": {
        "id": "Q9iTQlqKWOip",
        "outputId": "0d25e9a8-125b-4cab-e314-b089a6791cee"
      },
      "source": [
        "def highest_lowest_num(str1):\n",
        "  num_list = list(map(int, str1.split()))\n",
        "  return max(num_list), min(num_list)\n",
        "highest_lowest_num(\"8 45 98 -5 82 -45\")"
      ],
      "execution_count": null,
      "outputs": [
        {
          "data": {
            "text/plain": [
              "(98, -45)"
            ]
          },
          "execution_count": 3,
          "metadata": {},
          "output_type": "execute_result"
        }
      ]
    },
    {
      "cell_type": "markdown",
      "metadata": {
        "id": "JLpNm5LSWOiq"
      },
      "source": [
        "# ATM Makinesi"
      ]
    },
    {
      "cell_type": "code",
      "metadata": {
        "id": "7yFROiBKWOiq",
        "outputId": "12af325e-9699-428b-a301-a5afae9e85fe"
      },
      "source": [
        "print(\"\"\"****************\n",
        "ATM Makinesine Hoşgeldiniz.\n",
        "İşlemler:\n",
        "1. Bakiye Sorgulama\n",
        "\n",
        "2. Para Yatırma\n",
        "\n",
        "3. Para Çekme\n",
        "\n",
        "\n",
        "*****************\"\"\")\n",
        "\n",
        "\n",
        "\n",
        "sys_kullanıcı_adı = \"barış\"\n",
        "sys_parola = \"12345\"\n",
        "giriş_hakkı = 3\n",
        "bakiye = 1000\n",
        "\n",
        "\n",
        "\n",
        "while True:\n",
        "  \n",
        "    \n",
        "    kullanıcı_adı = input(\"Please enter your user name:  \")\n",
        "    parola = input(\"Enter your password: \")\n",
        "    if kullanıcı_adı == sys_kullanıcı_adı and parola != sys_parola:\n",
        "        print(\"Parola Hatalı!\")\n",
        "        giriş_hakkı -=1\n",
        "    elif  kullanıcı_adı != sys_kullanıcı_adı and parola == sys_parola:\n",
        "        print(\"Kullanıcı Adı Hatalı!\")\n",
        "        giriş_hakkı -=1\n",
        "    elif  kullanıcı_adı != sys_kullanıcı_adı and parola != sys_parola:\n",
        "        print(\"Parola ve Kullanıcı Adı Hatalı\")\n",
        "        giriş_hakkı -=1\n",
        "    else:\n",
        "        print(\"Sisteme Giriş Yapılıyor...\\nHoşgeldiniz Sayın {} Bey\".format(sys_kullanıcı_adı))\n",
        "    \n",
        "        while True:\n",
        "            işlem = input(\"İşlemi Seçiniz veya Sistemden Çıkmak İçin 'q' Basınız: \")\n",
        "            \n",
        "            if (işlem == \"q\"):\n",
        "                print(\"Sistemden Çıkış Yapılıyor...\\nYine Bekleriz\")\n",
        "                print()\n",
        "                print()\n",
        "                print()\n",
        "                print(\"\"\"****************\n",
        "ATM Makinesine Hoşgeldiniz.\n",
        "İşlemler:\n",
        "1. Bakiye Sorgulama\n",
        "\n",
        "2. Para Yatırma\n",
        "\n",
        "3. Para Çekme\n",
        "\n",
        "\n",
        "*****************\"\"\")\n",
        "                break\n",
        "            if (işlem == \"1\") :\n",
        "                print(\"Bakiyeniz {} tl dir.\".format(bakiye))\n",
        "            elif (işlem == \"2\") :\n",
        "                miktar = int(input(\"Yatıracağınız Miktarı Giriniz: \"))\n",
        "                bakiye += miktar\n",
        "                print(\"Hesabınıza {} TL Yatırdınız. \\nYeni Bakiyeniz {} tl dir.\".format(miktar,bakiye))        \n",
        "            elif (işlem == \"3\") :\n",
        "                 miktar = int(input(\"Çekeceğiniz Miktarı Giriniz: \"))\n",
        "                 if (bakiye- miktar < 0):\n",
        "                    print(\"Bakiye Yetersiz!\")\n",
        "                    continue\n",
        "                 bakiye -= miktar\n",
        "                 print(\"Paranız Hazırlanıyor... \\nKalan Bakiyeniz {} tl dir.\".format(bakiye))           \n",
        "            else:\n",
        "                print(\"Geçersiz İşlem !\")\n",
        "    if giriş_hakkı==0:\n",
        "        print(\"Giriş Hakkınız Sona Ermiştir!\")\n",
        "        break"
      ],
      "execution_count": null,
      "outputs": [
        {
          "name": "stdout",
          "output_type": "stream",
          "text": [
            "****************\n",
            "ATM Makinesine Hoşgeldiniz.\n",
            "İşlemler:\n",
            "1. Bakiye Sorgulama\n",
            "\n",
            "2. Para Yatırma\n",
            "\n",
            "3. Para Çekme\n",
            "\n",
            "\n",
            "*****************\n",
            "Please enter your user name:  barış\n",
            "Enter your password: 12345\n",
            "Sisteme Giriş Yapılıyor...\n",
            "Hoşgeldiniz Sayın barış Bey\n",
            "İşlemi Seçiniz veya Sistemden Çıkmak İçin 'q' Basınız: 1\n",
            "Bakiyeniz 1000 tl dir.\n",
            "İşlemi Seçiniz veya Sistemden Çıkmak İçin 'q' Basınız: 2\n",
            "Yatıracağınız Miktarı Giriniz: 1000\n",
            "Hesabınıza 1000 TL Yatırdınız. \n",
            "Yeni Bakiyeniz 2000 tl dir.\n",
            "İşlemi Seçiniz veya Sistemden Çıkmak İçin 'q' Basınız: 3\n",
            "Çekeceğiniz Miktarı Giriniz: 1500\n",
            "Paranız Hazırlanıyor... \n",
            "Kalan Bakiyeniz 500 tl dir.\n"
          ]
        }
      ]
    },
    {
      "cell_type": "markdown",
      "metadata": {
        "id": "1DrYi72iWOir"
      },
      "source": [
        "# Faktoriyel Bulma"
      ]
    },
    {
      "cell_type": "code",
      "metadata": {
        "id": "je5XU2DCWOis"
      },
      "source": [
        "while True:\n",
        "    sayı = input(\"Bir Sayı Giriniz veya Çıkmak İçin 'q' ya Basınız:  \")\n",
        "\n",
        "    if sayı==\"q\":\n",
        "        print(\"Programdan Çıkılıyor... \")\n",
        "    else:\n",
        "        faktöriyel = 1\n",
        "        sayı= int(sayı)\n",
        "        for i in range(2,sayı+1):\n",
        "            faktöriyel *=i\n",
        "        print(faktöriyel)\n",
        "        break"
      ],
      "execution_count": null,
      "outputs": []
    },
    {
      "cell_type": "markdown",
      "metadata": {
        "id": "z_xIjgYXWOis"
      },
      "source": [
        "# Fibonacci Numbers"
      ]
    },
    {
      "cell_type": "code",
      "metadata": {
        "id": "s3VB0lv1WOit",
        "outputId": "013b6508-174e-4038-9388-70ef9c8e8c16"
      },
      "source": [
        "a=1\n",
        "b=1\n",
        "\n",
        "fibonacci= [a,b]\n",
        "\n",
        "for i in range(8):\n",
        "  a,b=b,a+b\n",
        "  fibonacci.append(b)\n",
        "print(fibonacci)"
      ],
      "execution_count": null,
      "outputs": [
        {
          "name": "stdout",
          "output_type": "stream",
          "text": [
            "[1, 1, 2, 3, 5, 8, 13, 21, 34, 55]\n"
          ]
        }
      ]
    },
    {
      "cell_type": "code",
      "metadata": {
        "id": "QjgZPos6WOit",
        "outputId": "90a1c9f6-2006-4893-baf4-ba2d24f7443e"
      },
      "source": [
        "first_ten = [0, 1, 2, 3, 4, 5, 6, 7, 8, 9]\n",
        "even = filter(lambda x:x%2==0, first_ten)\n",
        "print(\"Even numbers are :\", list(even))"
      ],
      "execution_count": null,
      "outputs": [
        {
          "name": "stdout",
          "output_type": "stream",
          "text": [
            "Even numbers are : [0, 2, 4, 6, 8]\n"
          ]
        }
      ]
    },
    {
      "cell_type": "code",
      "metadata": {
        "id": "WFHhfHSYWOiv",
        "outputId": "6bafccbe-64dd-4eb5-d2c9-c52e19aa4a4c"
      },
      "source": [
        "vowel_list = ['a', 'e', 'i', 'o', 'u']\n",
        "first_ten = ['a', 'b', 'c', 'd', 'e', 'f', 'g', 'h', 'i', 'j']\n",
        "vowels = filter(lambda x:True if x in vowel_list else False, first_ten)\n",
        "print(\"Vowels are :\", list(vowels))"
      ],
      "execution_count": null,
      "outputs": [
        {
          "name": "stdout",
          "output_type": "stream",
          "text": [
            "Vowels are : ['a', 'e', 'i']\n"
          ]
        }
      ]
    },
    {
      "cell_type": "code",
      "metadata": {
        "id": "OfPwxrlmWOiy",
        "outputId": "10429806-5656-4c41-8486-83eb57ef9b3d"
      },
      "source": [
        "number_list = [1, 2, 3, 4, 5, 6, 7, 8, 9, 10]\n",
        "\n",
        "result = filter(lambda x: True if x>=6 else False, number_list)\n",
        "print(list(result))\n"
      ],
      "execution_count": null,
      "outputs": [
        {
          "name": "stdout",
          "output_type": "stream",
          "text": [
            "[6, 7, 8, 9, 10]\n"
          ]
        }
      ]
    },
    {
      "cell_type": "code",
      "metadata": {
        "id": "ijPszVtWWOi1",
        "outputId": "59f5c46c-2df1-4d55-d7e8-2fd4b8c35043"
      },
      "source": [
        "def modular_function(n):\n",
        "    return lambda x: x ** n\n",
        "    \n",
        "power_of_2 = modular_function(2)  \n",
        "power_of_3 = modular_function(3)  \n",
        "power_of_4 = modular_function(4)  \n",
        "\n",
        "print(power_of_2(2))  \n",
        "print(power_of_3(2))  \n",
        "print(power_of_4(2))  "
      ],
      "execution_count": null,
      "outputs": [
        {
          "name": "stdout",
          "output_type": "stream",
          "text": [
            "4\n",
            "8\n",
            "16\n"
          ]
        }
      ]
    },
    {
      "cell_type": "code",
      "metadata": {
        "id": "7Sg6Z8vrWOi3",
        "outputId": "80dd0949-885a-49af-f652-94195b460edb"
      },
      "source": [
        "sayı = int(input(\"sayı giriniz: \"))\n",
        "toplam=0\n",
        "for i in range(1,sayı):\n",
        "    if sayı%i==0:\n",
        "        toplam +=i\n",
        "        \n",
        "    \n",
        "if sayı==toplam:\n",
        "    print(sayı, \" Mükemmel Bir Sayıdır..\")\n",
        "else:\n",
        "    print(sayı, \" Mükemmel Bir Sayı Değildir\")"
      ],
      "execution_count": null,
      "outputs": [
        {
          "name": "stdout",
          "output_type": "stream",
          "text": [
            "sayı giriniz: 15\n",
            "15  Mükemmel Bir Sayı Değildir\n"
          ]
        }
      ]
    },
    {
      "cell_type": "code",
      "metadata": {
        "id": "9XJEG--2WOi4"
      },
      "source": [
        "sayı = int(input(\"Sayı Giriniz: \"))\n",
        "a=len(list(str(sayı)))\n",
        "c = int(a)\n",
        "b = sayı\n",
        "toplam=0\n",
        "count=0\n",
        "i=0\n",
        "while count<a:\n",
        "  i= sayı % 10\n",
        "  sayı = sayı//10\n",
        "  toplam= toplam + i**a\n",
        "  count +=1\n",
        "  print(i)\n",
        "\n",
        "if toplam==b:\n",
        "  print(b, \"is Armstrong Number\")\n",
        "else:\n",
        "  print(b, \" is not Armstrong Number\")\n"
      ],
      "execution_count": null,
      "outputs": []
    },
    {
      "cell_type": "code",
      "metadata": {
        "id": "2VCoNRs0WOi5"
      },
      "source": [
        "for i in range(1,11):\n",
        "  print(\"***********\")\n",
        "  for k in range(1,11):\n",
        "    print(i,\"*\", k,\"=\", i*k,)"
      ],
      "execution_count": null,
      "outputs": []
    },
    {
      "cell_type": "code",
      "metadata": {
        "id": "xzeUxDI9WOi5"
      },
      "source": [
        "toplam = 0\n",
        "\n",
        "while True:\n",
        "  try:\n",
        "    sayı= input(\"Lütfen Bir Sayı Giriniz veya Çıkmak İçin 'q' ya Basın: \")\n",
        "    a=int(sayı)\n",
        "    toplam += a\n",
        "    \n",
        "  except ValueError:\n",
        "    if sayı==\"q\":\n",
        "      print(\"Girdiğniz Sayıların Toplamı: \",toplam)\n",
        "      print(\"Programdan Çıkıldı...\")\n",
        "      break"
      ],
      "execution_count": null,
      "outputs": []
    },
    {
      "cell_type": "code",
      "metadata": {
        "id": "JHjfAzzTWOi6"
      },
      "source": [
        "liste=[]\n",
        "for i in range(1,101):\n",
        "  if i%3==0:\n",
        "    liste.append(i)\n",
        "print(liste)"
      ],
      "execution_count": null,
      "outputs": []
    },
    {
      "cell_type": "code",
      "metadata": {
        "id": "Q6vMu9CoWOi6"
      },
      "source": [
        "list = [x for x in range(1,101) if x%2==0]\n",
        "print(list)"
      ],
      "execution_count": null,
      "outputs": []
    },
    {
      "cell_type": "markdown",
      "metadata": {
        "id": "erRJEzeBWOi7"
      },
      "source": [
        "# Largest Number"
      ]
    },
    {
      "cell_type": "code",
      "metadata": {
        "id": "GK1vRV_AWOi7",
        "outputId": "25c56eb2-ae2d-4906-d65d-5c42f400587f"
      },
      "source": [
        "mylist=[]\n",
        "size= int(input(\"How many elements you want to enter? \"))\n",
        "print(\"Enter\", str(size), \"positive numbers\")\n",
        "\n",
        "for i in range(size):\n",
        "  number=int(input(\"number: \"))\n",
        "  mylist.append(number)\n",
        "\n",
        "largest=0\n",
        "for number in mylist:\n",
        "  if number > largest:\n",
        "    largest=number\n",
        "\n",
        "print(\"The largest number in list is\", largest)\n",
        "    \n"
      ],
      "execution_count": null,
      "outputs": [
        {
          "name": "stdout",
          "output_type": "stream",
          "text": [
            "How many elements you want to enter? 5\n",
            "Enter 5 positive numbers\n",
            "number: 5\n",
            "number: 6\n",
            "number: 7\n",
            "number: 88\n",
            "number: 78\n",
            "The largest number in list is 88\n"
          ]
        }
      ]
    },
    {
      "cell_type": "code",
      "metadata": {
        "id": "BZMps-3yWOi7"
      },
      "source": [
        "def faktoriyel(sayı):\n",
        "    faktoriyel = 1\n",
        "    if sayı==0 or sayı==1:\n",
        "        print(\"Faktoriyel\", faktoriyel)\n",
        "    else:\n",
        "        while sayı>=1:\n",
        "            faktoriyel = faktoriyel*sayı\n",
        "            sayı -= 1\n",
        "            \n",
        "        print(\"Faktoriyel\", faktoriyel)"
      ],
      "execution_count": null,
      "outputs": []
    },
    {
      "cell_type": "code",
      "metadata": {
        "id": "BfvRbZldWOi8",
        "outputId": "752c0661-0669-4b95-b732-ab92ea59cb68"
      },
      "source": [
        "faktoriyel(5)"
      ],
      "execution_count": null,
      "outputs": [
        {
          "name": "stdout",
          "output_type": "stream",
          "text": [
            "Faktoriyel 120\n"
          ]
        }
      ]
    },
    {
      "cell_type": "markdown",
      "metadata": {
        "id": "HhvesIb_WOi8"
      },
      "source": [
        "# Anagram"
      ]
    },
    {
      "cell_type": "code",
      "metadata": {
        "id": "UsdIc2XhWOi9"
      },
      "source": [
        "strs = [\"eat\", \"tea\", \"tan\", \"ate\", \"nat\", \"bat\", \"cat\", \"tac\"]\n",
        "anag = {}\n",
        "\n",
        "for i in strs:\n",
        "    element = \"\".join(sorted(i))\n",
        "    \n",
        "    if element in anag:\n",
        "        anag[element].append(i)\n",
        "    else:\n",
        "        anag[element] = [i]\n",
        "print(list(anag.items()))\n",
        "\n",
        "    "
      ],
      "execution_count": null,
      "outputs": []
    },
    {
      "cell_type": "markdown",
      "metadata": {
        "id": "x7Bx5BmTWOi9"
      },
      "source": [
        "Define a function to take a word and return negative meaning.\n",
        "Given a word, return a new word where \"not \" has been added to the front. However, if the word already begins with \"not\", return the string unchanged."
      ]
    },
    {
      "cell_type": "code",
      "metadata": {
        "id": "0um7LFPaWOi9"
      },
      "source": [
        "def not_string(word):\n",
        "  words=word.split()\n",
        "  if not word in words:\n",
        "    return word\n",
        "    \n",
        "  else:\n",
        "    return \"not \"+ word\n",
        "\n",
        "not_string(\"sugar\")"
      ],
      "execution_count": null,
      "outputs": []
    },
    {
      "cell_type": "markdown",
      "metadata": {
        "id": "HVEB64tUWOi-"
      },
      "source": [
        "#Asal Sayı"
      ]
    },
    {
      "cell_type": "code",
      "metadata": {
        "id": "hJezimmIWOi-",
        "outputId": "713dd4e7-2364-4532-d327-d84ccd24e95d"
      },
      "source": [
        "def asal(sayı):\n",
        "  if sayı==1:\n",
        "    return False\n",
        "  elif sayı ==2:\n",
        "    return True\n",
        "  else:\n",
        "    for i in range(2,sayı):\n",
        "      if sayı%i ==0:\n",
        "        return False\n",
        "    return True\n",
        "while True:\n",
        "  sayı=input(\"Sayı:\")\n",
        "\n",
        "  if (sayı==\"q\"):\n",
        "    print(\"Programdan Çıkıldı..\")\n",
        "    break\n",
        "  else:\n",
        "    sayı= int(sayı)\n",
        "    if asal(sayı):\n",
        "      print(sayı, \"asal bir sayıdır.\")\n",
        "    else:\n",
        "      print(sayı,\"asal bir sayı değildir.\")\n"
      ],
      "execution_count": null,
      "outputs": [
        {
          "name": "stdout",
          "output_type": "stream",
          "text": [
            "Sayı:17\n",
            "17 asal bir sayıdır.\n"
          ]
        }
      ]
    },
    {
      "cell_type": "markdown",
      "metadata": {
        "id": "8ir2sJ1vWOi_"
      },
      "source": [
        "Bir Sayının Tam Bölenleri"
      ]
    },
    {
      "cell_type": "code",
      "metadata": {
        "id": "-KISmYHZWOi_"
      },
      "source": [
        "def bolen(sayı):\n",
        "  tam_bolenler = []\n",
        "\n",
        "  for i in range (2,sayı):\n",
        "    if sayı%i==0:\n",
        "      tam_bolenler.append(i)\n",
        "  return tam_bolenler\n",
        "\n",
        "while True:\n",
        "  sayı = input(\"Sayı:\")\n",
        "\n",
        "  if sayı==\"q\":\n",
        "    print(\"Program Sonlandırılıyor...\")\n",
        "    break\n",
        "  else:\n",
        "    sayı= int(sayı)\n",
        "    print(\"Tam bölenler:\", bolen(sayı))"
      ],
      "execution_count": null,
      "outputs": []
    },
    {
      "cell_type": "markdown",
      "metadata": {
        "id": "BFzh7gA8WOi_"
      },
      "source": [
        "# Show me my way, please!"
      ]
    },
    {
      "cell_type": "code",
      "metadata": {
        "id": "qCvoA69NWOi_"
      },
      "source": [
        "c = [\"right 20\", \"right 30\", \"left 50\", \"up 10\", \"down 20\"]"
      ],
      "execution_count": null,
      "outputs": []
    },
    {
      "cell_type": "code",
      "metadata": {
        "id": "y-WML_qwWOjB"
      },
      "source": [
        "# [0, -10]"
      ],
      "execution_count": null,
      "outputs": []
    },
    {
      "cell_type": "code",
      "metadata": {
        "id": "r4TlQXniWOjB",
        "outputId": "00798c21-b060-4d15-b5c2-fb859bb8c392"
      },
      "source": [
        "x=y=0\n",
        "for i in range(len(c)):\n",
        "    if c[i].startswith(\"r\")   : x = x + int(c[i].split()[1])\n",
        "    elif c[i].startswith(\"l\") : x = x - int(c[i].split()[1])\n",
        "    elif c[i].startswith(\"u\") : y = y + int(c[i].split()[1])\n",
        "    elif c[i].startswith(\"d\") : y = y - int(c[i].split()[1])\n",
        "        \n",
        "[x, y]"
      ],
      "execution_count": null,
      "outputs": [
        {
          "data": {
            "text/plain": [
              "[0, -10]"
            ]
          },
          "execution_count": 3,
          "metadata": {},
          "output_type": "execute_result"
        }
      ]
    },
    {
      "cell_type": "markdown",
      "metadata": {
        "id": "MBCM66BSWOjC"
      },
      "source": [
        "Task : Print the Fizz Buzz numbers.\n",
        "\n",
        "Fizz Buzz is a famous code challenge used in interviews to test basic programming skills. It's time to write your own implementation.\n",
        "Print numbers from 1 to 100 inclusively following these instructions:\n",
        "1.if a number is multiple of 3, print \"Fizz\" instead of this number,\n",
        "2.if a number is multiple of 5, print \"Buzz\" instead of this number,\n",
        "3.for numbers that are multiples of both 3 and 5, print \"FizzBuzz\",\n",
        "print the rest of the numbers unchanged.\n",
        "Output each value on a separate line.\n"
      ]
    },
    {
      "cell_type": "code",
      "metadata": {
        "id": "6njnYz-vWOjC"
      },
      "source": [
        "for i in range(1,101):\n",
        "  if i % 3 ==0 and i%5 !=0 :\n",
        "    print(i, \"Fizz\")\n",
        "  elif i % 5==0 and i%3 !=0:\n",
        "    print(i, \"Buzz\")\n",
        "  elif i%3==0 and i%5==0:\n",
        "    print(i, \"FizzBuzz\")\n",
        "  else:\n",
        "    print(i)\n",
        "  "
      ],
      "execution_count": null,
      "outputs": []
    },
    {
      "cell_type": "markdown",
      "metadata": {
        "id": "T9eME7RNWOjD"
      },
      "source": [
        "Problem Statement\n",
        "Write a function/functions that checks whether the sentence you get from the user is a palindrome. (Do not consider punctuation and special characters. Only consider \"alphanumeric\" characters.)"
      ]
    },
    {
      "cell_type": "code",
      "metadata": {
        "id": "AYGNNx0IWOjD"
      },
      "source": [
        "punctuations = '''!()-[]{};:'\"\\,<>./?@#$%^&*_~'''\n",
        "while True:\n",
        "  s= input(\"Please enter a word or sentence :\")\n",
        "  no_punct=\"\"\n",
        "  for i in s:\n",
        "    if i not in punctuations:\n",
        "      no_punct=no_punct + i\n",
        "    \n",
        "  if no_punct== no_punct[::-1]:\n",
        "    print(\"Yes\")\n",
        "  else:\n",
        "    print(\"No\")\n",
        "    break\n"
      ],
      "execution_count": null,
      "outputs": []
    },
    {
      "cell_type": "code",
      "metadata": {
        "id": "Xad31lM0WXGU"
      },
      "source": [
        ""
      ],
      "execution_count": null,
      "outputs": []
    },
    {
      "cell_type": "markdown",
      "metadata": {
        "id": "mPed5J3-WXxP"
      },
      "source": [
        "1'den 1000'e kadar olan sayılardan mükemmel sayı olanları ekrana yazdırın. Bunun için bir sayının mükemmel olup olmadığını dönen bir tane fonksiyon yazın.\n",
        "\n",
        "Bir sayının bölenlerinin toplamı kendine eşitse bu sayı mükemmel bir sayıdır. Örnek olarak 6 mükemmel bir sayıdır (1 + 2 + 3 = 6)."
      ]
    },
    {
      "cell_type": "code",
      "metadata": {
        "id": "zg3icc2LWamg"
      },
      "source": [
        "def mukemmel(sayı):\n",
        "  toplam=0\n",
        "  for i in range(1,sayı):\n",
        "    if (sayı%i==0):\n",
        "      toplam +=i\n",
        "  return toplam==sayı\n",
        "\n",
        "for i in range(1,1001):\n",
        "  if (mukemmel(i)):\n",
        "    print(\"Mükemmel Sayı: \", i)"
      ],
      "execution_count": null,
      "outputs": []
    }
  ]
}